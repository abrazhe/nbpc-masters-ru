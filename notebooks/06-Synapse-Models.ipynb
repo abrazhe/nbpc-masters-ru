{
 "cells": [
  {
   "cell_type": "markdown",
   "id": "736223e2",
   "metadata": {},
   "source": [
    "# Формальные модели синаптических проводимостей\n",
    "\n",
    "**По материалам статей:**\n",
    "\n",
    " - Destexhe, Mainen, Sejnowski. Synthesis of Models for Excitable Membranes, Synaptic Transmission and Neuromodulation Using a Common Kinetic Formalism. *Journal of Computational Neuroscience*, **1**, 195–230 (1994)\n",
    "\n",
    "\n",
    " - Destexhe, Mainen, Sejnowski. An Efficient Method for Computing Synaptic Conductances Based on a Kinetic Model of Receptor Binding. *Neural Computation* **6**, 14–18 (1994)"
   ]
  },
  {
   "cell_type": "code",
   "execution_count": null,
   "id": "9157fac4",
   "metadata": {
    "nbpresent": {
     "id": "378845b7-c17c-4ea7-a9fb-4e0a1f39d894"
    },
    "slideshow": {
     "slide_type": "skip"
    }
   },
   "outputs": [],
   "source": [
    "#%pylab inline\n",
    "%matplotlib inline"
   ]
  },
  {
   "cell_type": "code",
   "execution_count": null,
   "id": "6c0f55d1",
   "metadata": {},
   "outputs": [],
   "source": [
    "from matplotlib import pyplot as plt\n",
    "import matplotlib as mpl\n",
    "\n",
    "from matplotlib.pyplot import colorbar, close, figure, gca, gcf, imshow, plot, setp, subplots\n",
    "from matplotlib.pyplot import title, suptitle, ylabel, xlabel, xlim, ylim\n",
    "from matplotlib.pyplot import legend\n",
    "\n",
    "import numpy as np\n",
    "from numpy import linalg\n",
    "\n",
    "\n",
    "# import most often used functions\n",
    "from numpy import array, arange, clip, ones, percentile, where, zeros\n",
    "from numpy import exp, tanh, log\n",
    "\n",
    "from numpy.linalg import svd\n",
    "from numpy.random import permutation"
   ]
  },
  {
   "cell_type": "code",
   "execution_count": null,
   "id": "2b5f68b6",
   "metadata": {
    "nbpresent": {
     "id": "e5d407b0-d9d7-4253-83f8-196c7bce4e0f"
    },
    "slideshow": {
     "slide_type": "skip"
    }
   },
   "outputs": [],
   "source": [
    "#rc('axes',grid=True)\n",
    "#rc('grid',color=(0.9,)*3,ls=':')"
   ]
  },
  {
   "cell_type": "code",
   "execution_count": null,
   "id": "a87450bf",
   "metadata": {
    "nbpresent": {
     "id": "34ccfb62-3de0-452f-949d-373ff547d576"
    },
    "slideshow": {
     "slide_type": "skip"
    }
   },
   "outputs": [],
   "source": [
    "plt.style.use(['ggplot','seaborn-v0_8-muted'])\n",
    "mpl.rc('figure', figsize=(9,9*0.618), dpi=150)"
   ]
  },
  {
   "cell_type": "markdown",
   "id": "48b36fde",
   "metadata": {
    "nbpresent": {
     "id": "65628534-c5be-43d2-994d-3e004a9105d9"
    },
    "slideshow": {
     "slide_type": "slide"
    }
   },
   "source": [
    "## Постсинаптические проводимости"
   ]
  },
  {
   "cell_type": "code",
   "execution_count": null,
   "id": "931472a7",
   "metadata": {
    "nbpresent": {
     "id": "5a1d8f36-fe4a-4d45-b272-96e8803f5805"
    },
    "slideshow": {
     "slide_type": "fragment"
    }
   },
   "outputs": [],
   "source": [
    "def single_exp(t,ts=0,tau=3.):\n",
    "    return np.exp(-(t-ts)/tau)*(t>=ts)\n",
    "\n",
    "def alpha_func(t, ts=0, tau=3.):\n",
    "    return np.e*(t-ts)/tau*np.exp(-(t-ts)/tau)*(t>=ts)\n",
    "\n",
    "def double_exp_u(t,ts=0,tau1=2,tau2=3.):\n",
    "    return (t>=ts)*(tau1*tau2/(tau1-tau2))*(np.exp(-(t-ts)/tau1) - np.exp(-(t-ts)/tau2))\n",
    "\n",
    "def double_exp(t,ts=0,tau_r=2,tau_d=3.):\n",
    "    tmax = ts + log(tau_d/tau_r)*tau_r*tau_d/(tau_d-tau_r)\n",
    "    vmax = double_exp_u(tmax,ts,tau_r,tau_d)\n",
    "    return double_exp_u(t,ts,tau_r,tau_d)/vmax"
   ]
  },
  {
   "cell_type": "code",
   "execution_count": null,
   "id": "8054d9df",
   "metadata": {
    "nbpresent": {
     "id": "a0f634cc-0461-4d02-ab55-d725c8a7cf63"
    },
    "slideshow": {
     "slide_type": "skip"
    }
   },
   "outputs": [],
   "source": [
    "tx = arange(0,12,0.01)"
   ]
  },
  {
   "cell_type": "code",
   "execution_count": null,
   "id": "6e75c2e6",
   "metadata": {
    "nbpresent": {
     "id": "3007eb44-6734-4c70-b6c2-415e46d1f328"
    },
    "slideshow": {
     "slide_type": "slide"
    }
   },
   "outputs": [],
   "source": [
    "plot(tx,single_exp(tx,1,3),label='single-exp')\n",
    "plot(tx,alpha_func(tx,1,1),label='alpha-func')\n",
    "plot(tx,double_exp(tx,1,1,3),label='double-exp')\n",
    "legend()\n",
    "xlabel('время, мс')\n",
    "title('нормированные постсинаптические проводимости')"
   ]
  },
  {
   "cell_type": "code",
   "execution_count": null,
   "id": "0eef38f9",
   "metadata": {
    "nbpresent": {
     "id": "1a66bf75-4f46-4c07-9939-a1ef1af3d1aa"
    },
    "slideshow": {
     "slide_type": "slide"
    }
   },
   "outputs": [],
   "source": [
    "spike_times = arange(1,10,2)\n",
    "\n",
    "tx = arange(0,20,0.1)\n",
    "gsyn = sum(alpha_func(tx,ti,1.5) for ti in spike_times)\n",
    "plot(tx, gsyn)\n",
    "plot(spike_times,[-0.5]*len(spike_times), 'r|',mew=3)\n",
    "xlabel('время, мс')\n",
    "ylabel('g$_{syn}$')\n",
    "title('Ответ на серию спайков')"
   ]
  },
  {
   "cell_type": "markdown",
   "id": "0cf3526f",
   "metadata": {
    "slideshow": {
     "slide_type": "fragment"
    }
   },
   "source": [
    "Но если использовать такое описание, нужно хранить список недавних спайков..."
   ]
  },
  {
   "cell_type": "code",
   "execution_count": null,
   "id": "4885bcd8",
   "metadata": {
    "jupyter": {
     "outputs_hidden": true
    }
   },
   "outputs": [],
   "source": []
  },
  {
   "cell_type": "markdown",
   "id": "084d5cbb",
   "metadata": {},
   "source": [
    "####  Зависимость от потенциала и концентрации Mg<sup>2+</sup>: NMDA\n",
    "\n",
    "\\begin{equation}\n",
    "g_\\mathrm{NMDA} = \n",
    "\\bar{g}_{syn}\\frac{\\exp(-\\frac{t-t_s}{\\tau_r}) - \\exp(-\\frac{t-t_s}{\\tau_d})}{1 + \\mu[\\mathrm{Mg}^{2+}]e^{-\\gamma V}}\n",
    "\\end{equation}"
   ]
  },
  {
   "cell_type": "markdown",
   "id": "90d2622d",
   "metadata": {},
   "source": [
    "### Кинетические схемы\n",
    "\n",
    "#### AMPA рецепторы (простая схема)\n",
    "\n",
    "$C \\overset{r_1}{\\underset{r_2}\\rightleftarrows} O   \\overset{r_3}{\\underset{r_4}\\rightleftarrows} D$"
   ]
  },
  {
   "cell_type": "code",
   "execution_count": null,
   "id": "be4d3e28",
   "metadata": {},
   "outputs": [],
   "source": [
    "from scipy.interpolate import UnivariateSpline as usp\n",
    "\n",
    "def I_pulse(tx, amp, start, stop,k=10):\n",
    "    return amp*0.5*(1 + tanh(k*(tx-start)) * tanh(k*(-tx+stop)))\n",
    "\n",
    "def I_ramp(tx, k, start=50,stop=1000):\n",
    "    #return  k*(tx-start)*I_pulse(tx, 1, start, stop)\n",
    "    return usp(tx, k*(tx-start)*I_pulse(tx, 1, start, stop),s=0)\n",
    "\n",
    "\n",
    "def make_pulses(tv, npulses=5, period=5, start=100, amp=5, width=1,steep=10.):\n",
    "    onsets = arange(start, start+npulses*period,period)\n",
    "    y = sum(I_pulse(tv, amp, on, on+width,k=steep) for on in onsets)\n",
    "    return usp(tv, y, s=0)\n",
    "\n",
    "def combine_interpolations(tv, signals):\n",
    "    y = sum(s(tv) for s in signals)\n",
    "    return usp(tv, y, s=0)\n"
   ]
  },
  {
   "cell_type": "code",
   "execution_count": null,
   "id": "ded378c7",
   "metadata": {},
   "outputs": [],
   "source": [
    "class SelfAdvancingODE:\n",
    "    def advance(self, t, dt):\n",
    "        fnew = self.rhs(t)\n",
    "        xnew = self.state + 0.5*dt*(3*fnew - self.fprev)\n",
    "        self.state = xnew\n",
    "        self.fprev = fnew\n",
    "        return xnew    \n",
    "\n",
    "class AMPAR(SelfAdvancingODE):\n",
    "    def __init__(self, g_source, gmax=1, r1=0.960,r2=0.190,r3=0.020,r4=0.015,):\n",
    "        self.state = array((0,0)) # prob(open), prob(desensitized)\n",
    "        self.fprev = 0\n",
    "        self.g_source = g_source\n",
    "        self.rates = [r1,r2,r3,r4]\n",
    "        self.gmax=gmax\n",
    "    @property\n",
    "    def c(self):\n",
    "        return 1-np.sum(self.state)\n",
    "    @property\n",
    "    def g(self):\n",
    "        return self.gmax*self.state[0]\n",
    "    def isyn(self,V):\n",
    "        return self.g*V\n",
    "    def rhs(self,t):\n",
    "        # G is glutamate conc. in mM\n",
    "        c,o,d = self.c, self.state[0],self.state[1]\n",
    "        G = self.g_source(t)\n",
    "        r1,r2,r3,r4 = self.rates\n",
    "        vdesens = r4*d - r3*o\n",
    "        do = c*r1*G - r2*o  + vdesens\n",
    "        dd = -vdesens\n",
    "        return array((do,dd))"
   ]
  },
  {
   "cell_type": "code",
   "execution_count": null,
   "id": "98efaf7c",
   "metadata": {},
   "outputs": [],
   "source": [
    "tvx = arange(0,110,0.1)\n",
    "glu_pulses = make_pulses(tvx, 10, period=10, width=1,start=10, amp=1)\n",
    "plot(tvx,glu_pulses(tvx))\n",
    "title('импульсы глутамата')\n",
    "xlabel('время, мс')"
   ]
  },
  {
   "cell_type": "code",
   "execution_count": null,
   "id": "154b7428",
   "metadata": {},
   "outputs": [],
   "source": [
    "r = AMPAR(glu_pulses)\n",
    "\n",
    "Vm = -65\n",
    "h = 0.1\n",
    "\n",
    "tv = np.arange(0,130,h)\n",
    "gsyn = np.zeros_like(tv)\n",
    "isyn = np.zeros_like(tv)\n",
    "\n",
    "for i,t in enumerate(tv):\n",
    "    o,d = r.advance(t,h)\n",
    "    gsyn[i] = r.g\n",
    "    isyn[i] = r.isyn(Vm)"
   ]
  },
  {
   "cell_type": "code",
   "execution_count": null,
   "id": "76ab8c13",
   "metadata": {},
   "outputs": [],
   "source": [
    "f,axs = subplots(2,1,sharex=True)\n",
    "\n",
    "axs[0].plot(tv,  gsyn)\n",
    "axs[0].set_title(\"Проводимость AMPA-рецепторов в синапсе (@100 Гц)\\n с учетом десенситизации\")\n",
    "\n",
    "axs[1].plot(tv,  isyn,color='tomato')\n",
    "axs[1].set_title(\"постсинаптический ток, $\\mu$A (Vm=const=-65 мВ)\")\n",
    "\n",
    "axs[1].set_xlabel('время, мс')"
   ]
  },
  {
   "cell_type": "code",
   "execution_count": null,
   "id": "da331311",
   "metadata": {},
   "outputs": [],
   "source": [
    "class NMDAR(SelfAdvancingODE):\n",
    "    def __init__(self, g_source, gmax=0.1, Mg=1.5,\n",
    "                 rb=5, ru=13e-3, rd=8.4e-3, \n",
    "                 rr=6.8e-3,ro=45.6e-3,rc=73.8e-3):\n",
    "        self.state = array((0,0,0,0)) # p(open),p(desensetized),p(c2),p(c1)\n",
    "        self.fprev = 0\n",
    "        self.g_source = g_source\n",
    "        self.rates = [rb,ru,rd,rr,ro,rc]\n",
    "        self.gmax=gmax\n",
    "        self.Mg=Mg\n",
    "    @property\n",
    "    def c0(self):\n",
    "        return 1-np.sum(self.state)\n",
    "    @property\n",
    "    def g(self):\n",
    "        return self.gmax*self.state[0]\n",
    "    def vblock(self,V):\n",
    "        return 1/(1 + exp(-0.062*V)*self.Mg/3.57)\n",
    "    def isyn(self,V):\n",
    "        return self.g*self.vblock(V)*V\n",
    "    def rhs(self,t):\n",
    "        # G is glutamate conc. in mM\n",
    "        o,d,c2,c1 = self.state\n",
    "        c0 = self.c0\n",
    "        G = self.g_source(t)\n",
    "        rb,ru,rd,rr,ro,rc = self.rates\n",
    "        \n",
    "        vdesens = rr*d - rd*c2\n",
    "        vopen = ro*c2 - rc*o\n",
    "        \n",
    "        do = vopen\n",
    "        dd = -vdesens    \n",
    "        dc2 = -vopen + vdesens + rb*G*c1 - ru*c2\n",
    "        dc1 = rb*G*(c0-c2) - ru*(c1-c2)\n",
    "        return array((do,dd,dc2,dc1))\n",
    "        "
   ]
  },
  {
   "cell_type": "code",
   "execution_count": null,
   "id": "28db4a4e",
   "metadata": {},
   "outputs": [],
   "source": [
    "rn = NMDAR(glu_pulses)\n",
    "\n",
    "Vm1,Vm2 = -65,-40\n",
    "\n",
    "tv = arange(0,500,h)\n",
    "\n",
    "gsyn = np.zeros_like(tv)\n",
    "isyn1 = np.zeros_like(tv)\n",
    "isyn2 = np.zeros_like(tv)\n",
    "\n",
    "for i,t in enumerate(tv):\n",
    "    rn.advance(t,h)\n",
    "    gsyn[i] = rn.g\n",
    "    isyn1[i] = rn.isyn(Vm1)\n",
    "    isyn2[i] = rn.isyn(Vm2)\n",
    "    \n"
   ]
  },
  {
   "cell_type": "code",
   "execution_count": null,
   "id": "fdfcb7f6",
   "metadata": {},
   "outputs": [],
   "source": [
    "vx = np.linspace(-70,0,100)\n",
    "plot(vx, rn.vblock(vx))\n",
    "title('Зависимость проводимости NMDAR от потенциала (Mg-блок)')\n",
    "xlabel('мембранный потенциал, мВ')"
   ]
  },
  {
   "cell_type": "code",
   "execution_count": null,
   "id": "e02b4db9",
   "metadata": {},
   "outputs": [],
   "source": [
    "f,axs = subplots(2,1,sharex=True)\n",
    "\n",
    "\n",
    "axs[0].plot(tv,  gsyn)\n",
    "axs[0].set_title(\"Макс. проводимость NMDA-рецепторов в синапсе (@100 Гц)\\n с учетом десенситизации\")\n",
    "\n",
    "axs[1].plot(tv,  isyn1,color='green',label='$V_m=%1.1f$'%Vm1)\n",
    "axs[1].plot(tv,  isyn2,color='tomato',label='$V_m=%1.1f$'%Vm2)\n",
    "axs[1].set_title(\"постсинаптический ток через NMDA, $\\mu$A\")\n",
    "axs[1].legend()\n",
    "\n",
    "axs[1].set_xlabel('время, мс')"
   ]
  },
  {
   "cell_type": "code",
   "execution_count": null,
   "id": "6c95ca9b",
   "metadata": {},
   "outputs": [],
   "source": [
    "class GABAAR(AMPAR):\n",
    "    def __init__(self, g_source, gmax=1, Vrev=-70, r1=0.2300,r2=0.170,r3=0.045,r4=0.067,):\n",
    "        self.state = array((0,0)) # prob(open), prob(desensetized)\n",
    "        self.fprev = 0\n",
    "        self.g_source = g_source\n",
    "        self.rates = [r1,r2,r3,r4]\n",
    "        self.gmax=gmax\n",
    "        self.Vr = Vrev\n",
    "    def isyn(self,V):\n",
    "        return self.g*(V-self.Vr)"
   ]
  },
  {
   "cell_type": "code",
   "execution_count": null,
   "id": "4d11e671",
   "metadata": {},
   "outputs": [],
   "source": [
    "rg = GABAAR(glu_pulses) # Используем импульсы глутамата вместо GABA\n",
    "\n",
    "Vm = -65\n",
    "\n",
    "gsyn = np.zeros_like(tv)\n",
    "isyn = np.zeros_like(tv)\n",
    "\n",
    "for i,t in enumerate(tv):\n",
    "    rg.advance(t,h)\n",
    "    gsyn[i] = rg.g\n",
    "    isyn[i] = rg.isyn(Vm)\n",
    "    \n",
    "    "
   ]
  },
  {
   "cell_type": "code",
   "execution_count": null,
   "id": "cf99e9a8",
   "metadata": {},
   "outputs": [],
   "source": [
    "f,axs = subplots(2,1,sharex=True)\n",
    "\n",
    "axs[0].plot(tv,  gsyn)\n",
    "axs[0].set_title(\"Проводимость GABAA-рецепторов в синапсе (@100 Гц)\\n с учетом десенситизации\")\n",
    "\n",
    "axs[1].plot(tv,  isyn,color='tomato')\n",
    "axs[1].set_title(\"постсинаптический ток, $\\mu$A ($V_m=Const= %1.1f$ мВ)\"%Vm)\n",
    "\n",
    "axs[1].set_xlabel('время, мс')"
   ]
  },
  {
   "cell_type": "markdown",
   "id": "83694ddc",
   "metadata": {},
   "source": [
    "##  Пресинаптическая кратковременная пластичность"
   ]
  },
  {
   "cell_type": "code",
   "execution_count": null,
   "id": "9311b904",
   "metadata": {},
   "outputs": [],
   "source": [
    "\n",
    "# Typical values for\n",
    "# depressing (pyr->pyr):  f=0, p0=0.5, tau_r = 800\n",
    "# facilitating (pyr->inter): f = 0.05, tau_r = 300, tau_f = 1500\n",
    "\n",
    "class TMSynapseDet(SelfAdvancingODE):\n",
    "    \"\"\"Tsodyks-Markram determenistic synapse wihth depression and facilitation\"\"\"\n",
    "    def __init__(self,spike_source,f=0.05,tau_r=300, tau_f=1500, p0=0.05):\n",
    "        self.state = array([1,p0]) # n,p\n",
    "        self.tau_r = tau_r\n",
    "        self.tau_f = tau_f\n",
    "        self.f = f\n",
    "        self.p0=p0\n",
    "        self.spikes = spike_source\n",
    "        self.fprev = 0\n",
    "    def rhs(self,t):\n",
    "        n,p = self.state\n",
    "        is_spike = self.spikes(t)\n",
    "        \n",
    "        dp = (self.p0-p)/self.tau_f + is_spike*self.f*(1-p)\n",
    "        dn = (1-n)/self.tau_r - is_spike*p*n\n",
    "        return array((dn,dp))\n",
    "    @property\n",
    "    def p(self): return self.state[1]\n",
    "    @property\n",
    "    def n(self): return self.state[0]"
   ]
  },
  {
   "cell_type": "code",
   "execution_count": null,
   "id": "1d2660b1",
   "metadata": {},
   "outputs": [],
   "source": [
    "spike_rate = 200 # Hz\n",
    "ph = 15 * h /1000\n",
    "print( ph)\n",
    "#spike_source = array([1 if rand()<ph else 0 for t in tv])\n",
    "spikes = lambda t,period=5: (t%period == 0)*(t>=10)*(t<100)\n",
    "plot(tv, spikes(tv))"
   ]
  },
  {
   "cell_type": "code",
   "execution_count": null,
   "id": "5123849f",
   "metadata": {},
   "outputs": [],
   "source": [
    "spikes = lambda t,period=5: (t%period == 0)*(t>=100)*(t<400)\n",
    "ps_fac = TMSynapseDet(spikes)\n",
    "ps_dep = TMSynapseDet(spikes, p0=0.5, f=0.0, tau_r=800)\n",
    "#ps1 = TMSynapseDet(spikes,p0=0.25)"
   ]
  },
  {
   "cell_type": "code",
   "execution_count": null,
   "id": "c0edecba",
   "metadata": {},
   "outputs": [],
   "source": [
    "tv = arange(0,1000,h)\n",
    "\n",
    "trajf = zeros((len(tv),2))\n",
    "trajd = zeros((len(tv),2))\n",
    "for i,t in enumerate(tv):\n",
    "    trajf[i] = ps_fac.advance(t, h)\n",
    "    trajd[i] = ps_dep.advance(t, h)"
   ]
  },
  {
   "cell_type": "code",
   "execution_count": null,
   "id": "04e339ac",
   "metadata": {
    "jupyter": {
     "outputs_hidden": true
    }
   },
   "outputs": [],
   "source": []
  },
  {
   "cell_type": "code",
   "execution_count": null,
   "id": "c5a26843",
   "metadata": {},
   "outputs": [],
   "source": [
    "f,axs = subplots(3,1,sharex=True)\n",
    "axs[0].plot(tv, trajf[:,0],label='facilitating')\n",
    "axs[0].plot(tv, trajd[:,0],label='depressing')\n",
    "axs[0].legend()\n",
    "axs[0].set_title('occupancy of release-ready pool')\n",
    "\n",
    "axs[1].plot(tv, trajf[:,1],label='facilitating')\n",
    "axs[1].plot(tv, trajd[:,1],label='depressing')\n",
    "axs[1].set_title('vesicle release probability')\n",
    "\n",
    "\n",
    "axs[2].plot(tv, trajf[:,0]*trajf[:,1]*spikes(tv))\n",
    "axs[2].plot(tv, trajd[:,0]*trajd[:,1]*spikes(tv), alpha=0.5)\n",
    "axs[2].set_title('relative transmitter output ')\n"
   ]
  },
  {
   "cell_type": "markdown",
   "id": "442fcee5",
   "metadata": {},
   "source": [
    "#### Стохастический синапс"
   ]
  },
  {
   "cell_type": "code",
   "execution_count": null,
   "id": "fce7eb1e",
   "metadata": {},
   "outputs": [],
   "source": [
    "class TMProbabilisticPre:\n",
    "    def __init__(self, spike_process, Nrelease=10, \n",
    "                 tau_r=300, tau_f=1500, f=0.05, p0=0.05,\n",
    "                 tau_t = 0.5, t_quant=3.0):\n",
    "        self.sites = np.ones(Nrelease)\n",
    "        self.tau_r = tau_r\n",
    "        self.tau_f = tau_f\n",
    "        self.p0 = p0\n",
    "        self.f = f\n",
    "        self.p = p0\n",
    "        self.transmitter = 0\n",
    "        self.tau_t = tau_t # transmitter tau\n",
    "        self.t_quant = t_quant\n",
    "        self.Ns = Nrelease\n",
    "        self.spikes = spike_process\n",
    "        self.nq = 0\n",
    "    def transmitter_conc(self,t):\n",
    "        return self.transmitter\n",
    "    def advance(self,t,dt):\n",
    "        dp = (self.p0-self.p)/self.tau_f\n",
    "        dtrans = -self.transmitter/self.tau_t\n",
    "        # release\n",
    "        self.nq = 0\n",
    "        if self.spikes(t):\n",
    "            released = where((self.sites>0)*(np.random.rand(self.Ns)<self.p))[0]\n",
    "            self.nq = len(released)\n",
    "            self.sites[released] = 0\n",
    "            dp += self.f*(1-self.p)\n",
    "            dtrans += self.nq*self.t_quant\n",
    "        \n",
    "        #recovery\n",
    "        prec = dt/self.tau_r\n",
    "        recovered = where(np.random.rand(self.Ns)<prec)[0]\n",
    "        self.sites[recovered] = 1\n",
    "        \n",
    "        self.p = self.p + dp*dt         # forward Euler update for release probability\n",
    "        self.transmitter = self.transmitter + dtrans*dt   # update [Glu] in the cleft\n",
    "        \n",
    "        \n",
    "        "
   ]
  },
  {
   "cell_type": "code",
   "execution_count": null,
   "id": "aa2bf475",
   "metadata": {},
   "outputs": [],
   "source": [
    "%%time \n",
    "\n",
    "#tm_prob = TMProbabilisticPre(spikes)\n",
    "tv = arange(0,600,h)\n",
    "\n",
    "fac_kw = dict(tau_r=150,p0=0.01,f=0.1)\n",
    "dep_kw = dict(tau_r=800,p0=0.5,f=0)\n",
    "\n",
    "spikes = lambda t,period=15: (t%period == 0)*(t>=100)*(t<500)\n",
    "\n",
    "Ntrials = 100\n",
    "\n",
    "trajs = [np.zeros((len(tv),2)) for i in range(Ntrials)]\n",
    "\n",
    "for ntry in range(Ntrials):\n",
    "    tm_prob = TMProbabilisticPre(spikes,**fac_kw)\n",
    "    for i,t in enumerate(tv):\n",
    "        #trajs[ntry][i] = tm_prob.nq\n",
    "        tm_prob.advance(t, h)\n",
    "        trajs[ntry][i] = (tm_prob.nq, tm_prob.transmitter)\n",
    "        \n",
    "trajs = array(trajs)"
   ]
  },
  {
   "cell_type": "code",
   "execution_count": null,
   "id": "28ff7bf3",
   "metadata": {},
   "outputs": [],
   "source": [
    "for t in trajs:\n",
    "    plot(tv, t[:,0], color='gray',alpha=0.1)\n",
    "plot(tv, np.mean(trajs,0)[:,0],lw=3,label='mean released quanta')\n",
    "legend()\n",
    "title('Динамика квантов выброса нейромедиатора')"
   ]
  },
  {
   "cell_type": "code",
   "execution_count": null,
   "id": "46c4fe13",
   "metadata": {},
   "outputs": [],
   "source": [
    "for t in trajs:\n",
    "    plot(tv, t[:,1], color='gray',alpha=0.1)\n",
    "plot(tv, np.mean(trajs,0)[:,1],lw=2,label='mean [Glu] in the cleft')\n",
    "plt.legend()\n",
    "xlim(100,130)\n",
    "title('Динамика концентрации глутамата в щели')"
   ]
  },
  {
   "cell_type": "markdown",
   "id": "f711fac3",
   "metadata": {},
   "source": [
    "##  Связываем пресинаптическую мембрану и постсинаптическую мембрану"
   ]
  },
  {
   "cell_type": "code",
   "execution_count": null,
   "id": "32b43f0e",
   "metadata": {},
   "outputs": [],
   "source": [
    "tm_prob = TMProbabilisticPre(spikes,**fac_kw)\n",
    "rx = AMPAR(tm_prob.transmitter_conc)"
   ]
  },
  {
   "cell_type": "code",
   "execution_count": null,
   "id": "91b9beeb",
   "metadata": {},
   "outputs": [],
   "source": [
    "Vm = -65\n",
    "h = 0.1\n",
    "\n",
    "tv = arange(0,600,h)\n",
    "gsyn = np.zeros_like(tv)\n",
    "isyn = np.zeros_like(tv)\n",
    "\n",
    "for i,t in enumerate(tv):\n",
    "    o,d = rx.advance(t,h)\n",
    "    tm_prob.advance(t,h)\n",
    "    gsyn[i] = rx.g\n",
    "    isyn[i] = rx.isyn(Vm)"
   ]
  },
  {
   "cell_type": "code",
   "execution_count": null,
   "id": "34b11e3b",
   "metadata": {},
   "outputs": [],
   "source": [
    "f,axs = subplots(2,1,sharex=True)\n",
    "\n",
    "axs[0].plot(tv,  gsyn)\n",
    "axs[0].set_title(\"Проводимость AMPA-рецепторов в cтохастическом синапсе (@100 Гц)\\n\")\n",
    "\n",
    "axs[1].plot(tv,  isyn,color='tomato')\n",
    "axs[1].set_title(\"постсинаптический ток, $\\mu$A (Vm=const=-65 мВ)\")\n",
    "\n",
    "axs[1].set_xlabel('время, мс')"
   ]
  },
  {
   "cell_type": "markdown",
   "id": "8f887bf5",
   "metadata": {},
   "source": [
    " - [ ] спонтанный выход медиатора\n",
    " - [ ] объединить NMDA и AMPA в один синапс \n",
    " - [ ] Свойства (депр., фас.) ГАМК-ергических синапсов\n",
    " - [ ] класс SynapticConnection, объединяющий нейрон1, пресинаптич. процессы, постсинаптич. проводимости и нейрон 2."
   ]
  },
  {
   "cell_type": "code",
   "execution_count": null,
   "id": "34cf8b52",
   "metadata": {
    "jupyter": {
     "outputs_hidden": true
    }
   },
   "outputs": [],
   "source": []
  }
 ],
 "metadata": {
  "jupytext": {
   "formats": "ipynb,md"
  },
  "kernelspec": {
   "display_name": "Python 3 (ipykernel)",
   "language": "python",
   "name": "python3"
  }
 },
 "nbformat": 4,
 "nbformat_minor": 5
}
