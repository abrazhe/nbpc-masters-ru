{
 "cells": [
  {
   "cell_type": "markdown",
   "id": "8cb9ae7f",
   "metadata": {},
   "source": [
    "# Соотношения доли переданной информации и энергозатраты (Монте-Карло)"
   ]
  },
  {
   "cell_type": "markdown",
   "id": "a7682c02",
   "metadata": {},
   "source": [
    "По материалам статьи:\n",
    "\n",
    "![image.png](attachment:495626ad-561b-4677-aa86-757f3b612579.png)"
   ]
  },
  {
   "cell_type": "code",
   "execution_count": null,
   "id": "11a60e03",
   "metadata": {},
   "outputs": [],
   "source": [
    "%matplotlib inline"
   ]
  },
  {
   "cell_type": "code",
   "execution_count": null,
   "id": "efd5920a",
   "metadata": {},
   "outputs": [],
   "source": [
    "from matplotlib import pyplot as plt\n",
    "import matplotlib as mpl\n",
    "\n",
    "from matplotlib.pyplot import colorbar, close, figure, gca, gcf, imshow, plot, setp, subplots\n",
    "from matplotlib.pyplot import title, suptitle, ylabel, xlabel, xlim, ylim\n",
    "from matplotlib.pyplot import legend\n"
   ]
  },
  {
   "cell_type": "code",
   "execution_count": null,
   "id": "1a093bd4",
   "metadata": {
    "jupyter": {
     "outputs_hidden": false
    }
   },
   "outputs": [],
   "source": [
    "plt.style.use(['ggplot','seaborn-v0_8-muted'])\n",
    "mpl.rc('figure', figsize=(9,9*0.618), dpi=150)"
   ]
  },
  {
   "cell_type": "code",
   "execution_count": null,
   "id": "a266a3ea",
   "metadata": {},
   "outputs": [],
   "source": [
    "\n",
    "import numpy as np\n",
    "from numpy import linalg\n",
    "\n",
    "\n",
    "# import most often used functions\n",
    "from numpy import array, arange, clip, ones, percentile, where, zeros\n",
    "from numpy import exp, tanh, log, log2, linspace\n",
    "\n",
    "from numpy.linalg import svd\n",
    "from numpy.random import permutation, rand"
   ]
  },
  {
   "cell_type": "code",
   "execution_count": null,
   "id": "ba7a7dc1",
   "metadata": {},
   "outputs": [],
   "source": [
    "from numba import jit"
   ]
  },
  {
   "cell_type": "markdown",
   "id": "1943b0ba",
   "metadata": {},
   "source": [
    "Взаимная информация:\n",
    "\\begin{equation}\n",
    "I_m = -\\sum_rP[s]\\log_2P [s] + \\sum_{r,s}P[r]P[s|r]\\log_2 P[s|r]\n",
    "\\end{equation}\n",
    "\n",
    "\n",
    "\\begin{equation}\n",
    "I_m = \\sum_{s,r}P[r,s]\\log_2\\frac{P[r,s]}{P[r]P[s]}\n",
    "\\end{equation}"
   ]
  },
  {
   "cell_type": "markdown",
   "id": "38310a1d",
   "metadata": {},
   "source": [
    "## Один синапс на нейрон"
   ]
  },
  {
   "cell_type": "code",
   "execution_count": null,
   "id": "c98a63a1",
   "metadata": {
    "jupyter": {
     "outputs_hidden": false
    }
   },
   "outputs": [],
   "source": [
    "@jit(nopython=True)\n",
    "def model_Hnoise(s,r,Ntrials=1e6):\n",
    "    responses = zeros((2,2))\n",
    "    for i in range(int(Ntrials)):\n",
    "        if rand() < s: # spike arrived\n",
    "            row = 1\n",
    "            col = (rand() < r) and 1 or 0\n",
    "        else :\n",
    "            row,col = 0,0\n",
    "        responses[row, col] +=1\n",
    "    \n",
    "    probs =  responses/Ntrials\n",
    "    Prs = np.sum(probs, 0)\n",
    "    Pss = np.sum(probs, 1)\n",
    "    acc = 0\n",
    "    for row in [0,1]:\n",
    "        for col in [0,1]:\n",
    "            Prs_joint = probs[row,col]\n",
    "            # skipping zero probabilities to avoid numerical errors...\n",
    "            if Prs_joint*Prs[col]*Pss[row] > 0:\n",
    "                acc += Prs_joint*log2(Prs_joint/(Prs[col]*Pss[row]))\n",
    "    Iinp = -sum(Pss*log2(Pss))\n",
    "    return acc/Iinp # доля переданной информации!\n",
    "            "
   ]
  },
  {
   "cell_type": "code",
   "execution_count": null,
   "id": "e83b4a84",
   "metadata": {
    "jupyter": {
     "outputs_hidden": false
    }
   },
   "outputs": [],
   "source": [
    "%time model_Hnoise(0.5,0.9,Ntrials=1e7)"
   ]
  },
  {
   "cell_type": "code",
   "execution_count": null,
   "id": "007dfa6a",
   "metadata": {
    "jupyter": {
     "outputs_hidden": false
    }
   },
   "outputs": [],
   "source": [
    "sx = 0.01\n",
    "rv = linspace(0.01,1.0)\n",
    "sv = [0.01, 0.1, 0.5, 0.95, 0.99]\n",
    "%time yx = [[model_Hnoise(s,r, Ntrials=1e7) for r in rv] for s in sv]"
   ]
  },
  {
   "cell_type": "code",
   "execution_count": null,
   "id": "8721998e",
   "metadata": {
    "jupyter": {
     "outputs_hidden": false
    }
   },
   "outputs": [],
   "source": [
    "fig, axs = plt.subplots(1,2, figsize=(10,5))\n",
    "for y,s in zip(yx,sv):\n",
    "    axs[0].plot(rv, y, color='deepskyblue')\n",
    "    axs[1].semilogy(rv, y/(s*rv), color='deepskyblue')\n",
    "\n",
    "\n",
    "axs[0].text(0.4, 0.5, \"s=0.01\")\n",
    "axs[0].text(0.7, 0.15, \"s=0.99\")\n",
    "\n",
    "\n",
    "axs[1].text(0.2, 65, \"s=0.01\")\n",
    "axs[1].text(0.2, 0.15, \"s=0.99\")\n",
    "\n",
    "\n",
    "axs[0].set_title(u\"Доля переданной информации\",size=12)\n",
    "axs[1].set_title(u\"Доля переданной информации/энергия\",size=12)\n",
    "axs[0].set_xlabel(u'вероятность срабатывания синапса, r')\n",
    "axs[1].set_xlabel(u'вероятность срабатывания синапса, r')\n",
    "plt.suptitle(u\"Моносинаптическая связь\", size=16)"
   ]
  },
  {
   "cell_type": "markdown",
   "id": "cd2f8b1c",
   "metadata": {},
   "source": [
    "## Полисинаптическая связь со спонтанным выбросом"
   ]
  },
  {
   "cell_type": "code",
   "execution_count": null,
   "id": "89d02cbe",
   "metadata": {},
   "outputs": [],
   "source": [
    "@jit(nopython=True)\n",
    "def model_Hnoise_poly(s,r,Nsyn=10, spont=0.003, Ntrials=1e6):\n",
    "    \"Здесь наличие хотя бы одного ВПСП рассматривается как передача события\"\n",
    "    responses = zeros((2,2))\n",
    "    for i in range(int(Ntrials)):\n",
    "        row, col = 0,0\n",
    "        if rand() < s: # spike arrived\n",
    "            row = 1\n",
    "            # probability of at least one release:\n",
    "            if rand() >= (1-r)**Nsyn:\n",
    "                col = 1\n",
    "        # handle spontaneous release\n",
    "        if rand() >= (1-spont)**Nsyn:\n",
    "            col = 1 \n",
    "        responses[row, col] +=1\n",
    "    #\n",
    "    probs =  responses/Ntrials\n",
    "    Prs = np.sum(probs, 0)\n",
    "    Pss = np.sum(probs, 1)\n",
    "    acc = 0\n",
    "    for row in [0,1]:\n",
    "        for col in [0,1]:\n",
    "            Prs_joint = probs[row,col]\n",
    "            # skipping zero probabilities to avoid numerical errors...\n",
    "            if Prs_joint*Prs[col]*Pss[row] > 0:\n",
    "                acc += Prs_joint*log2(Prs_joint/(Prs[col]*Pss[row]))\n",
    "    Iinp = -sum(Pss*log2(Pss))\n",
    "    return acc/Iinp # доля переданной информации!"
   ]
  },
  {
   "cell_type": "code",
   "execution_count": null,
   "id": "8bb2eba4",
   "metadata": {
    "jupyter": {
     "outputs_hidden": false
    }
   },
   "outputs": [],
   "source": [
    "%time yx10 = [[model_Hnoise_poly(0.01,r,n,Ntrials=1e7) for r in rv] for n in [1,2,4,10]]"
   ]
  },
  {
   "cell_type": "code",
   "execution_count": null,
   "id": "c9688572",
   "metadata": {
    "jupyter": {
     "outputs_hidden": false
    }
   },
   "outputs": [],
   "source": [
    "fig, axs = plt.subplots(1,2, figsize=(10,6))\n",
    "s = 0.01\n",
    "for y,n in zip(yx10, [1,2,4,10]):\n",
    "    axs[0].plot(rv, y, color='m')\n",
    "    axs[1].plot(rv, y/(s*n*rv), color='m')\n",
    "\n",
    "#axs[0].text(0.1, 0.85, \"N=10\")\n",
    "axs[0].text(0.7, 0.45, \"N=1\")\n",
    "    \n",
    "axs[1].text(0.8, 85, \"N=1\")\n",
    "axs[1].text(0.8, 2, \"N=10\")\n",
    "\n",
    "axs[0].set_title(u\"Доля переданной информации\",size=12)\n",
    "axs[1].set_title(u\"Доля переданной информации/энергия\",size=12)\n",
    "axs[0].set_xlabel(u'вероятность срабатывания синапса, r')\n",
    "axs[1].set_xlabel(u'вероятность срабатывания синапса, r')\n",
    "plt.suptitle(u\"Полисинаптическая связь и спонтанный выброс\", size=16)"
   ]
  },
  {
   "cell_type": "code",
   "execution_count": null,
   "id": "ec4282f5",
   "metadata": {},
   "outputs": [],
   "source": []
  }
 ],
 "metadata": {
  "jupytext": {
   "formats": "ipynb,md"
  },
  "kernelspec": {
   "display_name": "Python 3 (ipykernel)",
   "language": "python",
   "name": "python3"
  }
 },
 "nbformat": 4,
 "nbformat_minor": 5
}
