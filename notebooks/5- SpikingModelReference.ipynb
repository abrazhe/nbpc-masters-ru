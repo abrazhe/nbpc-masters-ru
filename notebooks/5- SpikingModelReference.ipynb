{
 "cells": [
  {
   "cell_type": "markdown",
   "id": "860b6ff8",
   "metadata": {},
   "source": [
    "# Simplified/Spiking neuronal models\n"
   ]
  },
  {
   "cell_type": "code",
   "execution_count": null,
   "id": "1c5b4a10",
   "metadata": {
    "lines_to_next_cell": 0
   },
   "outputs": [],
   "source": [
    "# check if notebook is running in Colab and install packages if it is\n",
    "if RunningInCOLAB:\n",
    "  ! pip install brian2\n",
    "  ! pip install pandas\n",
    "  ! wget https://raw.githubusercontent.com/abrazhe/nbpc-masters-ru/master/notebooks/input_factory.py\n",
    "  ! wget https://raw.githubusercontent.com/abrazhe/nbpc-masters-ru/master/notebooks/adex_params.csv\n"
   ]
  },
  {
   "cell_type": "markdown",
   "id": "17226e8f",
   "metadata": {},
   "source": [
    "\n"
   ]
  },
  {
   "cell_type": "code",
   "execution_count": null,
   "id": "a3d95d89",
   "metadata": {},
   "outputs": [],
   "source": [
    "%pylab inline"
   ]
  },
  {
   "cell_type": "code",
   "execution_count": null,
   "id": "5789b88d",
   "metadata": {},
   "outputs": [],
   "source": [
    "import pandas as pd"
   ]
  },
  {
   "cell_type": "code",
   "execution_count": null,
   "id": "8d1427a7",
   "metadata": {},
   "outputs": [],
   "source": [
    "#style.use('ggplot')           # more stylish plots\n",
    "#style.use('seaborn-muted')    # better default line colors\n",
    "\n",
    "rc('axes',labelsize=12, grid=True)\n",
    "rc('figure', dpi=150, figsize=(9,9*0.618))"
   ]
  },
  {
   "cell_type": "code",
   "execution_count": null,
   "id": "b92df3b9",
   "metadata": {},
   "outputs": [],
   "source": [
    "from brian2 import *"
   ]
  },
  {
   "cell_type": "code",
   "execution_count": null,
   "id": "69292320",
   "metadata": {},
   "outputs": [],
   "source": [
    "import input_factory as inpf"
   ]
  },
  {
   "cell_type": "code",
   "execution_count": null,
   "id": "ff1c1f20",
   "metadata": {},
   "outputs": [],
   "source": [
    "def beautify_spikes(statemon,spikemon,neuron_id):\n",
    "    vm = statemon[neuron_id].v[:]\n",
    "    offset = statemon.t[0]#/defaultclock.dt\n",
    "    spike_times = spikemon.t[spikemon.i == neuron_id]\n",
    "    for t in spike_times:\n",
    "        i = int((t-offset) / defaultclock.dt)\n",
    "        vm[i] = 20*mV\n",
    "    return vm"
   ]
  },
  {
   "cell_type": "code",
   "execution_count": null,
   "id": "1648bb10",
   "metadata": {},
   "outputs": [],
   "source": [
    "#import ipywidgets as ipw"
   ]
  },
  {
   "cell_type": "markdown",
   "id": "494b5432",
   "metadata": {},
   "source": [
    "## Adaptive threshold model\n",
    "### Single timescale"
   ]
  },
  {
   "cell_type": "code",
   "execution_count": null,
   "id": "a6847fed",
   "metadata": {},
   "outputs": [],
   "source": [
    "start_scope()\n",
    "\n",
    "N = 100\n",
    "tau = 10*ms\n",
    "vr = -70*mV\n",
    "vt0 = -50*mV\n",
    "delta_vt0 = 5*mV\n",
    "tau_t = 100*ms\n",
    "sigma = 0.5*(vt0-vr)\n",
    "v_drive = 2*(vt0-vr)\n",
    "duration = 500*ms\n",
    "\n",
    "eqs = '''\n",
    "dv/dt = (v_drive+vr-v)/tau + sigma*xi*tau**-0.5 : volt\n",
    "dvt/dt = (vt0-vt)/tau_t : volt\n",
    "'''\n",
    "\n",
    "\n",
    "reset1 = '''\n",
    "vt += delta_vt0\n",
    "'''\n",
    "\n",
    "reset2 = '''\n",
    "v = vr\n",
    "vt += delta_vt0\n",
    "'''\n",
    "\n",
    "\n",
    "G = NeuronGroup(N, eqs, threshold='v>vt', reset=reset1, refractory=5*ms, method='euler')\n",
    "spikemon = SpikeMonitor(G)\n",
    "vmon =  StateMonitor(G,('v', 'vt'),record=True)\n",
    "\n",
    "G.v = 'rand()*(vt0-vr)+vr'\n",
    "G.vt = vt0\n",
    "\n",
    "run(duration)\n",
    "\n",
    "_ = hist(spikemon.t/ms, 100, histtype='stepfilled', facecolor='k', weights=ones(len(spikemon))/(N*defaultclock.dt))\n",
    "xlabel('Time (ms)')\n",
    "ylabel('Instantaneous firing rate (sp/s)');"
   ]
  },
  {
   "cell_type": "code",
   "execution_count": null,
   "id": "47c76aed",
   "metadata": {},
   "outputs": [],
   "source": [
    "vx = beautify_spikes(vmon, spikemon,5)\n",
    "figure(figsize=(24,3)); plot(vx/mV)\n",
    "xlabel('time, s'); ylabel('Vm, mV')\n",
    "title('Single-timescale adaptive threshold model')"
   ]
  },
  {
   "cell_type": "markdown",
   "id": "6d8ee3c9",
   "metadata": {},
   "source": [
    "### Two timescales"
   ]
  },
  {
   "cell_type": "code",
   "execution_count": null,
   "id": "c57de8ba",
   "metadata": {},
   "outputs": [],
   "source": [
    "alpha1 = 1.1*mV\n",
    "alpha2 = 2*mV\n",
    "tau_t1 = 10*ms\n",
    "tau_t2 = 200*ms\n",
    "\n",
    "eqs_mat = '''\n",
    "dv/dt = (v_drive+vr-v)/tau + sigma*xi*tau**-0.5 : volt\n",
    "dvt1/dt =  -vt1/tau_t1 : volt\n",
    "dvt2/dt =  -vt2/tau_t2 : volt\n",
    "'''\n",
    "\n",
    "reset_mat = '''\n",
    "vt1 += alpha1\n",
    "vt2 += alpha2\n",
    "'''"
   ]
  },
  {
   "cell_type": "code",
   "execution_count": null,
   "id": "e31502e8",
   "metadata": {},
   "outputs": [],
   "source": [
    "G = NeuronGroup(N, eqs_mat, threshold='v > vt0 + vt1 + vt2', reset=reset_mat, refractory=5*ms, method='euler')\n",
    "spikemon = SpikeMonitor(G)\n",
    "vmon =  StateMonitor(G,('v', 'vt1'),record=True)\n",
    "\n",
    "G.v = 'rand()*(vt0-vr)+vr'\n",
    "G.vt1 = 0\n",
    "G.vt2 =  0\n",
    "\n",
    "run(duration)\n",
    "\n",
    "_ = hist(spikemon.t/ms, 100, histtype='stepfilled', facecolor='k', weights=ones(len(spikemon))/(N*defaultclock.dt))\n",
    "xlabel('Time (ms)')\n",
    "ylabel('Instantaneous firing rate (sp/s)');"
   ]
  },
  {
   "cell_type": "code",
   "execution_count": null,
   "id": "b845aeb5",
   "metadata": {},
   "outputs": [],
   "source": [
    "vx = beautify_spikes(vmon, spikemon,5)\n",
    "figure(figsize=(24,3)); plot(vx/mV)\n",
    "xlabel('time, s'); ylabel('Vm, mV')\n",
    "title('Single-timescale adaptive threshold model')"
   ]
  },
  {
   "cell_type": "markdown",
   "id": "ca0c42cb",
   "metadata": {},
   "source": [
    "## Adaptive exponential IF model"
   ]
  },
  {
   "cell_type": "markdown",
   "id": "48a32ee2",
   "metadata": {},
   "source": [
    "Итак, модель AdEx:\n",
    "\n",
    "\\begin{align}\n",
    "C\\frac{dv}{dt} &= I_{stim} - g_L(v-E_L) + g_L\\Delta T e^{\\frac{v-V_{\\theta}}{\\Delta T}} - u + I_{syn}\\\\\n",
    "\\tau_u\\frac{du}{dt} &= a(v-E_L) - u\n",
    "\\end{align}\n",
    "\n",
    "Если $v$ превышает пороговое значение $V_{cut}$, то интегрирование системы останавливается, и переменным $v$ и $u$ присваиваются новые значения:\n",
    "\\begin{align}\n",
    "v &\\leftarrow v_{reset}\\\\\n",
    "u &\\leftarrow u + b\\,,\n",
    "\\end{align}\n",
    "после чего, интегрирование продолжается снова."
   ]
  },
  {
   "cell_type": "markdown",
   "id": "c28795f2",
   "metadata": {},
   "source": [
    "### AdEx model in Destexhe's formulation\n",
    "\n",
    "\n",
    "\\begin{align}\n",
    "C_m\\frac{dV}{dt} & =   -g_l(V-E_l) + g_l\\Delta V\\exp(\\frac{V-V_T}{\\Delta V}) - w/S\\\\\n",
    "\\tau_w\\frac{dw}{dt} & =  a(V-E_l) - w\n",
    "\\end{align}\n"
   ]
  },
  {
   "cell_type": "code",
   "execution_count": null,
   "id": "cfeb2110",
   "metadata": {},
   "outputs": [],
   "source": [
    "## Parameters that are shared by all neurons\n",
    "\n",
    "# Neurons\n",
    "Vth = -50*mV   # rheobase threshold\n",
    "El = -70*mV     # resting membrane potential\n",
    "Vcut = -0.1*mV    # spike detection threshold\n",
    "deltaT = 2*mV  # spike initiation sharpness\n",
    "Rin = 500*Mohm  # input resistance of a neuron at rest\n",
    "gl = 1/Rin\n",
    "Ena = 50*mV\n",
    "Ek = -75*mV\n",
    "\n",
    "\n",
    "\n",
    "# Synapses\n",
    "E_e = 0*mV     # Excitatory synaptic reversal potential (AMPA and NMDA receptors)\n",
    "E_i = -80*mV   # Inhibitory synaptic reversal potential (GABAA receptors)\n",
    "tau_e = 5*ms   # time scale of excitatory synaptic conductance\n",
    "tau_i = 10*ms  # time scale of excitatory synaptic conductance"
   ]
  },
  {
   "cell_type": "code",
   "execution_count": null,
   "id": "4483b7a8",
   "metadata": {},
   "outputs": [],
   "source": [
    "AdEx_equations = Equations('''\n",
    "\n",
    "dv/dt = (-gl*(v-El) + activation_curr - u + Ibias + Iapp)/C : volt \n",
    "du/dt = (a*(v-El) - u)/tau_u: amp  # adaptation variable\n",
    "\n",
    "activation_curr = gl*deltaT*exp((v-Vth)/deltaT) : amp\n",
    "stim_amp : 1\n",
    "Ibias : amp\n",
    "Iapp = stim_amp*input_current(t,i): amp\n",
    "''')"
   ]
  },
  {
   "cell_type": "code",
   "execution_count": null,
   "id": "3cffa53b",
   "metadata": {},
   "outputs": [],
   "source": [
    "adex_params = pd.read_csv('adex_params.csv',index_col='type')\n",
    "adex_params"
   ]
  },
  {
   "cell_type": "code",
   "execution_count": null,
   "id": "c13f70c8",
   "metadata": {},
   "outputs": [],
   "source": [
    "adex_params.loc['adapting']"
   ]
  },
  {
   "cell_type": "code",
   "execution_count": null,
   "id": "22fed258",
   "metadata": {},
   "outputs": [],
   "source": [
    "def convert_table_cell(col_name):\n",
    "    units = col_name.split(' ')[1][1:-1]\n",
    "\n",
    "def convert_from_table(row):\n",
    "    return dict(\n",
    "        a = float(row['a [nS]'])*nS,\n",
    "        b = float(row['b [pA]'])*pA,\n",
    "        tau_u = float(row['tau_u [ms]'])*ms,\n",
    "        Vreset = float(row['Vreset [mV]'])*mV,\n",
    "        C = float(row['tau_m [ms]'])*ms*gl,\n",
    "    )"
   ]
  },
  {
   "cell_type": "code",
   "execution_count": null,
   "id": "0c8eec91",
   "metadata": {},
   "outputs": [],
   "source": [
    "tonic_pars = convert_from_table(adex_params.loc['tonic'])\n",
    "\n",
    "adapting_pars = convert_from_table(adex_params.loc['adapting'])\n",
    "\n",
    "bursting_pars = convert_from_table(adex_params.loc['bursting'])\n",
    "\n",
    "initial_burst_pars = convert_from_table(adex_params.loc['init. burst'])\n",
    "\n",
    "irregular_pars = convert_from_table(adex_params.loc['irregular'])\n",
    "\n",
    "transient_pars = convert_from_table(adex_params.loc['transient'])\n",
    "\n",
    "delayed_pars = convert_from_table(adex_params.loc['delayed'])"
   ]
  },
  {
   "cell_type": "markdown",
   "id": "b5ae00b2",
   "metadata": {},
   "source": [
    "### Nullclines"
   ]
  },
  {
   "cell_type": "code",
   "execution_count": null,
   "id": "418daca3",
   "metadata": {},
   "outputs": [],
   "source": [
    "def v_nullcline(v,Ibias=0*pA):\n",
    "    return Ibias - gl*(v - El) + gl*deltaT*exp((v-Vth)/deltaT)\n",
    "\n",
    "def u_nullcline(v,pars):\n",
    "    return pars['a']*(v-El)"
   ]
  },
  {
   "cell_type": "code",
   "execution_count": null,
   "id": "5508f42b",
   "metadata": {},
   "outputs": [],
   "source": [
    "vv = linspace(-85, -40, 200)*mV\n",
    "plot(vv/mV,v_nullcline(vv)/nA)\n",
    "#plot(vv/mV, u_nullcline(vv,bursting_pars)/nA)\n",
    "plot(vv/mV, u_nullcline(vv,bursting_pars)/nA)\n",
    "xlabel('membrane potential [mV]')\n",
    "ylabel('adaptation current [nA]')\n",
    "title('Nullclines of the bursting AdEx neuron')"
   ]
  },
  {
   "cell_type": "code",
   "execution_count": null,
   "id": "d11871c9",
   "metadata": {},
   "outputs": [],
   "source": [
    "start_scope()\n",
    "\n",
    "Nneurons = 10\n",
    "\n",
    "defaultclock.dt = 0.1*ms\n",
    "\n",
    "G = NeuronGroup(Nneurons, AdEx_equations,threshold='v>Vcut', reset='v=Vreset; u += b',\n",
    "                namespace=tonic_pars,\n",
    "                method='exponential_euler')\n",
    "\n",
    "G.set_states(dict(v=El,u=0))\n",
    "\n",
    "G.stim_amp = linspace(0,0.5,Nneurons)\n",
    "G.stim_amp[1] = 0.065\n",
    "G.v = -70*mV\n",
    "M = StateMonitor(G, ['v','u'], record=True)\n",
    "S = SpikeMonitor(G,)"
   ]
  },
  {
   "cell_type": "code",
   "execution_count": null,
   "id": "ec8e989a",
   "metadata": {},
   "outputs": [],
   "source": [
    "input_current = inpf.get_step_current(200, 1500, 1*ms, 1.0*nA,Nneurons=Nneurons)"
   ]
  },
  {
   "cell_type": "code",
   "execution_count": null,
   "id": "71caa017",
   "metadata": {},
   "outputs": [],
   "source": [
    "G.stim_amp[1]*nA"
   ]
  },
  {
   "cell_type": "code",
   "execution_count": null,
   "id": "8a4fe7e3",
   "metadata": {},
   "outputs": [],
   "source": [
    "store()"
   ]
  },
  {
   "cell_type": "code",
   "execution_count": null,
   "id": "33965a41",
   "metadata": {},
   "outputs": [],
   "source": [
    "restore()"
   ]
  },
  {
   "cell_type": "code",
   "execution_count": null,
   "id": "c33b8f56",
   "metadata": {},
   "outputs": [],
   "source": [
    "%time run(2*second)"
   ]
  },
  {
   "cell_type": "code",
   "execution_count": null,
   "id": "afb3d5b0",
   "metadata": {},
   "outputs": [],
   "source": [
    "plot(M.t/ms, M.v[-1]/mV)\n",
    "xlim(200,250)"
   ]
  },
  {
   "cell_type": "code",
   "execution_count": null,
   "id": "fd63be88",
   "metadata": {},
   "outputs": [],
   "source": [
    "k = 2\n",
    "\n",
    "f,axs = subplots(2,1,sharex=True, figsize=(15,5))\n",
    "vx = beautify_spikes(M,S,k)/mV\n",
    "axs[0].plot(M.t/ms,vx)\n",
    "axs[1].plot(M.t/ms, G.stim_amp[k]*input_current(M.t,k)/nA,c='orange')\n",
    "xlim(0,2000)"
   ]
  },
  {
   "cell_type": "code",
   "execution_count": null,
   "id": "a299bcf6",
   "metadata": {},
   "outputs": [],
   "source": [
    "f,axs = subplots(2,1,sharex=True, figsize=(15,5))\n",
    "vx = beautify_spikes(M,S,k)/mV\n",
    "axs[0].plot(M.t/ms,vx)\n",
    "axs[1].plot(M.t/ms, G.stim_amp[k]*input_current(M.t,k),c='orange')\n",
    "xlim(250,500)"
   ]
  },
  {
   "cell_type": "code",
   "execution_count": null,
   "id": "b0813cea",
   "metadata": {},
   "outputs": [],
   "source": [
    "figure(figsize=(10,10))\n",
    "\n",
    "vv = linspace(-85, -40, 200)*mV\n",
    "\n",
    "plot(vv/mV,v_nullcline(vv,0)/nA,ls='--',c='blue',label='V nullcline before stim')\n",
    "plot(vv/mV,v_nullcline(vv,G.stim_amp[k]*nA)/nA,ls='-',label='V nullcline during stim')\n",
    "plot(vv/mV, u_nullcline(vv,tonic_pars, )/nA,label='u nullcline')\n",
    "\n",
    "# trajectory\n",
    "plot(vx[M.t<250*ms],M.u[k][M.t<250*ms]/nA,color='gray')\n",
    "plot(vx[0],M.u[k][0]/nA,'ms')\n",
    "\n",
    "axis([-72,-40,-0.1,0.1])\n",
    "legend()\n",
    "\n",
    "xlabel('membrane potential [mV]')\n",
    "ylabel('adaptation current [nA]')\n",
    "title('Nullclines and trajectory of the tonic AdEx neuron')"
   ]
  },
  {
   "cell_type": "markdown",
   "id": "24632562",
   "metadata": {},
   "source": [
    "### Bursting"
   ]
  },
  {
   "cell_type": "code",
   "execution_count": null,
   "id": "75671fbd",
   "metadata": {},
   "outputs": [],
   "source": [
    "start_scope()\n",
    "\n",
    "Nneurons = 10\n",
    "\n",
    "defaultclock.dt = 0.1*ms\n",
    "\n",
    "G = NeuronGroup(Nneurons, AdEx_equations,threshold='v>Vcut', reset='v=Vreset; u += b',\n",
    "                namespace=bursting_pars,\n",
    "                method='exponential_euler')\n",
    "\n",
    "G.set_states(dict(v=El,u=0))\n",
    "\n",
    "G.stim_amp = linspace(0,0.5,Nneurons)\n",
    "G.stim_amp[1] = 0.065\n",
    "G.v = -70*mV\n",
    "M = StateMonitor(G, ['v','u'], record=True)\n",
    "S = SpikeMonitor(G,)"
   ]
  },
  {
   "cell_type": "code",
   "execution_count": null,
   "id": "4478bf26",
   "metadata": {},
   "outputs": [],
   "source": [
    "input_current = inpf.get_step_current(200, 1500, 1*ms, 1.0*nA,Nneurons=Nneurons)"
   ]
  },
  {
   "cell_type": "code",
   "execution_count": null,
   "id": "90fcf0bf",
   "metadata": {},
   "outputs": [],
   "source": [
    "store()"
   ]
  },
  {
   "cell_type": "code",
   "execution_count": null,
   "id": "7afe63d4",
   "metadata": {
    "lines_to_next_cell": 0
   },
   "outputs": [],
   "source": [
    "restore()\n",
    "\n",
    "%time run(2*second)"
   ]
  },
  {
   "cell_type": "code",
   "execution_count": null,
   "id": "4685b13f",
   "metadata": {
    "lines_to_next_cell": 2
   },
   "outputs": [],
   "source": []
  },
  {
   "cell_type": "code",
   "execution_count": null,
   "id": "7a21be44",
   "metadata": {},
   "outputs": [],
   "source": [
    "k = 2\n",
    "\n",
    "f,axs = subplots(2,1,sharex=True, figsize=(15,5))\n",
    "vx = beautify_spikes(M,S,k)/mV\n",
    "axs[0].plot(M.t/ms,vx)\n",
    "axs[1].plot(M.t/ms, G.stim_amp[k]*input_current(M.t,k)/nA,c='orange')\n",
    "xlim(0,2000)"
   ]
  },
  {
   "cell_type": "code",
   "execution_count": null,
   "id": "438fb76e",
   "metadata": {},
   "outputs": [],
   "source": [
    "f,axs = subplots(2,1,sharex=True, figsize=(15,5))\n",
    "vx = beautify_spikes(M,S,k)/mV\n",
    "axs[0].plot(M.t/ms,vx)\n",
    "axs[1].plot(M.t/ms, G.stim_amp[k]*input_current(M.t,k),c='orange')\n",
    "xlim(250,500)"
   ]
  },
  {
   "cell_type": "code",
   "execution_count": null,
   "id": "e65beebd",
   "metadata": {},
   "outputs": [],
   "source": [
    "figure(figsize=(10,10))\n",
    "\n",
    "vv = linspace(-85, -40, 200)*mV\n",
    "\n",
    "plot(vv/mV,v_nullcline(vv,0)/nA,ls='--',c='blue',label='V nullcline before stim')\n",
    "plot(vv/mV,v_nullcline(vv,G.stim_amp[k]*nA)/nA,ls='-',label='V nullcline during stim')\n",
    "plot(vv/mV, u_nullcline(vv,tonic_pars, )/nA,label='u nullcline')\n",
    "\n",
    "# trajectory\n",
    "plot(vx[M.t<250*ms],M.u[k][M.t<250*ms]/nA,color='gray')\n",
    "plot(vx[0],M.u[k][0]/nA,'ms')\n",
    "\n",
    "axis([-72,-40,-0.1,0.1])\n",
    "legend(fontsize=16)\n",
    "\n",
    "xlabel('membrane potential [mV]', fontsize=23)\n",
    "ylabel('adaptation current [nA]', fontsize=23)\n",
    "title('Nullclines and trajectory of the tonic AdEx neuron', fontsize=23)"
   ]
  },
  {
   "cell_type": "markdown",
   "id": "54950525",
   "metadata": {},
   "source": [
    "## CAdEx model\n",
    "\n",
    "В этой модели адаптационный ток $w$ заменяется на адаптационную **проводимость** с добавлением новых параметров:\n",
    "\n",
    "\n",
    "\\begin{align}\n",
    "C_m\\frac{dV}{dt} & =   -g_l(V-E_l) + g_l\\Delta V\\exp(\\frac{V-V_T}{\\Delta V}) + g_A(E_A - V) + I_s\\\\\n",
    "\\tau_A\\frac{dg_A}{dt} & =  \\frac{\\bar{g}_A}{1 + \\exp(\\frac{V_A-V}{\\Delta_A})} - g_A\n",
    "\\end{align}\n"
   ]
  },
  {
   "cell_type": "markdown",
   "id": "8083482b",
   "metadata": {},
   "source": [
    "https://github.com/neural-decoder/cadex/blob/master/Cadex_min.py"
   ]
  },
  {
   "cell_type": "code",
   "execution_count": null,
   "id": "d61acc8a",
   "metadata": {},
   "outputs": [],
   "source": [
    "start_scope()\n",
    "\n",
    "#integration step\n",
    "dt=0.001\n",
    "defaultclock.dt = dt*ms\n",
    "\n",
    "\n",
    "#simulation duration\n",
    "TotTime=500\n",
    "duration = TotTime*ms\n",
    "\n",
    "#number of neuron\n",
    "N1=1"
   ]
  },
  {
   "cell_type": "code",
   "execution_count": null,
   "id": "1254b739",
   "metadata": {},
   "outputs": [],
   "source": [
    "eqs='''\n",
    "dv/dt = (-gl*(v-El)+ gl*Dt*exp((v-Vt)/Dt)-ga*(v-Ea) + Is)/Cm : volt (unless refractory)\n",
    "dga/dt = (ga_max/(1.0+exp((-Va-v)/Da))-ga)/tau_a : siemens\n",
    "\n",
    "Is:ampere\n",
    "Cm:farad\n",
    "gl:siemens\n",
    "El:volt\n",
    "ga_max:siemens\n",
    "tau_a:second\n",
    "Dt:volt\n",
    "Vt:volt\n",
    "Va:volt\n",
    "Da:volt\n",
    "Ea:volt\n",
    "'''"
   ]
  },
  {
   "cell_type": "code",
   "execution_count": null,
   "id": "ee75da77",
   "metadata": {},
   "outputs": [],
   "source": [
    "Dga = 3.0*nS\n",
    "\n",
    "G1 = NeuronGroup(N1, eqs, threshold='v > -40.*mV', reset='v = -65*mV; ga += Dga', refractory='5*ms', method='heun')\n",
    "#init:\n",
    "G1.v = -65*mV\n",
    "G1.ga = 0.0*nS\n",
    "\n",
    "#parameters\n",
    "G1.Cm = 200.*pF\n",
    "G1.gl = 10.*nS\n",
    "G1.El = -60.*mV\n",
    "G1.Vt = -50.*mV\n",
    "G1.Dt = 2.*mV\n",
    "G1.tau_a = 500.0*ms\n",
    "G1.Va = 65.*mV\n",
    "G1.Da = 5.*mV\n",
    "G1.ga_max = 0.0*nS\n",
    "G1.Ea = -70.*mV\n",
    "G1.Is = 1.0*nA"
   ]
  },
  {
   "cell_type": "code",
   "execution_count": null,
   "id": "9c095feb",
   "metadata": {},
   "outputs": [],
   "source": [
    "# record variables\n",
    "Mon_v  = StateMonitor(G1, 'v', record=range(N1))\n",
    "Mon_ga = StateMonitor(G1, 'ga', record=range(N1))\n",
    "S = SpikeMonitor(G1,)\n",
    "\n",
    "run(duration, report='stdout')"
   ]
  },
  {
   "cell_type": "code",
   "execution_count": null,
   "id": "66228ad1",
   "metadata": {
    "lines_to_next_cell": 0
   },
   "outputs": [],
   "source": [
    "#plot\n",
    "fig,axs =subplots(2,1, sharex=True, figsize=(15,6))\n",
    "fig.suptitle('CAdEx')\n",
    "\n",
    "axs[0].set_title(\"V\")\n",
    "axs[1].set_title(\"ga\")\n",
    "axs[0].plot(Mon_v.t/ms, beautify_spikes(Mon_v,S,0))\n",
    "axs[1].plot(Mon_ga.t/ms, Mon_ga[0].ga/nS)\n",
    "\n",
    "plt.show()"
   ]
  },
  {
   "cell_type": "code",
   "execution_count": null,
   "id": "5924bb31",
   "metadata": {},
   "outputs": [],
   "source": []
  },
  {
   "cell_type": "code",
   "execution_count": null,
   "id": "fe17c8ff",
   "metadata": {},
   "outputs": [],
   "source": []
  },
  {
   "cell_type": "code",
   "execution_count": null,
   "id": "326c83f2",
   "metadata": {},
   "outputs": [],
   "source": []
  },
  {
   "cell_type": "code",
   "execution_count": null,
   "id": "1276cd5e",
   "metadata": {},
   "outputs": [],
   "source": []
  },
  {
   "cell_type": "code",
   "execution_count": null,
   "id": "080f3de0",
   "metadata": {},
   "outputs": [],
   "source": []
  },
  {
   "cell_type": "code",
   "execution_count": null,
   "id": "9cf75fcd",
   "metadata": {
    "lines_to_next_cell": 0
   },
   "outputs": [],
   "source": []
  },
  {
   "cell_type": "markdown",
   "id": "94c5d59f",
   "metadata": {},
   "source": []
  }
 ],
 "metadata": {
  "jupytext": {
   "encoding": "# -*- coding: utf-8 -*-",
   "formats": "ipynb,md"
  },
  "kernelspec": {
   "display_name": "Python 3 (ipykernel)",
   "language": "python",
   "name": "python3"
  }
 },
 "nbformat": 4,
 "nbformat_minor": 5
}
