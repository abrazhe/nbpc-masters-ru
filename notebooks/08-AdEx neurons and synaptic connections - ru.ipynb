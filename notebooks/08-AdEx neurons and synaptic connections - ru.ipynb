{
 "cells": [
  {
   "cell_type": "markdown",
   "id": "02ca6436",
   "metadata": {
    "lines_to_next_cell": 2
   },
   "source": [
    "# Adaptive Exponential integrate-and-fire (AdEx IF) neuron and synaptic connections\n",
    "\n",
    "\n",
    "В этом ноутбуке (электронной рабочей тетради) мы научимся задавать в `Brian2` модели AdEX нейронов и синаптические контакты между ними. Настоятельно рекомендуется заглянуть в документацию по `Brian2` и в книгу W.Gerstner et al \"Neuronal Dynamics\". "
   ]
  },
  {
   "cell_type": "code",
   "execution_count": null,
   "id": "c533d3fd",
   "metadata": {},
   "outputs": [],
   "source": [
    "# check if notebook is running in Colab and install packages if it is\n",
    "RunningInCOLAB = 'google.colab' in str(get_ipython())\n",
    "\n",
    "if RunningInCOLAB:\n",
    "  ! pip install brian2\n",
    "  ! pip install pandas\n",
    "  ! wget https://raw.githubusercontent.com/abrazhe/nbpc-masters-ru/master/notebooks/input_factory.py\n",
    "  ! wget https://raw.githubusercontent.com/abrazhe/nbpc-masters-ru/master/notebooks/adex_params.csv\n"
   ]
  },
  {
   "cell_type": "code",
   "execution_count": null,
   "id": "bc89702c",
   "metadata": {},
   "outputs": [],
   "source": [
    "%pylab inline"
   ]
  },
  {
   "cell_type": "code",
   "execution_count": null,
   "id": "47c7c40d",
   "metadata": {},
   "outputs": [],
   "source": [
    "import pandas as pd # это нам понадобится для чтения csv файлов"
   ]
  },
  {
   "cell_type": "code",
   "execution_count": null,
   "id": "b3adaf5a",
   "metadata": {},
   "outputs": [],
   "source": [
    "# # Крупные шрифты в рисунках\n",
    "# rc('xtick', labelsize=16) \n",
    "# rc('ytick', labelsize=16)\n",
    "# rc('axes',labelsize=16, grid=True)\n",
    "# rc('font',size=16)\n",
    "rc('axes',labelsize=12, grid=True)\n",
    "rc('figure', dpi=150, figsize=(9,9*0.618))"
   ]
  },
  {
   "cell_type": "code",
   "execution_count": null,
   "id": "593a5608",
   "metadata": {},
   "outputs": [],
   "source": [
    "from brian2 import *"
   ]
  },
  {
   "cell_type": "code",
   "execution_count": null,
   "id": "73fee507",
   "metadata": {},
   "outputs": [],
   "source": [
    "import input_factory as inpf"
   ]
  },
  {
   "cell_type": "markdown",
   "id": "c4323864",
   "metadata": {},
   "source": [
    "## AdEx IF neuron\n",
    "\n",
    "Итак, модель AdEx:\n",
    "\n",
    "\\begin{align}\n",
    "C\\frac{dv}{dt} &= I_{stim} - g_L(v-E_L) + g_L\\Delta T e^{\\frac{v-V_{\\theta}}{\\Delta T}} - u + I_{syn}\\\\\n",
    "\\tau_u\\frac{du}{dt} &= a(v-E_L) - u\n",
    "\\end{align}\n",
    "\n",
    "Если $v$ превышает пороговое значение $V_{cut}$, то интегрирование системы останавливается, и переменным $v$ и $u$ присваиваются новые значения:\n",
    "\\begin{align}\n",
    "v &\\leftarrow v_{reset}\\\\\n",
    "u &\\leftarrow u + b\\,,\n",
    "\\end{align}\n",
    "после чего, интегрирование продолжается снова.\n",
    "\n",
    "Синаптический ток складывается из обобщенного возбуждающего и обобщенного тормозящего токов. При этом увеличения проводимостей у нас будут мгновенны, а затухать по простой экспоненте:\n",
    "\\begin{align}\n",
    "-I_{syn} &= g_e(v-E_{ex}) + g_i(v-E_{inh})\\\\\n",
    "\\frac{dg_e}{dt} &= -g_e/\\tau_e \\\\\n",
    "\\frac{dg_i}{dt} &= -g_i/\\tau_i\n",
    "\\end{align}"
   ]
  },
  {
   "cell_type": "code",
   "execution_count": null,
   "id": "bac3fa4e",
   "metadata": {},
   "outputs": [],
   "source": [
    "## Parameters that are shared by all neurons\n",
    "\n",
    "# Neurons\n",
    "Vth = -50*mV   # rheobase threshold\n",
    "El = -70*mV     # resting membrane potential\n",
    "Vcut = 0*mV    # spike detection threshold\n",
    "deltaT = 2*mV  # spike initiation sharpness\n",
    "Rin = 500*Mohm  # input resistance of a neuron at rest\n",
    "gl = 1/Rin\n",
    "\n",
    "\n",
    "\n",
    "# Synapses\n",
    "E_e = 0*mV     # Excitatory synaptic reversal potential (AMPA and NMDA receptors)\n",
    "E_i = -80*mV   # Inhibitory synaptic reversal potential (GABAA receptors)\n",
    "tau_e = 5*ms   # time scale of excitatory synaptic conductance\n",
    "tau_i = 10*ms  # time scale of excitatory synaptic conductance\n",
    "\n",
    "\n",
    "\n",
    "AdEx_equations = Equations('''\n",
    "\n",
    "dv/dt = (-gl*(v-El) + activation_curr - u + Isyn + Ibias + Iapp)/C : volt \n",
    "du/dt = (a*(v-El) - u)/tau_u: amp  # adaptation variable\n",
    "activation_curr = gl*deltaT*exp((v-Vth)/deltaT) : amp\n",
    "stim_amp : 1\n",
    "Ibias : amp\n",
    "Iapp = stim_amp*input_current(t,i): amp\n",
    "''')\n",
    "\n",
    "# Synaptic input\n",
    "synaptic_equations = Equations(\"\"\"\n",
    "Isyn =  - g_e*(v-E_e) - g_i*(v-E_i) : amp\n",
    "dg_e/dt = -g_e/tau_e : siemens\n",
    "dg_i/dt = -g_i/tau_i : siemens\n",
    "\"\"\")"
   ]
  },
  {
   "cell_type": "markdown",
   "id": "6ac1a69a",
   "metadata": {},
   "source": [
    "Несложно вывести выражения для нульклин. Попробуйте это сделать самостоятельно."
   ]
  },
  {
   "cell_type": "code",
   "execution_count": null,
   "id": "cc45b86c",
   "metadata": {},
   "outputs": [],
   "source": [
    "def v_nullcline(v,Ibias=0*pA):\n",
    "    return Ibias - gl*(v - El) + gl*deltaT*exp((v-Vth)/deltaT)\n",
    "\n",
    "def u_nullcline(v,pars):\n",
    "    return pars['a']*(v-El)"
   ]
  },
  {
   "cell_type": "markdown",
   "id": "23816ab8",
   "metadata": {},
   "source": [
    "Мы будет использовать следующие наборы параметров для разных типов нейронов коры:"
   ]
  },
  {
   "cell_type": "code",
   "execution_count": null,
   "id": "9505071e",
   "metadata": {},
   "outputs": [],
   "source": [
    "adex_params = pd.read_csv('adex_params.csv',index_col='type')\n",
    "adex_params"
   ]
  },
  {
   "cell_type": "code",
   "execution_count": null,
   "id": "a45d47d9",
   "metadata": {},
   "outputs": [],
   "source": [
    "adex_params.loc['adapting']"
   ]
  },
  {
   "cell_type": "code",
   "execution_count": null,
   "id": "42e4965d",
   "metadata": {},
   "outputs": [],
   "source": [
    "def convert_table_cell(col_name):\n",
    "    units = col_name.split(' ')[1][1:-1]\n",
    "\n",
    "def convert_from_table(row):\n",
    "    return dict(\n",
    "        a = float(row['a [nS]'])*nS,\n",
    "        b = float(row['b [pA]'])*pA,\n",
    "        tau_u = float(row['tau_u [ms]'])*ms,\n",
    "        Vreset = float(row['Vreset [mV]'])*mV,\n",
    "        C = float(row['tau_m [ms]'])*ms*gl,\n",
    "    )"
   ]
  },
  {
   "cell_type": "markdown",
   "id": "b60c65d9",
   "metadata": {},
   "source": [
    "###  Set up parameters for different behaviour type"
   ]
  },
  {
   "cell_type": "code",
   "execution_count": null,
   "id": "a334781b",
   "metadata": {},
   "outputs": [],
   "source": [
    "tonic_pars = convert_from_table(adex_params.loc['tonic'])\n",
    "\n",
    "adapting_pars = convert_from_table(adex_params.loc['adapting'])\n",
    "\n",
    "bursting_pars = convert_from_table(adex_params.loc['bursting'])\n",
    "\n",
    "initial_burst_pars = convert_from_table(adex_params.loc['init. burst'])\n",
    "\n",
    "irregular_pars = convert_from_table(adex_params.loc['irregular'])\n",
    "\n",
    "transient_pars = convert_from_table(adex_params.loc['transient'])\n",
    "\n",
    "delayed_pars = convert_from_table(adex_params.loc['delayed'])\n"
   ]
  },
  {
   "cell_type": "code",
   "execution_count": null,
   "id": "7b201e23",
   "metadata": {},
   "outputs": [],
   "source": [
    "Rin*tonic_pars['C']"
   ]
  },
  {
   "cell_type": "markdown",
   "id": "a34d17bd",
   "metadata": {},
   "source": [
    "### Plotting the nullclines\n",
    "\n",
    "Итак, попробуем разобраться в свойствах возбудимости наших моделей."
   ]
  },
  {
   "cell_type": "code",
   "execution_count": null,
   "id": "7db323eb",
   "metadata": {},
   "outputs": [],
   "source": [
    "vv = linspace(-85, -40, 200)*mV\n",
    "plot(vv/mV,v_nullcline(vv)/nA)\n",
    "#plot(vv/mV, u_nullcline(vv,bursting_pars)/nA)\n",
    "plot(vv/mV, u_nullcline(vv,bursting_pars)/nA)\n",
    "xlabel('membrane potential [mV]')\n",
    "ylabel('adaptation current [nA]')\n",
    "title('Nullclines of the bursting AdEx neuron')"
   ]
  },
  {
   "cell_type": "markdown",
   "id": "e315b665",
   "metadata": {},
   "source": [
    "Если мы не задаем сеть как отдельный объект, нам нужно начинать с команды `start_scope()`. Зададим количество нейронов и создадим группу тонических нейронов. Для того, чтобы наблюдать за переменными модели, нужно подключить к ней мониторы."
   ]
  },
  {
   "cell_type": "code",
   "execution_count": null,
   "id": "49609b76",
   "metadata": {},
   "outputs": [],
   "source": [
    "start_scope()\n",
    "\n",
    "Nneurons = 10\n",
    "\n",
    "defaultclock.dt = 0.1*ms\n",
    "\n",
    "G = NeuronGroup(Nneurons, AdEx_equations+synaptic_equations,\n",
    "                threshold='v>Vcut', reset='v=Vreset; u += b',\n",
    "                namespace=bursting_pars,\n",
    "                method='exponential_euler')\n",
    "\n",
    "G.set_states(dict(v=El,u=0))\n",
    "\n",
    "G.stim_amp = linspace(0,0.5,Nneurons)\n",
    "G.stim_amp[1] = 0.065\n",
    "G.v = -70*mV\n",
    "M = StateMonitor(G, ['v','u'], record=True)\n",
    "S = SpikeMonitor(G,)"
   ]
  },
  {
   "cell_type": "code",
   "execution_count": null,
   "id": "c02a7069",
   "metadata": {},
   "outputs": [],
   "source": [
    "input_current = inpf.get_step_current(200, 1500, 1*ms, 1.0*nA,Nneurons=Nneurons)"
   ]
  },
  {
   "cell_type": "code",
   "execution_count": null,
   "id": "335718c1",
   "metadata": {},
   "outputs": [],
   "source": [
    "G.stim_amp[1]*nA"
   ]
  },
  {
   "cell_type": "code",
   "execution_count": null,
   "id": "0f05c397",
   "metadata": {},
   "outputs": [],
   "source": [
    "store()"
   ]
  },
  {
   "cell_type": "code",
   "execution_count": null,
   "id": "1fa639d5",
   "metadata": {},
   "outputs": [],
   "source": [
    "restore()"
   ]
  },
  {
   "cell_type": "code",
   "execution_count": null,
   "id": "879f82e4",
   "metadata": {},
   "outputs": [],
   "source": [
    "%time run(2*second)"
   ]
  },
  {
   "cell_type": "code",
   "execution_count": null,
   "id": "0dac7b1c",
   "metadata": {},
   "outputs": [],
   "source": [
    "plot(M.t/ms, M.v[-1]/mV)\n",
    "xlim(200,250)"
   ]
  },
  {
   "cell_type": "markdown",
   "id": "f197cfc8",
   "metadata": {},
   "source": [
    "Мда, из-за остановок и рестарта счета, все спайки оказываются разной амплитуды. К счастью, это несложно исправить."
   ]
  },
  {
   "cell_type": "code",
   "execution_count": null,
   "id": "49d29e9c",
   "metadata": {},
   "outputs": [],
   "source": [
    "def beautify_spikes(statemon,spikemon,neuron_id):\n",
    "    vm = statemon[neuron_id].v[:]\n",
    "    offset = statemon.t[0]#/defaultclock.dt\n",
    "    spike_times = spikemon.t[spikemon.i == neuron_id]\n",
    "    for t in spike_times:\n",
    "        i = int((t-offset) / defaultclock.dt)\n",
    "        vm[i] = 20*mV\n",
    "    return vm"
   ]
  },
  {
   "cell_type": "code",
   "execution_count": null,
   "id": "6b89ff74",
   "metadata": {},
   "outputs": [],
   "source": [
    "k = 2\n",
    "\n",
    "f,axs = subplots(2,1,sharex=True, figsize=(15,5))\n",
    "vx = beautify_spikes(M,S,k)/mV\n",
    "axs[0].plot(M.t/ms,vx)\n",
    "axs[1].plot(M.t/ms, G.stim_amp[k]*input_current(M.t,k)/nA,c='orange')\n",
    "xlim(0,2000)"
   ]
  },
  {
   "cell_type": "code",
   "execution_count": null,
   "id": "ce97155f",
   "metadata": {},
   "outputs": [],
   "source": [
    "f,axs = subplots(2,1,sharex=True, figsize=(15,5))\n",
    "vx = beautify_spikes(M,S,k)/mV\n",
    "axs[0].plot(M.t/ms,vx)\n",
    "axs[1].plot(M.t/ms, G.stim_amp[k]*input_current(M.t,k),c='orange')\n",
    "xlim(200,300)"
   ]
  },
  {
   "cell_type": "markdown",
   "id": "fd2372b0",
   "metadata": {},
   "source": [
    "Итак, что же происходит с фазовым портретом при начале стимуляции? "
   ]
  },
  {
   "cell_type": "code",
   "execution_count": null,
   "id": "ab68a74b",
   "metadata": {},
   "outputs": [],
   "source": [
    "figure(figsize=(10,10))\n",
    "\n",
    "vv = linspace(-85, -40, 200)*mV\n",
    "\n",
    "plot(vv/mV,v_nullcline(vv,0)/nA,ls='--',c='blue',label='V nullcline before stim')\n",
    "plot(vv/mV,v_nullcline(vv,G.stim_amp[k]*nA)/nA,ls='-',label='V nullcline during stim')\n",
    "plot(vv/mV, u_nullcline(vv,tonic_pars, )/nA,label='u nullcline')\n",
    "\n",
    "# trajectory\n",
    "plot(vx[M.t<250*ms],M.u[k][M.t<250*ms]/nA,color='gray')\n",
    "plot(vx[0],M.u[k][0]/nA,'ms')\n",
    "\n",
    "axis([-72,-40,-0.1,0.1])\n",
    "legend()\n",
    "\n",
    "xlabel('membrane potential [mV]')\n",
    "ylabel('adaptation current [nA]')\n",
    "title('Nullclines and trajectory of the tonic AdEx neuron')"
   ]
  },
  {
   "cell_type": "markdown",
   "id": "50084e5e",
   "metadata": {},
   "source": [
    "### Синаптический вход\n",
    "\n",
    "Создадим теперь нейрон с псевдореалистичным афферентным входом. Будем считать, что у этого нейрона есть 500 возбуждающих афферентных синапса и 100 тормозящих. Мы не будем напрямую моделировать эти нейроны. Вместо этого, возьмем соответствующее количество пуассоновских стохастических процессов. Они и будут задавать нам пресинаптические события. Пока без пластичности."
   ]
  },
  {
   "cell_type": "code",
   "execution_count": null,
   "id": "8f961f0e",
   "metadata": {},
   "outputs": [],
   "source": [
    "start_scope()\n",
    "\n",
    "Nneurons = 1\n",
    "\n",
    "defaultclock.dt = 0.1*ms\n",
    "\n",
    "G = NeuronGroup(Nneurons, AdEx_equations+synaptic_equations,\n",
    "                threshold='v>Vcut', reset='v=Vreset; u += b',\n",
    "                namespace=bursting_pars,\n",
    "                method='exponential_euler')\n",
    "\n",
    "G.set_states(dict(v=El,u=0))\n",
    "\n",
    "#G.stim_amp = linspace(0,0.5,Nneurons)\n",
    "M = StateMonitor(G, ['v','g_e','g_i', 'Isyn'], record=True)\n",
    "S = SpikeMonitor(G,)\n",
    "\n",
    "# compensate for small number of synapses by increasing\n",
    "# their conductance\n",
    "w_e = 0.05*nS\n",
    "w_i = 1*nS\n"
   ]
  },
  {
   "cell_type": "markdown",
   "id": "30cffcbc",
   "metadata": {},
   "source": [
    "<font color=red>\n",
    "**Exercise:**\n",
    " - make and plot recordings of all neuron response types\n",
    " - make plots with nullclines and trajectories for one additional response type (any)\n",
    "             "
   ]
  },
  {
   "cell_type": "code",
   "execution_count": null,
   "id": "7a925d5d",
   "metadata": {},
   "outputs": [],
   "source": [
    "e_rate = 15*Hz # Mean firing rate of excitatory afferents\n",
    "i_rate = 3*Hz # Mean firing rate of inhibitory afferents\n",
    "\n",
    "Ne = 500      # Number of excitatory afferents\n",
    "Ni = Ne//5    # NUmber of inhibitory afferents  \n",
    "\n",
    "scale_coef = 1.\n",
    "\n",
    "Pe = PoissonInput(G, 'g_e', Ne, e_rate, weight=scale_coef*w_e)\n",
    "Pi = PoissonInput(G, 'g_i', Ni, i_rate, weight=scale_coef*w_i)\n"
   ]
  },
  {
   "cell_type": "code",
   "execution_count": null,
   "id": "f911ea8e",
   "metadata": {},
   "outputs": [],
   "source": [
    "%time run(1*second)"
   ]
  },
  {
   "cell_type": "code",
   "execution_count": null,
   "id": "db798add",
   "metadata": {},
   "outputs": [],
   "source": [
    "S.num_spikes/10/second"
   ]
  },
  {
   "cell_type": "code",
   "execution_count": null,
   "id": "b305178c",
   "metadata": {},
   "outputs": [],
   "source": [
    "f,axs = subplots(3,1,sharex=True,figsize=(16,10))\n",
    "axs[0].plot(M.t/ms, beautify_spikes(M,S,0)/mV,c='k')\n",
    "axs[0].set_ylabel('Vm')\n",
    "axs[1].plot(M.t/ms, M.g_e[0]/nS, c=mpl.cm.Accent(5))\n",
    "axs[1].set_ylabel('g_e')\n",
    "axs[2].plot(M.t/ms, M.g_i[0]/nS, c=mpl.cm.Accent(4))\n",
    "axs[2].set_ylabel('g_i')\n",
    "xlabel('время, мс')\n"
   ]
  },
  {
   "cell_type": "markdown",
   "id": "f29bc010",
   "metadata": {},
   "source": [
    "## Synaptic connections"
   ]
  },
  {
   "cell_type": "markdown",
   "id": "34884e4b",
   "metadata": {},
   "source": [
    "### Pair of neurons\n",
    "\n",
    "Итак, создадим два нейрона и свяжем их синапсами. Один нейрон будет возбуждающий, а второй — тормозный. Добавим модель Tsodyks-Markram для пресинаптической пластичности."
   ]
  },
  {
   "cell_type": "code",
   "execution_count": null,
   "id": "a1e8e514",
   "metadata": {},
   "outputs": [],
   "source": [
    "tau_ps = 0.8*second   # facilitation timescale\n",
    "tau_ns = 1.5*second   # replenishing timescale\n",
    "p_s0 = 0.6            # ground-state probability of release\n",
    "\n",
    "plasticity_model = Equations('''\n",
    "dp_s/dt = (p_s0-p_s)/tau_ps : 1 (event-driven)    # vesicle merge probability\n",
    "dn_s/dt = (1-n_s)/tau_ns   : 1  (event-driven)    # fraction of resources available\n",
    "''')\n",
    "\n",
    "plasticity_action='''\n",
    "p_s += p_s0*(1-p_s) # facilitation\n",
    "r_s = p_s*n_s       # probability of release\n",
    "n_s -= r_s          # depletion\n",
    "'''"
   ]
  },
  {
   "cell_type": "code",
   "execution_count": null,
   "id": "b326a32e",
   "metadata": {},
   "outputs": [],
   "source": [
    "# compensate for small number of synapses by increasing\n",
    "# their conductance\n",
    "w_e = 2000*0.05*nS\n",
    "w_i = 500*1*nS"
   ]
  },
  {
   "cell_type": "code",
   "execution_count": null,
   "id": "451e2d22",
   "metadata": {},
   "outputs": [],
   "source": [
    "start_scope()\n",
    "G = NeuronGroup(2, AdEx_equations+synaptic_equations,\n",
    "                threshold='v>Vcut', reset='v=Vreset; u += b',\n",
    "                namespace=adapting_pars,\n",
    "                method='exponential_euler')\n",
    "G.Ibias[1] = 0.03*nA\n",
    "G.set_states(dict(v=El + G.Ibias/gl,u=0*pA))"
   ]
  },
  {
   "cell_type": "markdown",
   "id": "ae3b40f5",
   "metadata": {},
   "source": [
    "Нужно создать объекты для хранения синаптических связей между нейронами в сети. То, что происходит с синапсом после прохождения *пресинаптического* спайка записывается в аргумент `on_pre`."
   ]
  },
  {
   "cell_type": "code",
   "execution_count": null,
   "id": "3fdb74fd",
   "metadata": {},
   "outputs": [],
   "source": [
    "S_exc = Synapses(G,G, model=plasticity_model,on_pre=plasticity_action+'g_e_post += w_e*r_s')\n",
    "S_inh = Synapses(G,G, model=plasticity_model,on_pre=plasticity_action+'g_i_post += w_i*r_s')"
   ]
  },
  {
   "cell_type": "markdown",
   "id": "5f21f661",
   "metadata": {},
   "source": [
    "И, наконец, связываем нейроны."
   ]
  },
  {
   "cell_type": "code",
   "execution_count": null,
   "id": "94ed2526",
   "metadata": {},
   "outputs": [],
   "source": [
    "S_exc.connect(i=0,j=1) # don't have much choice when there are only two neurons\n",
    "S_exc.delay = '10*ms + 0.1*randn()*ms'\n",
    "\n",
    "S_inh.connect(i=1,j=0)\n",
    "S_inh.delay = '10*ms'"
   ]
  },
  {
   "cell_type": "markdown",
   "id": "f94c72a0",
   "metadata": {},
   "source": [
    "добавляем мониторы состояний."
   ]
  },
  {
   "cell_type": "code",
   "execution_count": null,
   "id": "9c616443",
   "metadata": {},
   "outputs": [],
   "source": [
    "#run(20*ms)\n",
    "M = StateMonitor(G, record=True, variables=True)\n",
    "S = SpikeMonitor(G)\n",
    "store()"
   ]
  },
  {
   "cell_type": "code",
   "execution_count": null,
   "id": "920cea50",
   "metadata": {},
   "outputs": [],
   "source": []
  },
  {
   "cell_type": "code",
   "execution_count": null,
   "id": "2f3e08bd",
   "metadata": {},
   "outputs": [],
   "source": [
    "restore()\n",
    "G.stim_amp[0] = 0.65 #linspace(1,0,Nneurons)\n",
    "run(1.5*second)"
   ]
  },
  {
   "cell_type": "code",
   "execution_count": null,
   "id": "408c5147",
   "metadata": {},
   "outputs": [],
   "source": [
    "f,axs = subplots(3,1,sharex=True, figsize=(15,5))\n",
    "\n",
    "axs[0].plot(M.t/ms, beautify_spikes(M,S,0)/mV)\n",
    "axs[0].set_ylabel('Vm [mV]')\n",
    "\n",
    "axs[1].plot(M.t/ms, M.g_i[0]/nS, c='steelblue', label='g_i (nrn 1) [nS]')\n",
    "axs[1].plot(M.t/ms, 10*M.g_e[1]/nsiemens, c='tomato', label='g_e (nrn 2) [0.1*nS]')\n",
    "axs[1].legend()\n",
    "\n",
    "axs[2].plot(M.t/ms, beautify_spikes(M,S,1)/mV)\n",
    "axs[2].set_ylabel('Vm [mV]')\n",
    "\n",
    "axs[0].set_title('regular (exc) <-> tonic (inh)')\n",
    "xlabel('time [ms]')\n",
    "#xlim(600,800)"
   ]
  },
  {
   "cell_type": "markdown",
   "id": "830d1cb0",
   "metadata": {},
   "source": [
    "<font color=red> **Exercise:**<font>\n",
    " - Try changing characteristic times for depletion and describe and illustrate what happens\n",
    " - Try connecting neurons with different response types and record patterns of dynamics\n",
    "             "
   ]
  },
  {
   "cell_type": "markdown",
   "id": "c3228a0d",
   "metadata": {},
   "source": [
    "### Small network\n",
    "\n",
    "Создадим теперь сеть побольше — из 10 возбуждающих и 1 тормозного нейрона."
   ]
  },
  {
   "cell_type": "code",
   "execution_count": null,
   "id": "466a55c9",
   "metadata": {},
   "outputs": [],
   "source": [
    "# compensate for small number of synapses by increasing\n",
    "# their conductance\n",
    "w_e = 500*0.05*nS\n",
    "w_i = 500*1*nS"
   ]
  },
  {
   "cell_type": "code",
   "execution_count": null,
   "id": "cfc15ef1",
   "metadata": {},
   "outputs": [],
   "source": []
  },
  {
   "cell_type": "code",
   "execution_count": null,
   "id": "e638ab68",
   "metadata": {},
   "outputs": [],
   "source": [
    "start_scope()\n",
    "\n",
    "seed(4022)\n",
    "\n",
    "Nexc = 10\n",
    "\n",
    "G1 = NeuronGroup(Nexc, AdEx_equations+synaptic_equations,\n",
    "                 threshold='v>Vcut', reset='v=Vreset; u += b',\n",
    "                namespace=adapting_pars,\n",
    "                method='exponential_euler')\n",
    "\n",
    "G1.Ibias = '25*pA + randn()*5*pA'\n",
    "G1.set_states(dict(v=El + G1.Ibias/gl, u=0*pA))\n",
    "\n",
    "G2 = NeuronGroup(1, AdEx_equations+synaptic_equations,\n",
    "                 threshold='v>Vcut', reset='v=Vreset; u += b',\n",
    "                namespace=tonic_pars,\n",
    "                method='exponential_euler')\n",
    "G2.set_states(dict(v=El, u=0*pA))"
   ]
  },
  {
   "cell_type": "code",
   "execution_count": null,
   "id": "7e5bbb46",
   "metadata": {},
   "outputs": [],
   "source": [
    "#R = Spikeinput_current = inpf.get_step_current(200, 800, 1*ms, 1.0*nA,Nneurons=Nneurons)neratorGroup()"
   ]
  },
  {
   "cell_type": "code",
   "execution_count": null,
   "id": "55af1435",
   "metadata": {},
   "outputs": [],
   "source": [
    "input_current = inpf.get_step_current(200, 2000, 1*ms, 1.0*nA,Nneurons=Nexc)"
   ]
  },
  {
   "cell_type": "markdown",
   "id": "46f62e9f",
   "metadata": {},
   "source": [
    "Нам будут нужны синапсы между возбуждающими нейронами, от возбуждающих к тормозному и наоборот."
   ]
  },
  {
   "cell_type": "code",
   "execution_count": null,
   "id": "a04a7d30",
   "metadata": {},
   "outputs": [],
   "source": [
    "S_exc = Synapses(G1,G2, model=plasticity_model,on_pre=plasticity_action+'g_e_post += w_e*r_s')\n",
    "S_exc2 = Synapses(G1,G1, model=plasticity_model,on_pre=plasticity_action+'g_e_post += w_e*r_s')\n",
    "\n",
    "S_inh = Synapses(G2,G1, model=plasticity_model,on_pre=plasticity_action+'g_i_post += w_i*r_s')"
   ]
  },
  {
   "cell_type": "code",
   "execution_count": null,
   "id": "7433723e",
   "metadata": {},
   "outputs": [],
   "source": [
    "S_exc.connect(p=0.85) # возбуждающий нейрон с вероятностью 0.85 образует синапс на тормозном\n",
    "S_exc2.connect(p=0.85,condition='i!=j')     # два произвольно взятых нейрона соединены с вероятностью 0.85\n",
    "# Сигнал не может распространяться мгновенно, и в синаптических связях будут случайные задержки\n",
    "S_exc.delay = 'clip(10*ms + 0.1*randn()*ms,0*ms,100*ms)'  \n",
    "\n",
    "S_inh.connect(p=1)\n",
    "S_inh.delay = 'clip(10*ms + 0.1*randn()*ms,0*ms,100*ms)'"
   ]
  },
  {
   "cell_type": "code",
   "execution_count": null,
   "id": "7354f00a",
   "metadata": {},
   "outputs": [],
   "source": []
  },
  {
   "cell_type": "code",
   "execution_count": null,
   "id": "ede4e60d",
   "metadata": {},
   "outputs": [],
   "source": [
    "#run(20*ms)\n",
    "M1 = StateMonitor(G1, record=True, variables=True)\n",
    "M2 = StateMonitor(G2, record=True, variables=True)\n",
    "\n",
    "S1 = SpikeMonitor(G1)\n",
    "S2 = SpikeMonitor(G2)\n",
    "\n",
    "store()"
   ]
  },
  {
   "cell_type": "code",
   "execution_count": null,
   "id": "3cb5c9bf",
   "metadata": {},
   "outputs": [],
   "source": []
  },
  {
   "cell_type": "code",
   "execution_count": null,
   "id": "def3c3a1",
   "metadata": {},
   "outputs": [],
   "source": []
  },
  {
   "cell_type": "code",
   "execution_count": null,
   "id": "81f39995",
   "metadata": {},
   "outputs": [],
   "source": [
    "restore()\n",
    "S_inh.active=True\n",
    "G1.stim_amp = 0.05 #linspace(1,0,Nneurons)\n",
    "G2.Ibias = 0.01*nA"
   ]
  },
  {
   "cell_type": "code",
   "execution_count": null,
   "id": "a058e034",
   "metadata": {},
   "outputs": [],
   "source": [
    "%time  run(3*second)"
   ]
  },
  {
   "cell_type": "code",
   "execution_count": null,
   "id": "4d3aa774",
   "metadata": {},
   "outputs": [],
   "source": [
    "f,axs = subplots(3,1,sharex=True, figsize=(15,5))\n",
    "\n",
    "axs[0].plot(M1.t/ms, beautify_spikes(M1,S1,0)/mV,label='exc. neuron')\n",
    "axs[0].set_ylabel('Vm [mV]')\n",
    "axs[0].legend()\n",
    "\n",
    "axs[1].plot(M1.t/ms, M1.g_i[1]/nS, c='steelblue', label='g_i (nrn 1) [nS]')\n",
    "axs[1].plot(M2.t/ms, 5*M2.g_e[0]/nS, c='tomato', label='g_e (nrn 2) [nS]/5')\n",
    "axs[1].legend()\n",
    "\n",
    "axs[2].plot(M2.t/ms, beautify_spikes(M2,S2,0)/mV,label='inh. neuron')\n",
    "axs[2].set_ylabel('Vm [mV]')\n",
    "axs[2].legend()\n",
    "\n",
    "axs[0].set_title('regular (exc) <-> tonic (inh)')\n",
    "xlabel('time [ms]')\n",
    "#xlim(600,800)"
   ]
  },
  {
   "cell_type": "code",
   "execution_count": null,
   "id": "402015ca",
   "metadata": {},
   "outputs": [],
   "source": [
    "def raster_spikes(spikemon,c='r',offset=0):\n",
    "    plot(spikemon.t/ms, spikemon.i+offset,'|',c=c)"
   ]
  },
  {
   "cell_type": "code",
   "execution_count": null,
   "id": "7075eaa0",
   "metadata": {},
   "outputs": [],
   "source": [
    "figure(figsize=(15,1))\n",
    "raster_spikes(S1)\n",
    "raster_spikes(S2,c='b',offset=Nexc+1)"
   ]
  },
  {
   "cell_type": "markdown",
   "id": "31628095",
   "metadata": {},
   "source": [
    "**Exercise:**\n",
    " - [ ] Compare network activity with and without inhibition (set `S_inh.active` to `False`). Describe changes.\n",
    " - [ ] Try using different kinds of pre- and post-synaptic neurons. Can you find interesting patterns of behaviour?\n",
    " - [ ] `*` [hard] Connect a SpikeGenerator object to a subset of excitatory neurons instead of step current\n",
    "             "
   ]
  },
  {
   "cell_type": "code",
   "execution_count": null,
   "id": "04d9ef98",
   "metadata": {},
   "outputs": [],
   "source": []
  },
  {
   "cell_type": "code",
   "execution_count": null,
   "id": "338214e3",
   "metadata": {},
   "outputs": [],
   "source": []
  }
 ],
 "metadata": {
  "jupytext": {
   "formats": "ipynb,md"
  },
  "kernelspec": {
   "display_name": "Python 3 (ipykernel)",
   "language": "python",
   "name": "python3"
  }
 },
 "nbformat": 4,
 "nbformat_minor": 5
}
