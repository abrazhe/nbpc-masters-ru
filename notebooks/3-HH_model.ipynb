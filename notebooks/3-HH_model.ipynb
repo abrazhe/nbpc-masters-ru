{
 "cells": [
  {
   "cell_type": "code",
   "execution_count": null,
   "id": "5de1b00c",
   "metadata": {},
   "outputs": [],
   "source": [
    "# check if notebook is running in Colab and install packages if it is\n",
    "if RunningInCOLAB:\n",
    "  ! pip install brian2\n",
    "  ! pip install pandas\n",
    "  !wget https://raw.githubusercontent.com/abrazhe/nbpc-masters-ru/master/notebooks/input_factory.py"
   ]
  },
  {
   "cell_type": "code",
   "execution_count": null,
   "id": "178aa9ca",
   "metadata": {},
   "outputs": [],
   "source": [
    "%pylab inline"
   ]
  },
  {
   "cell_type": "code",
   "execution_count": null,
   "id": "6c7a815e",
   "metadata": {},
   "outputs": [],
   "source": [
    "rc('axes',labelsize=12, grid=True)\n",
    "rc('figure', dpi=150, figsize=(9,9*0.618))"
   ]
  },
  {
   "cell_type": "code",
   "execution_count": null,
   "id": "cf0dca6c",
   "metadata": {},
   "outputs": [],
   "source": [
    "from brian2 import *"
   ]
  },
  {
   "cell_type": "code",
   "execution_count": null,
   "id": "71f3aabd",
   "metadata": {},
   "outputs": [],
   "source": [
    "from brian2.units.constants import zero_celsius, gas_constant as R, faraday_constant as F"
   ]
  },
  {
   "cell_type": "code",
   "execution_count": null,
   "id": "6d0ca77d",
   "metadata": {},
   "outputs": [],
   "source": [
    "R*F"
   ]
  },
  {
   "cell_type": "code",
   "execution_count": null,
   "id": "19c5df88",
   "metadata": {},
   "outputs": [],
   "source": [
    "import input_factory as inpf"
   ]
  },
  {
   "cell_type": "markdown",
   "id": "341365fd",
   "metadata": {},
   "source": [
    "## The original HH model"
   ]
  },
  {
   "cell_type": "code",
   "execution_count": null,
   "id": "c974ebcc",
   "metadata": {},
   "outputs": [],
   "source": [
    "T = 6*kelvin + zero_celsius"
   ]
  },
  {
   "cell_type": "code",
   "execution_count": null,
   "id": "77ac32cf",
   "metadata": {},
   "outputs": [],
   "source": [
    "def Nernst(Ci,Co,z=1):\n",
    "    return R*T*log(Co/Ci)/F/z"
   ]
  },
  {
   "cell_type": "code",
   "execution_count": null,
   "id": "97c06491",
   "metadata": {},
   "outputs": [],
   "source": []
  },
  {
   "cell_type": "code",
   "execution_count": null,
   "id": "33d1e9f5",
   "metadata": {},
   "outputs": [],
   "source": [
    "radius = 0.25*mm\n",
    "length = 2*cm\n",
    "area = 2*pi*radius*length\n",
    "area"
   ]
  },
  {
   "cell_type": "code",
   "execution_count": null,
   "id": "b9644371",
   "metadata": {},
   "outputs": [],
   "source": [
    "def malpha_hh(V):\n",
    "     return 0.1*(V+40*mV)/(1 - exp(-(V+40*mV)/10./mV))/mV/ms"
   ]
  },
  {
   "cell_type": "code",
   "execution_count": null,
   "id": "ee41bc91",
   "metadata": {},
   "outputs": [],
   "source": [
    "defaultclock.dt = 0.01*ms\n",
    "El = -54.5*mV\n",
    "Nai,Nao = 20*mM,155*mM\n",
    "Ki,Ko = 75*mM,3*mM\n",
    "\n",
    "\n",
    "C = 1*uF/cm2*area\n",
    "\n",
    "gna = 120*mS/cm2*area\n",
    "gk = 36*mS/cm2*area\n",
    "gl = 0.3*mS/cm2*area\n",
    "\n",
    "# leak current\n",
    "ileak_eqs = Equations(\"ileak = gl*(V-El) : amp\")\n",
    "\n",
    "# potassium current\n",
    "Ek = Nernst(Ki,Ko)\n",
    "ik_eqs = Equations(\"\"\"\n",
    "ik = gk*n**4*(V - Ek) : amp\n",
    "# -- gating -- \n",
    "dn/dt = nalpha*(1-n) - nbeta*n : 1\n",
    "nalpha = 0.01*(V + 55.0*mV)/(1 - exp(-(V + 55.0*mV)/10.0/mV))/mV/ms : 1/second\n",
    "nbeta = 0.125*exp(-(V + 65.0*mV)/80.0/mV)/ms: Hz\n",
    "\"\"\")\n",
    "\n",
    "# sodium current\n",
    "Ena = Nernst(Nai,Nao)\n",
    "ina_eqs = Equations(\"\"\"\n",
    "ina = gna*m**3*h*(V-Ena) : amp\n",
    "# -- gating -- \n",
    "dm/dt = malpha*(1-m) - mbeta*m : 1\n",
    "dh/dt = halpha*(1-h) - hbeta*h : 1\n",
    "# -- activation gate rates -- \n",
    "malpha = 0.1*(V+40.0*mV)/(1 - exp(-(V+40*mV)/10./mV))/mV/ms : 1/second\n",
    "mbeta = 4*exp(-(V+65*mV)/18/mV)/ms : 1/second\n",
    "# -- inactivation -- \n",
    "halpha = 0.07*exp(-(V+65.0*mV)/20.0/mV)/ms : 1/second\n",
    "hbeta = 1/(1.0 + exp(-(V+35.0*mV)/10.0/mV))/ms : 1/second\n",
    "\"\"\")\n",
    "\n",
    "# Full set of equations\n",
    "hh_eqs = Equations(\"\"\"\n",
    "dV/dt = (I_stim - ileak - ina - ik)/C : volt\n",
    "stim_amp : 1\n",
    "I_stim =  stim_amp*input_current(t,i): amp\n",
    "\"\"\") + ik_eqs + ina_eqs + ileak_eqs"
   ]
  },
  {
   "cell_type": "code",
   "execution_count": null,
   "id": "e01e3561",
   "metadata": {},
   "outputs": [],
   "source": [
    "input_current = inpf.get_step_current(300, 800, 1.0*ms, 1.0*uA)"
   ]
  },
  {
   "cell_type": "code",
   "execution_count": null,
   "id": "bd5c72c2",
   "metadata": {},
   "outputs": [],
   "source": [
    "print(\"Membrane capacitance: {:0.3e}\".format(C))\n",
    "print(\"Max Na conductance: {:0.3e}\".format(gna))"
   ]
  },
  {
   "cell_type": "code",
   "execution_count": null,
   "id": "e37ba5c9",
   "metadata": {},
   "outputs": [],
   "source": [
    "print(\"Sodium reversal potential Ena = {:2.1f} mV\".format(Ena/mV))\n",
    "print(\"Potassium reversal potential EK = {:2.1f} mV\".format(Ek/mV))"
   ]
  },
  {
   "cell_type": "code",
   "execution_count": null,
   "id": "19db9bc6",
   "metadata": {},
   "outputs": [],
   "source": [
    "start_scope()\n",
    "\n",
    "G = NeuronGroup(1, hh_eqs, method='exponential_euler')\n",
    "G.set_states(dict(V=-65.2*mV, m=0.05,h=0.6,n=0.3))"
   ]
  },
  {
   "cell_type": "code",
   "execution_count": null,
   "id": "8af546f2",
   "metadata": {},
   "outputs": [],
   "source": [
    "G.stim_amp = 0 \n",
    "run(20*ms)\n",
    "#states = G.get_states()\n",
    "stateM = StateMonitor(G, variables=True,record=True)\n",
    "store() # Store the initialized state of the model\n",
    "#store()"
   ]
  },
  {
   "cell_type": "markdown",
   "id": "753d70ea",
   "metadata": {},
   "source": [
    "### Excitability properties"
   ]
  },
  {
   "cell_type": "code",
   "execution_count": null,
   "id": "a2b95c16",
   "metadata": {},
   "outputs": [],
   "source": [
    "restore() # restore the initialized state and run new experiment\n",
    "G.stim_amp = 2.1 # try to find threshold for (1) single spike, (2) sustained firing\n",
    "run(1*second)\n",
    "f,axs = subplots(2,1,sharex=True)\n",
    "axs[0].plot(stateM.t/ms, stateM.V[0]/mV,label='membrane potential [mV]')\n",
    "axs[1].plot(stateM.t/ms, stateM.I_stim[0]/uA,c='tomato',label='I_stim')\n",
    "axs[0].legend(); axs[1].legend()\n",
    "xlabel('time [ms]'); "
   ]
  },
  {
   "cell_type": "markdown",
   "id": "5fa5e6fa",
   "metadata": {},
   "source": [
    "### Rebound spike"
   ]
  },
  {
   "cell_type": "code",
   "execution_count": null,
   "id": "a41516e4",
   "metadata": {},
   "outputs": [],
   "source": [
    "restore() # restore the initialized state and run new experiment\n",
    "G.stim_amp = -2.1\n",
    "run(1*second)\n",
    "f,axs = subplots(2,1,sharex=True)\n",
    "axs[0].plot(stateM.t/ms, stateM.V[0]/mV,label='membrane potential [mV]')\n",
    "axs[1].plot(stateM.t/ms, stateM.I_stim[0]/uA,c='tomato',label='I_stim')\n",
    "axs[0].legend(); axs[1].legend()\n",
    "xlabel('time [ms]'); "
   ]
  },
  {
   "cell_type": "code",
   "execution_count": null,
   "id": "209af1a8",
   "metadata": {},
   "outputs": [],
   "source": [
    "start_scope()\n",
    "\n",
    "Ndummy = 200\n",
    "Vv = linspace(-90,40,Ndummy)*mV\n",
    "\n",
    "dummy_eqs = \"\"\"dV/dt = (V0-V)/ms: volt\n",
    "               V0:volt\n",
    "            \"\"\"\n",
    "\n",
    "dummyG = NeuronGroup(Ndummy,\n",
    "                     Equations(dummy_eqs)+ik_eqs+ina_eqs,method='euler')\n",
    "dummyG.V0 = Vv\n",
    "dummyG.V = Vv\n",
    "M = StateMonitor(dummyG,variables=True,record=True)\n",
    "run(defaultclock.dt)"
   ]
  },
  {
   "cell_type": "code",
   "execution_count": null,
   "id": "474cdc4c",
   "metadata": {},
   "outputs": [],
   "source": [
    "f,axs = subplots(1,3,sharex=True,figsize=(16,4))\n",
    "axs[0].plot(Vv/mV, M.malpha,label=r'$\\alpha_m$')\n",
    "axs[0].plot(Vv/mV, M.mbeta,label=r'$\\beta_m$')\n",
    "axs[0].legend()\n",
    "\n",
    "axs[1].plot(Vv/mV, M.malpha/(M.malpha+M.mbeta),label=r'$m_\\infty$')\n",
    "axs[1].legend()\n",
    "\n",
    "axs[2].plot(Vv/mV, 1/(M.malpha+M.mbeta)/ms,label=r'$\\tau_m$')\n",
    "axs[2].legend()\n",
    "\n",
    "\n",
    "xlabel('V [mV]')\n"
   ]
  },
  {
   "cell_type": "markdown",
   "id": "762cc52a",
   "metadata": {},
   "source": [
    "**Exercise:**\n",
    " - [ ] Make graphs like the one above, but for $n$ and $h$ gating variables"
   ]
  },
  {
   "cell_type": "markdown",
   "id": "f91af780",
   "metadata": {},
   "source": [
    "  ## Neurons of the VCN (Rothman & Manis *J Neurophysiol* 2003)"
   ]
  },
  {
   "cell_type": "code",
   "execution_count": null,
   "id": "a4455916",
   "metadata": {},
   "outputs": [],
   "source": [
    "import pandas as pd"
   ]
  },
  {
   "cell_type": "code",
   "execution_count": null,
   "id": "df0452ac",
   "metadata": {},
   "outputs": [],
   "source": [
    "soma_diameter = 21*um\n",
    "soma_area = pi*soma_diameter**2\n",
    "C = 0.9*uF/cm2*soma_area\n",
    "C"
   ]
  },
  {
   "cell_type": "code",
   "execution_count": null,
   "id": "9b54f256",
   "metadata": {},
   "outputs": [],
   "source": [
    "Ek = -70*mV\n",
    "Ena = +55*mV\n",
    "Eh = -43*mV\n",
    "Elk = -65*mV"
   ]
  },
  {
   "cell_type": "markdown",
   "id": "bf905b9e",
   "metadata": {},
   "source": [
    "### Sodium current"
   ]
  },
  {
   "cell_type": "code",
   "execution_count": null,
   "id": "e4daa2c4",
   "metadata": {},
   "outputs": [],
   "source": [
    "# sodium current\n",
    "ina_eqs_vcn = Equations(\"\"\"\n",
    "ina_vcn = gnabar*m**3*h*(V-Ena) : amp\n",
    "# -- gating -- \n",
    "dm/dt = (minf-m)/mtau : 1\n",
    "dh/dt = (hinf-h)/htau : 1\n",
    "\n",
    "minf= 1/(1 + exp(-(V+38*mV)/7./mV)) : 1\n",
    "hinf = 1/(1 + exp((V+65*mV)/6./mV)) : 1\n",
    "mtau = 10*ms/(5*exp((V+60*mV)/18./mV) + 36*exp(-(V+60*mV)/25./mV)) + 0.04*ms : second\n",
    "htau = 100*ms/(7*exp((V+60*mV)/11./mV) + 10*exp(-(V+60*mV)/25./mV)) + 0.6*ms : second\n",
    "\"\"\")"
   ]
  },
  {
   "cell_type": "markdown",
   "id": "40a170d3",
   "metadata": {},
   "source": [
    "### Kht (high-threshold К current)\n"
   ]
  },
  {
   "cell_type": "code",
   "execution_count": null,
   "id": "8d2b7fb3",
   "metadata": {},
   "outputs": [],
   "source": [
    "ikht_eqs = Equations(\"\"\"\n",
    "ikht = gkhtbar*(phi*n**2 + (1-phi)*p)*(V-Ek) : amp\n",
    "phi =  0.85 : 1\n",
    "\n",
    "dn/dt = (ninf - n)/ntau: 1\n",
    "dp/dt = (pinf-p)/ptau : 1\n",
    "\n",
    "ninf = 1/(1 + exp(-(V/mV+15)/5.))**0.5 : 1\n",
    "pinf = 1/(1 + exp(-(V/mV+23)/6.)) : 1\n",
    "ntau = (100/(11*exp((V/mV+60.0)/24.0) + 21.0*exp(-(V/mV+60.0)/23.0)) + 0.7)*ms : second\n",
    "ptau = (100/(4*exp((V/mV+60.0)/32.0) + 5.0*exp(-(V/mV+60.0)/22.0)) + 5.0)*ms   : second\n",
    "\"\"\")"
   ]
  },
  {
   "cell_type": "markdown",
   "id": "c4d71b04",
   "metadata": {},
   "source": [
    "### Klt (low-threshold К current)"
   ]
  },
  {
   "cell_type": "code",
   "execution_count": null,
   "id": "0d55c421",
   "metadata": {},
   "outputs": [],
   "source": [
    "iklt_eqs = Equations(\"\"\"\n",
    "iklt = gkltbar*(w**4)*z*(V-Ek) : amp\n",
    "\n",
    "dw/dt = (winf-w)/wtau : 1\n",
    "dz/dt = (zinf-z)/ztau : 1\n",
    "\n",
    "winf = (1 + exp(-(V/mV+48)/6.0))**-0.25 : 1\n",
    "wtau = (100/(6.0*exp((V/mV+60.0)/6.0) + 16.0*exp(-(V/mV+60.0)/45.0)) + 1.5)*ms: second\n",
    "\n",
    "zinf = (1-0.5)*(1 + exp((V/mV+71)/10.0))**-1 + 0.5 : 1\n",
    "ztau = (1000/(exp((V/mV+60)/20.0) + exp(-(V/mV+60)/8.0)) + 50)*ms : second\n",
    "\"\"\")"
   ]
  },
  {
   "cell_type": "markdown",
   "id": "33c6122a",
   "metadata": {},
   "source": [
    "### Ih (hyperpolarization-activated current)"
   ]
  },
  {
   "cell_type": "code",
   "execution_count": null,
   "id": "05af6076",
   "metadata": {},
   "outputs": [],
   "source": [
    "ih_eqs = Equations(\"\"\"\n",
    "ih = ghbar*r*(V-Eh) : amp\n",
    "dr/dt = (rinf-r)/rtau : 1\n",
    "rinf = 1/(1 + exp((V/mV+76)/7.)) : 1\n",
    "rtau = (10**5/(237*exp((V/mV+60)/12.) + 17*exp(-(V/mV+60)/14.)) + 25)*ms : second\n",
    "\"\"\")\n"
   ]
  },
  {
   "cell_type": "markdown",
   "id": "5c0073d2",
   "metadata": {},
   "source": [
    "### Full vcn equations:"
   ]
  },
  {
   "cell_type": "code",
   "execution_count": null,
   "id": "9e04cb64",
   "metadata": {},
   "outputs": [],
   "source": [
    "vcn_equations = Equations(\"\"\"\n",
    "dV/dt = (I_stim - ileak - ina_vcn - ikht - iklt - ih)/C : volt\n",
    "ileak = glk*(V-Elk) : amp\n",
    "stim_amp : 1\n",
    "I_stim =  stim_amp*input_current(t,i): amp\n",
    "\"\"\") + ina_eqs_vcn + ikht_eqs + iklt_eqs + ih_eqs"
   ]
  },
  {
   "cell_type": "markdown",
   "id": "6bea51c8",
   "metadata": {},
   "source": [
    "### Conductances in nS"
   ]
  },
  {
   "cell_type": "code",
   "execution_count": null,
   "id": "7546524a",
   "metadata": {},
   "outputs": [],
   "source": [
    "rm_params = pd.read_csv(\"Rothman-Manis-2003-table1.csv\", index_col=0)\n",
    "rm_params"
   ]
  },
  {
   "cell_type": "code",
   "execution_count": null,
   "id": "afffe24b",
   "metadata": {},
   "outputs": [],
   "source": [
    "def convert_rm_table_units(key):\n",
    "    return {k:v*nS for k,v in dict(rm_params[key]).items()}"
   ]
  },
  {
   "cell_type": "markdown",
   "id": "06ddc6e1",
   "metadata": {},
   "source": [
    "## Setting up the neurons"
   ]
  },
  {
   "cell_type": "code",
   "execution_count": null,
   "id": "52ace38d",
   "metadata": {},
   "outputs": [],
   "source": [
    "start_scope()\n",
    "\n",
    "G_typeIc =  NeuronGroup(1, vcn_equations, namespace=convert_rm_table_units('Ic'), method='exponential_euler')"
   ]
  },
  {
   "cell_type": "code",
   "execution_count": null,
   "id": "442f9f1c",
   "metadata": {},
   "outputs": [],
   "source": [
    "input_current = inpf.get_step_current(300, 450, 1*ms, 1.0*pA)"
   ]
  },
  {
   "cell_type": "code",
   "execution_count": null,
   "id": "6e1fddbe",
   "metadata": {},
   "outputs": [],
   "source": [
    "run(200*ms)\n",
    "MIc = StateMonitor(G_typeIc, variables=True, record=True)\n",
    "store()\n"
   ]
  },
  {
   "cell_type": "code",
   "execution_count": null,
   "id": "afdc696e",
   "metadata": {},
   "outputs": [],
   "source": [
    "restore()\n",
    "G_typeIc.stim_amp = 50\n",
    "run(0.5*second)\n",
    "vplus = MIc.V[0][:]\n",
    "#plot(MIc.t/ms, MIc.V[0]/mV)"
   ]
  },
  {
   "cell_type": "code",
   "execution_count": null,
   "id": "8bc158e1",
   "metadata": {},
   "outputs": [],
   "source": [
    "restore()\n",
    "G_typeIc.stim_amp = -50\n",
    "run(0.5*second)\n",
    "plot(MIc.t/ms, vplus/mV)\n",
    "plot(MIc.t/ms, MIc.V[0]/mV)\n",
    "legend(('response to +I', 'response to -I '))"
   ]
  },
  {
   "cell_type": "code",
   "execution_count": null,
   "id": "bf7bddfd",
   "metadata": {},
   "outputs": [],
   "source": [
    "start_scope()\n",
    "G_typeII =  NeuronGroup(1, vcn_equations, namespace=convert_rm_table_units('II'), method='exponential_euler')"
   ]
  },
  {
   "cell_type": "code",
   "execution_count": null,
   "id": "1ffdad14",
   "metadata": {},
   "outputs": [],
   "source": [
    "run(200*ms)\n",
    "MII = StateMonitor(G_typeII, variables=True, record=True)\n",
    "store()"
   ]
  },
  {
   "cell_type": "code",
   "execution_count": null,
   "id": "60256a23",
   "metadata": {},
   "outputs": [],
   "source": [
    "restore()\n",
    "G_typeII.stim_amp = 500\n",
    "run(0.5*second)\n",
    "plot(MII.t/ms, MII.V[0]/mV, label='+500pA')\n",
    "\n",
    "restore()\n",
    "G_typeII.stim_amp = -400\n",
    "run(0.5*second)\n",
    "plot(MII.t/ms, MII.V[0]/mV,label='-400pA')\n",
    "xlabel('time [ms]')\n",
    "ylabel('membrane voltage [mV]')\n",
    "\n",
    "legend()"
   ]
  },
  {
   "cell_type": "markdown",
   "id": "632e3dd7",
   "metadata": {},
   "source": [
    "**Exercise:**\n",
    "   - Explain, why the membrane voltage sags during hyperpolarizing stimulus\n",
    "   - why does it sag more in the typeII model?\n",
    "   - test if typeI neuron can encode input current amplitude in spiking frequency\n",
    "   - which current is the slowest?"
   ]
  },
  {
   "cell_type": "markdown",
   "id": "999d6a0e",
   "metadata": {},
   "source": [
    "**Themes for projects (may want to choose one)**\n",
    "   - Investigate bifurcations of the resting state of the typeI and typeII neurons\n",
    "   - Investigate response of typeI and typeII models to stimulation with noisy injected current or injected conductance. You may want to read Brian2 documentation on how to do this kind of simulation"
   ]
  },
  {
   "cell_type": "code",
   "execution_count": null,
   "id": "dffdd61a",
   "metadata": {},
   "outputs": [],
   "source": []
  },
  {
   "cell_type": "code",
   "execution_count": null,
   "id": "339f745a",
   "metadata": {},
   "outputs": [],
   "source": []
  }
 ],
 "metadata": {
  "jupytext": {
   "formats": "ipynb,md"
  },
  "kernelspec": {
   "display_name": "Python 3 (ipykernel)",
   "language": "python",
   "name": "python3"
  }
 },
 "nbformat": 4,
 "nbformat_minor": 5
}
