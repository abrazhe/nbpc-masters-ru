{
 "cells": [
  {
   "cell_type": "markdown",
   "id": "d1c5f7e8",
   "metadata": {},
   "source": [
    "# Reproduce and extend the A. Destexhe *Neural. Comp* 2009 paper on sustained asynchronous firing in networks of AdEx neurons"
   ]
  },
  {
   "cell_type": "code",
   "execution_count": null,
   "id": "6d157c91",
   "metadata": {
    "lines_to_next_cell": 2
   },
   "outputs": [],
   "source": [
    "# check if notebook is running in Colab and install packages if it is\n",
    "RunningInCOLAB = 'google.colab' in str(get_ipython())\n",
    "\n",
    "if RunningInCOLAB:\n",
    "  ! pip install brian2\n",
    "  ! pip install pandas\n",
    "  ! wget https://raw.githubusercontent.com/abrazhe/nbpc-masters-ru/master/notebooks/input_factory.py\n",
    "  ! wget https://raw.githubusercontent.com/abrazhe/nbpc-masters-ru/master/notebooks/adex_params.csv\n"
   ]
  },
  {
   "cell_type": "code",
   "execution_count": null,
   "id": "8089c33a",
   "metadata": {},
   "outputs": [],
   "source": [
    "%pylab inline"
   ]
  },
  {
   "cell_type": "code",
   "execution_count": null,
   "id": "15b625ad",
   "metadata": {},
   "outputs": [],
   "source": [
    "sys.version"
   ]
  },
  {
   "cell_type": "code",
   "execution_count": null,
   "id": "70778065",
   "metadata": {},
   "outputs": [],
   "source": [
    "import os"
   ]
  },
  {
   "cell_type": "code",
   "execution_count": null,
   "id": "c594eba7",
   "metadata": {},
   "outputs": [],
   "source": [
    "if not os.path.exists('outputs'):\n",
    "    os.mkdir('outputs')"
   ]
  },
  {
   "cell_type": "code",
   "execution_count": null,
   "id": "bbae57d6",
   "metadata": {},
   "outputs": [],
   "source": [
    "from brian2 import *"
   ]
  },
  {
   "cell_type": "code",
   "execution_count": null,
   "id": "44371039",
   "metadata": {},
   "outputs": [],
   "source": [
    "import input_factory as inpf"
   ]
  },
  {
   "cell_type": "code",
   "execution_count": null,
   "id": "85635a90",
   "metadata": {},
   "outputs": [],
   "source": [
    "def beautify_spikes(statemon,spikemon,neuron_id):\n",
    "    vm = statemon[neuron_id].v[:]\n",
    "    offset = statemon.t[0]#/defaultclock.dt\n",
    "    dt = statemon.t[1]-statemon.t[0]\n",
    "    spike_times = spikemon.t[spikemon.i == neuron_id]\n",
    "    for t in spike_times:\n",
    "        i = int((t-offset) / dt)\n",
    "        vm[i] = 20*mV\n",
    "    return vm"
   ]
  },
  {
   "cell_type": "code",
   "execution_count": null,
   "id": "f9cf6ac0",
   "metadata": {
    "lines_to_next_cell": 2
   },
   "outputs": [],
   "source": [
    "#style.use('ggplot')           # more stylish plots\n",
    "#style.use('seaborn-muted')    # better default line colors\n",
    "\n",
    "rc('axes',labelsize=12, grid=True)\n",
    "rc('figure', dpi=150, figsize=(9,9*0.618))\n",
    "rc('axes',grid=True)"
   ]
  },
  {
   "cell_type": "code",
   "execution_count": null,
   "id": "f86d7264",
   "metadata": {},
   "outputs": [],
   "source": [
    "def raster_spikes(spikemon, offset=0, ax=None,color='k'):\n",
    "    if ax is None:\n",
    "        f,ax = subplots(1,1)\n",
    "    ax.plot(spikemon.t/ms, offset+spikemon.i,',',c=color)\n",
    "    "
   ]
  },
  {
   "cell_type": "code",
   "execution_count": null,
   "id": "0e0f6407",
   "metadata": {},
   "outputs": [],
   "source": []
  },
  {
   "cell_type": "markdown",
   "id": "64aa408c",
   "metadata": {},
   "source": [
    "## AdEx model in Destexhe's formulation\n",
    "\n",
    "\\begin{align}\n",
    "C_m\\frac{dV}{dt} & =   -g_l(V-E_l) + g_l\\Delta V\\exp(\\frac{V-V_T}{\\Delta V}) - w/S\\\\\n",
    "\\tau_w\\frac{dw}{dt} & =  a(V-E_l) - w\n",
    "\\end{align}\n",
    "\n",
    "Здесь можно писать всевозможные объяснения. В том числе **полужирным** и *курсивом*"
   ]
  },
  {
   "cell_type": "code",
   "execution_count": null,
   "id": "0c8d6c49",
   "metadata": {},
   "outputs": [],
   "source": [
    "import sys"
   ]
  },
  {
   "cell_type": "markdown",
   "id": "82abd913",
   "metadata": {},
   "source": [
    "### Parameters"
   ]
  },
  {
   "cell_type": "code",
   "execution_count": null,
   "id": "0e5a737e",
   "metadata": {},
   "outputs": [],
   "source": [
    "Cm = 1*uF/cm2\n",
    "gl = 0.05 *mS/cm2\n",
    "El = -60 *mV\n",
    "VT = -50 *mV\n",
    "Sarea = 20e3*um2\n",
    "tau_w = 600 *ms\n",
    "#tau_w = 100 *ms\n",
    "deltaT = 2.5*mV\n",
    "Vcut = -20*mV\n",
    "#Vreset = -55*mV\n",
    "Vreset = -55*mV\n",
    "\n",
    "Ena = 50*mV\n",
    "Ek = -75*mV\n",
    "\n",
    "Rin = (1/gl)/Sarea\n",
    "\n",
    "# Synapses\n",
    "E_e = 0*mV     # Excitatory synaptic reversal potential (AMPA and NMDA receptors)\n",
    "E_i = -80*mV   # Inhibitory synaptic reversal potential (GABAA receptors)\n",
    "tau_e = 5*ms   # time scale of excitatory synaptic conductance\n",
    "tau_i = 10*ms  # time scale of excitatory synaptic conductance\n"
   ]
  },
  {
   "cell_type": "code",
   "execution_count": null,
   "id": "26cd0760",
   "metadata": {},
   "outputs": [],
   "source": [
    "Cm_full = Sarea*Cm\n",
    "Cm_full"
   ]
  },
  {
   "cell_type": "code",
   "execution_count": null,
   "id": "867a264e",
   "metadata": {},
   "outputs": [],
   "source": [
    "sqrt(Sarea/4/pi)"
   ]
  },
  {
   "cell_type": "code",
   "execution_count": null,
   "id": "2db57d8c",
   "metadata": {},
   "outputs": [],
   "source": [
    "Gl = gl*Sarea\n",
    "Gl"
   ]
  },
  {
   "cell_type": "code",
   "execution_count": null,
   "id": "2b2082b6",
   "metadata": {},
   "outputs": [],
   "source": [
    "from brian2.units.constants import zero_celsius, gas_constant as R, faraday_constant as F"
   ]
  },
  {
   "cell_type": "code",
   "execution_count": null,
   "id": "5960af9f",
   "metadata": {},
   "outputs": [],
   "source": [
    "F_ATP = 50*kjoule/mole"
   ]
  },
  {
   "cell_type": "code",
   "execution_count": null,
   "id": "ee0bd9ce",
   "metadata": {},
   "outputs": [],
   "source": [
    "Rin"
   ]
  },
  {
   "cell_type": "code",
   "execution_count": null,
   "id": "9064e532",
   "metadata": {},
   "outputs": [],
   "source": []
  },
  {
   "cell_type": "code",
   "execution_count": null,
   "id": "75066ae9",
   "metadata": {},
   "outputs": [],
   "source": [
    "AdEx_equations = Equations('''\n",
    "dv/dt = (-gl*(v-El) + gl*deltaT*exp((v-VT)/deltaT) - u/Sarea + Isyn/Sarea + Ibias/Sarea + Iapp/Sarea)/Cm : volt (unless refractory)\n",
    "du/dt = (a*(v-El) - u)/tau_w: amp  # adaptation current\n",
    "stim_amp : 1\n",
    "Ibias : amp\n",
    "Iapp = stim_amp*input_current(t,i): amp\n",
    "''')\n",
    "\n",
    "# Synaptic input\n",
    "synaptic_equations = Equations(\"\"\"\n",
    "Isyn =  -g_e*(v-E_e) - g_i*(v-E_i) : amp\n",
    "dg_e/dt = -g_e/tau_e : siemens\n",
    "dg_i/dt = -g_i/tau_i : siemens\n",
    "\"\"\")\n",
    "\n",
    "reset_equations = 'v=Vreset; u += b;'"
   ]
  },
  {
   "cell_type": "code",
   "execution_count": null,
   "id": "69dc8d82",
   "metadata": {},
   "outputs": [],
   "source": [
    "PY_pars = dict(a=0.001*uS, b=0.04*nA)\n",
    "FS_pars = dict(a=0.001*uS, b=0.00*nA)\n",
    "LTS_pars = dict(a=0.02*uS, b=0.0*nA)\n",
    "TC_pars = dict(a=0.04*uS, b=0.0*nA)\n",
    "RE_pars = dict(a=0.03*uS, b=0.08*nA)\n",
    "RS1_pars = dict(a=0.001*uS, b=0.04*nA)\n",
    "RS2_pars = dict(a=0.001*uS, b=0.005*nA)            "
   ]
  },
  {
   "cell_type": "code",
   "execution_count": null,
   "id": "c5496003",
   "metadata": {},
   "outputs": [],
   "source": [
    "RS2_pars"
   ]
  },
  {
   "cell_type": "markdown",
   "id": "c6c609da",
   "metadata": {},
   "source": [
    "## Reproducing Fig. 1\n",
    "\n",
    "Below we learn to create groups of neurons with specified parameters and run a simulation."
   ]
  },
  {
   "cell_type": "code",
   "execution_count": null,
   "id": "28bd1bdf",
   "metadata": {},
   "outputs": [],
   "source": [
    "shared_params = dict(refractory=2.5*ms, threshold='v > Vcut', reset=reset_equations, method='exponential_euler')"
   ]
  },
  {
   "cell_type": "code",
   "execution_count": null,
   "id": "a6db3f42",
   "metadata": {},
   "outputs": [],
   "source": [
    "start_scope()\n",
    "\n",
    "Nneurons = 3\n",
    "\n",
    "defaultclock.dt = 0.1*ms\n",
    "\n",
    "G_LTS = NeuronGroup(Nneurons, \n",
    "                AdEx_equations+synaptic_equations,\n",
    "                namespace=LTS_pars,\n",
    "                **shared_params)\n",
    "\n",
    "G_LTS.set_states(dict(v=El,u=0))\n",
    "\n",
    "G_LTS.stim_amp = (-0.25,0,0.25)\n",
    "M_LTS = StateMonitor(G_LTS, ['v','u'], record=True)\n",
    "S_LTS = SpikeMonitor(G_LTS,)\n",
    "\n",
    "G_RS1 = NeuronGroup(Nneurons, \n",
    "                AdEx_equations+synaptic_equations,\n",
    "                namespace=RS1_pars,\n",
    "                **shared_params)\n",
    "\n",
    "G_RS1.set_states(dict(v=El,u=0))\n",
    "\n",
    "G_RS1.stim_amp = (-0.25,0,0.25)\n",
    "M_RS1 = StateMonitor(G_RS1, ['v','u'], record=True)\n",
    "S_RS1 = SpikeMonitor(G_RS1,)\n",
    "\n",
    "G_RS2 = NeuronGroup(Nneurons, \n",
    "                AdEx_equations+synaptic_equations,\n",
    "                namespace=RS2_pars,\n",
    "                **shared_params)\n",
    "\n",
    "G_RS2.set_states(dict(v=El,u=0))\n",
    "\n",
    "G_RS2.stim_amp = (-0.25,0,0.25)\n",
    "M_RS2 = StateMonitor(G_RS2, ['v','u'], record=True)\n",
    "S_RS2 = SpikeMonitor(G_RS2,)\n",
    "\n",
    "G_FS = NeuronGroup(Nneurons, \n",
    "                AdEx_equations+synaptic_equations,\n",
    "                namespace=FS_pars,\n",
    "                **shared_params)\n",
    "\n",
    "G_FS.set_states(dict(v=El,u=0))\n",
    "\n",
    "G_FS.stim_amp = (-0.25,0,0.25)\n",
    "M_FS = StateMonitor(G_FS, ['v','u'], record=True)\n",
    "S_FS = SpikeMonitor(G_FS,)\n",
    "\n",
    "G_TC = NeuronGroup(Nneurons, \n",
    "                AdEx_equations+synaptic_equations,\n",
    "                namespace=TC_pars,\n",
    "                **shared_params)\n",
    "\n",
    "G_TC.set_states(dict(v=El,u=0))\n",
    "\n",
    "G_TC.stim_amp = (-0.25,0,0.25)\n",
    "M_TC = StateMonitor(G_TC, ['v','u'], record=True)\n",
    "S_TC = SpikeMonitor(G_TC,)\n",
    "\n",
    "G_RE = NeuronGroup(Nneurons, \n",
    "                AdEx_equations+synaptic_equations,\n",
    "                namespace=RE_pars,\n",
    "                **shared_params)\n",
    "\n",
    "G_RE.set_states(dict(v=El,u=0))\n",
    "\n",
    "G_RE.stim_amp = (-0.25,0,0.25)\n",
    "M_RE = StateMonitor(G_RE, ['v','u'], record=True)\n",
    "S_RE = SpikeMonitor(G_RE,)\n"
   ]
  },
  {
   "cell_type": "code",
   "execution_count": null,
   "id": "3135f3f9",
   "metadata": {},
   "outputs": [],
   "source": [
    "input_current = inpf.get_step_current(200, 700, 1*ms, 1.0*nA,Nneurons=Nneurons)"
   ]
  },
  {
   "cell_type": "code",
   "execution_count": null,
   "id": "551cb551",
   "metadata": {},
   "outputs": [],
   "source": [
    "store()"
   ]
  },
  {
   "cell_type": "code",
   "execution_count": null,
   "id": "7ffdd624",
   "metadata": {},
   "outputs": [],
   "source": [
    "restore()"
   ]
  },
  {
   "cell_type": "code",
   "execution_count": null,
   "id": "79b4773b",
   "metadata": {},
   "outputs": [],
   "source": [
    "%time run(1.5*second, report='text')"
   ]
  },
  {
   "cell_type": "code",
   "execution_count": null,
   "id": "0c48f41e",
   "metadata": {},
   "outputs": [],
   "source": [
    "f, axs = subplots(2,3,sharex=True,sharey=True,figsize=(15,10))\n",
    "\n",
    "axs[0,0].plot(M_RS1.t/ms, beautify_spikes(M_RS1,S_RS1,2)/mV,label='+0.25nA')\n",
    "axs[0,0].plot(M_RS1.t/ms, beautify_spikes(M_RS1,S_RS1,0)/mV,label='-0.25nA')\n",
    "axs[0,0].set_title(\"RS neuron, type1\")\n",
    "axs[0,0].legend()\n",
    "\n",
    "axs[0,1].plot(M_RS2.t/ms, beautify_spikes(M_RS2,S_RS2,2)/mV,label='+0.25nA')\n",
    "axs[0,1].plot(M_RS2.t/ms, beautify_spikes(M_RS2,S_RS2,0)/mV,label='-0.25nA')\n",
    "axs[0,1].set_title(\"RS neuron, type2\")\n",
    "axs[0,1].legend()\n",
    "\n",
    "axs[0,2].plot(M_FS.t/ms, beautify_spikes(M_FS,S_FS,2)/mV,label='+0.25nA')\n",
    "axs[0,2].plot(M_FS.t/ms, beautify_spikes(M_FS,S_FS,0)/mV,label='-0.25nA')\n",
    "axs[0,2].set_title(\"FS neuron\")\n",
    "axs[0,2].legend()\n",
    "\n",
    "axs[1,0].plot(M_LTS.t/ms, beautify_spikes(M_LTS,S_LTS,2)/mV,label='+0.25nA')\n",
    "axs[1,0].plot(M_LTS.t/ms, beautify_spikes(M_LTS,S_LTS,0)/mV,label='-0.25nA')\n",
    "axs[1,0].set_title(\"LTS neuron\")\n",
    "axs[1,0].legend()\n",
    "\n",
    "axs[1,1].plot(M_TC.t/ms, beautify_spikes(M_TC,S_TC,2)/mV,label='+0.25nA')\n",
    "axs[1,1].plot(M_TC.t/ms, beautify_spikes(M_TC,S_TC,0)/mV,label='-0.25nA')\n",
    "axs[1,1].set_title(\"TC neuron\")\n",
    "axs[1,1].legend()\n",
    "\n",
    "axs[1,2].plot(M_RE.t/ms, beautify_spikes(M_RE,S_RE,2)/mV,label='+0.25nA')\n",
    "axs[1,2].plot(M_RE.t/ms, beautify_spikes(M_RE,S_RE,0)/mV,label='-0.25nA')\n",
    "axs[1,2].set_title(\"RE neuron\")\n",
    "axs[1,2].legend()\n",
    "\n",
    "#title('Regular spiking (pyramidal) neuron')\n",
    "xlabel('time, ms'); axs[0,0].set_ylabel('Vm, mV');\n"
   ]
  },
  {
   "cell_type": "markdown",
   "id": "6881183e",
   "metadata": {},
   "source": [
    "<font color=tomato size=12>Exersize</font>\n",
    "\n",
    " - [ ] Итак, нейроны классов LTS, TC и RE демонстрируют спайки в ответ на снятие гиперполяризующего тока, <font color=red>потому что...</font>\n",
    " - [ ] Обратите внимание на большую гиперполяризацию после серии спайков во многих случаях. <font color='red'>Почему это происходит?</font>"
   ]
  },
  {
   "cell_type": "markdown",
   "id": "11531c96",
   "metadata": {},
   "source": [
    "## Networking\n",
    "\n",
    "Для начала определим ряд параметров и уравнений для описания событий, связанных со спайками в пресинаптическом нейроне, вероятностью выброса кванта нейромедиатора и пластичности."
   ]
  },
  {
   "cell_type": "code",
   "execution_count": null,
   "id": "863f92d2",
   "metadata": {},
   "outputs": [],
   "source": [
    "tau_ps = 0.8*second   # facilitation timescale\n",
    "tau_ns = 1.5*second   # replenishing timescale\n",
    "tau_stdp = 20*ms     # STDP time constant\n",
    "\n",
    "#p_s0 = 1.0            # Start with no facilitation\n",
    "p_s0 = 0.8            # Start with some facilitation\n",
    "#p_s0 = 0.6           # ground-state probability of release\n",
    "\n",
    "\n",
    "depletion_amount = 0.0  # no depression; change in 0...1 interval\n",
    "stdp_amount = 0 # change between 0 and 1\n",
    "pool_size=100000 # make this very large for non-depleting synapses\n",
    "\n",
    "\n",
    "\n",
    "epsilon = 0.02        # sparsity synaptic connectivity\n",
    "\n",
    "Apre0 = 0.01\n",
    "Apost0 = -Apre0*1.05\n",
    "\n",
    "w_e = 6*nS\n",
    "w_i = 67*nS\n",
    "\n",
    "w_ext = 3*nS\n",
    "\n",
    "\n",
    "\n",
    "\n",
    "\n",
    "tm_plasticity_model = Equations('''\n",
    "dp_s/dt = (p_s0-p_s)/tau_ps : 1 (event-driven)    # release probability\n",
    "dn_s/dt = (1-n_s)/tau_ns   : 1    (event-driven)  # fraction of resources available\n",
    "''')\n",
    "\n",
    "stdp_model=Equations('''\n",
    "dApre/dt = -Apre/tau_stdp : 1 (event-driven)    # STDP\n",
    "dApost/dt = -Apost/tau_stdp : 1(event-driven)   # STDP\n",
    "w_syn: 1\n",
    "''')\n",
    "\n",
    "tm_action_pre='''\n",
    "p_s += p_s0*(1-p_s) # facilitation\n",
    "r_s = p_s*n_s       # probability of release\n",
    "n_s -= depletion_amount*r_s          # depletion\n",
    "\n",
    "'''\n",
    "\n",
    "\n",
    "tm_action_pre_s='''\n",
    "p_s += p_s0*(1-p_s) # facilitation\n",
    "r_s = p_s*n_s       # probability of release\n",
    "will_release = (rand() < r_s)\n",
    "n_s = clip(n_s-will_release/pool_size,0,1)          # depletion\n",
    "'''\n",
    "\n",
    "\n",
    "stdp_action_pre='''\n",
    "Apre += Apre0\n",
    "'''\n",
    "\n",
    "stdp_action_post='''\n",
    "Apost += Apost0\n",
    "'''\n",
    "\n",
    "\n",
    "pre_actions_e = '''\n",
    "w_syn = clip(w_syn+Apost, (1-stdp_amount)*w_e/nS, w_e/nS) \n",
    "g_e_post += w_syn*r_s*nS\n",
    "'''\n",
    "\n",
    "pre_actions_e_s = '''\n",
    "w_syn = clip(w_syn+Apost, (1-stdp_amount)*w_e/nS, w_e/nS) \n",
    "g_e_post += w_syn*will_release*nS\n",
    "'''\n",
    "\n",
    "\n",
    "pre_actions_i = '''\n",
    "w_syn = clip(w_syn+Apost, (1-stdp_amount)*w_i/nS, w_i/nS) \n",
    "g_i_post += w_syn*r_s*nS\n",
    "'''\n",
    "\n",
    "pre_actions_i_s = '''\n",
    "w_syn = clip(w_syn+Apost, (1-stdp_amount)*w_i/nS, w_i/nS) \n",
    "g_i_post += w_syn*will_release*nS\n",
    "'''\n",
    "\n",
    "post_actions_e='''\n",
    "w_syn = clip(w_syn+Apre,(1-stdp_amount)*w_e/nS,w_e/nS)\n",
    "'''\n",
    "\n",
    "post_actions_i='''\n",
    "w_syn = clip(w_syn+Apre,(1-stdp_amount)*w_i/nS,w_i/nS)\n",
    "'''"
   ]
  },
  {
   "cell_type": "code",
   "execution_count": null,
   "id": "cfe54d85",
   "metadata": {},
   "outputs": [],
   "source": []
  },
  {
   "cell_type": "markdown",
   "id": "84bb6bb6",
   "metadata": {},
   "source": [
    "## Reproducing Fig. 7\n",
    "\n",
    "Попробуем собрать сеть из RS, LTS и FS нейронов. Первые два класса будут образовывать возбуждающие синапсы, последний класс будет описывать интернейроны и давать тормозящие синапсы.\n",
    "\n",
    "Но сначала нам нужно создать группу \"как-бы нейронов\", которые будут выдавать ПД в случайные моменты времени в течение заданного периода. Этим мы будем моделировать внешние возбуждающие связи, необходимые для затравки собственной сетевой активности."
   ]
  },
  {
   "cell_type": "code",
   "execution_count": null,
   "id": "a67f9dbe",
   "metadata": {},
   "outputs": [],
   "source": [
    "def transient_PoissonGroup(N, rate, start_ms, stop_ms):\n",
    "    thr = 'rand()<rates*dt and t<{stop}*ms and t >={start}*ms'.format(start=start_ms, stop=stop_ms)\n",
    "    g = NeuronGroup(N, 'rates : Hz', threshold=thr)\n",
    "    g.rates = rate\n",
    "    return g\n"
   ]
  },
  {
   "cell_type": "code",
   "execution_count": null,
   "id": "b2014442",
   "metadata": {},
   "outputs": [],
   "source": [
    "shared_params"
   ]
  },
  {
   "cell_type": "code",
   "execution_count": null,
   "id": "f705031d",
   "metadata": {},
   "outputs": [],
   "source": [
    "start_scope()\n",
    "\n",
    "defaultclock.dt = 0.1*ms\n",
    "\n",
    "exc_fraction = 0.8\n",
    "lts_fraction = 0.1\n",
    "\n",
    "Ntotal = 2000\n",
    "Nin = int((1-exc_fraction)*Ntotal)                  # inhibitory neurons (interneurons, aka fast spiking)\n",
    "Nrs = int(exc_fraction*(1-lts_fraction)*Ntotal)     # regular spiking pyramidal neurons\n",
    "Nlts = int(exc_fraction*lts_fraction*Ntotal)        # low-threshold spiking pyramidal neurons\n",
    "\n",
    "prob_scale = 2000/Ntotal\n",
    "\n",
    "P = transient_PoissonGroup(100, 200/second, 50, 250)\n",
    "Pspikes = SpikeMonitor(P,record=True)\n",
    "\n",
    "\n",
    "Gin = NeuronGroup(Nin, AdEx_equations+synaptic_equations,\n",
    "                  namespace = FS_pars, **shared_params)\n",
    "\n",
    "Gin.set_states(dict(v=El, u=0))\n",
    "\n",
    "Min = StateMonitor(Gin,['v','g_e', 'g_i'],record=True,dt=0.5*ms)\n",
    "Sin = SpikeMonitor(Gin, record=True)\n",
    "\n",
    "Glts = NeuronGroup(Nlts, AdEx_equations+synaptic_equations,\n",
    "                   namespace=LTS_pars,\n",
    "                   **shared_params)\n",
    "Glts.set_states(dict(v=El, u=0))\n",
    "\n",
    "Mlts = StateMonitor(Glts,['v','g_e','g_i'],record=True,dt=0.5*ms)\n",
    "Slts = SpikeMonitor(Glts, record=True)\n",
    "\n",
    "Grs = NeuronGroup(Nrs, AdEx_equations+synaptic_equations,\n",
    "                 namespace=RS2_pars,\n",
    "                 **shared_params)\n",
    "Grs.set_states(dict(v=El, u=0))\n",
    "Mrs = StateMonitor(Grs,['v','g_e','g_i'],record=True, dt=0.5*ms)\n",
    "Srs = SpikeMonitor(Grs, record=True)"
   ]
  },
  {
   "cell_type": "code",
   "execution_count": null,
   "id": "497694c0",
   "metadata": {},
   "outputs": [],
   "source": [
    "Nrs,Nlts,Nin"
   ]
  },
  {
   "cell_type": "code",
   "execution_count": null,
   "id": "e45c6099",
   "metadata": {},
   "outputs": [],
   "source": [
    "## Excitatory synapses\n",
    "\n",
    "# External input\n",
    "\n",
    "S_ext = Synapses(P, Grs, on_pre='g_e_post += w_ext')\n",
    "\n",
    "# Deterministic synapses\n",
    "exc_syn_args = dict(model=tm_plasticity_model+stdp_model,\n",
    "                    on_pre=tm_action_pre+stdp_action_pre+pre_actions_e,\n",
    "                    on_post=stdp_action_post+post_actions_e)\n",
    "                   \n",
    "\n",
    "inh_syn_args = dict(model=tm_plasticity_model+stdp_model,\n",
    "                    on_pre=tm_action_pre+stdp_action_pre+pre_actions_i,\n",
    "                    on_post=stdp_action_post+post_actions_i)\n",
    "\n",
    "# # Stochastic synapses\n",
    "# exc_syn_args = dict(model=tm_plasticity_model+stdp_model,\n",
    "#                     on_pre=tm_action_pre_s+stdp_action_pre+pre_actions_e_s,\n",
    "#                     on_post=stdp_action_post+post_actions_e)\n",
    "                   \n",
    "\n",
    "# inh_syn_args = dict(model=tm_plasticity_model+stdp_model,\n",
    "#                     on_pre=tm_action_pre_s+stdp_action_pre+pre_actions_i_s,\n",
    "#                     on_post=stdp_action_post+post_actions_i)\n",
    "\n",
    "\n",
    "# From RS\n",
    "S_rs_rs = Synapses(Grs, Grs, **exc_syn_args)\n",
    "S_rs_lts = Synapses(Grs, Glts,**exc_syn_args)\n",
    "S_rs_in = Synapses(Grs, Gin, **exc_syn_args)\n",
    "\n",
    "# From LTS\n",
    "S_lts_rs = Synapses(Glts, Grs, **exc_syn_args)\n",
    "S_lts_lts = Synapses(Glts, Glts, **exc_syn_args)\n",
    "S_lts_in = Synapses(Glts, Gin, **exc_syn_args)\n",
    "\n",
    "# From FS\n",
    "S_in_rs = Synapses(Gin, Grs, **inh_syn_args)\n",
    "S_in_lts = Synapses(Gin, Glts, **inh_syn_args)\n",
    "S_in_in = Synapses(Gin, Gin, **inh_syn_args)"
   ]
  },
  {
   "cell_type": "code",
   "execution_count": null,
   "id": "0a542206",
   "metadata": {},
   "outputs": [],
   "source": [
    "epsilon*prob_scale"
   ]
  },
  {
   "cell_type": "code",
   "execution_count": null,
   "id": "bd645e23",
   "metadata": {},
   "outputs": [],
   "source": [
    "%%time \n",
    "\n",
    "S_ext.connect(p=0.005)\n",
    "\n",
    "S_rs_rs.connect('i!=j',p=epsilon*prob_scale)\n",
    "S_rs_lts.connect(p=epsilon*prob_scale)\n",
    "S_rs_in.connect(p=epsilon*prob_scale)\n",
    "\n",
    "S_lts_rs.connect(p=epsilon*prob_scale)\n",
    "S_lts_lts.connect('i!=j',p=epsilon*prob_scale)\n",
    "S_lts_in.connect(p=epsilon*prob_scale)\n",
    "\n",
    "excitatory_synapses = [S_rs_rs,S_rs_lts,S_rs_in,\n",
    "                       S_lts_rs,S_lts_lts,S_lts_in]\n",
    "\n",
    "S_in_rs.connect(p=epsilon*prob_scale)\n",
    "S_in_lts.connect(p=epsilon*prob_scale)\n",
    "S_in_in.connect('i!=j',p=epsilon*prob_scale)\n",
    "\n",
    "inhibitory_synapses = [S_in_rs, S_in_lts, S_in_in]\n",
    "cortical_connections = excitatory_synapses+inhibitory_synapses"
   ]
  },
  {
   "cell_type": "code",
   "execution_count": null,
   "id": "02d6094a",
   "metadata": {},
   "outputs": [],
   "source": [
    "cortical_net = Network(P, Gin, Grs, Glts, Mrs, Srs, Mlts, Slts, Min,Sin, Pspikes,\n",
    "                       S_ext, *cortical_connections)"
   ]
  },
  {
   "cell_type": "code",
   "execution_count": null,
   "id": "cbae928e",
   "metadata": {},
   "outputs": [],
   "source": [
    "input_current = inpf.get_step_current(200, 700, 1*ms, 1.0*nA,Nneurons=Ntotal)"
   ]
  },
  {
   "cell_type": "code",
   "execution_count": null,
   "id": "9d5a9b78",
   "metadata": {},
   "outputs": [],
   "source": [
    "cortical_net.store()"
   ]
  },
  {
   "cell_type": "markdown",
   "id": "8b1c23e5",
   "metadata": {},
   "source": [
    "`>>>>> Start over simulation from here <<<<<`\n",
    "\n",
    "К этой ячейке нужно возвращаться, чтобы поменять такие параметры как задержка между нейронами, наличие фасилитации или депрессии в пресинаптической мембране и STDP."
   ]
  },
  {
   "cell_type": "code",
   "execution_count": null,
   "id": "faf506f8",
   "metadata": {},
   "outputs": [],
   "source": [
    "cortical_net.restore() # \"вспоминаем сохраненное состояние\" \n",
    "\n",
    "p_s0 = 1.0               # ground-state probability of release; change in 0...1 interval to allow for facilitation\n",
    "depletion_amount = 0.0  # depression amount; change in 0...1 interval; increase for depressing synapses\n",
    "stdp_amount = 0.00        # STDP amount; change between 0 and 1\n",
    "pool_size=10000 # make this very large for non-depleting synapses (make small for depletion)\n"
   ]
  },
  {
   "cell_type": "code",
   "execution_count": null,
   "id": "dca2b960",
   "metadata": {},
   "outputs": [],
   "source": [
    "average_delay = 3*ms             # средняя синаптическая задержка (фактически, определяется длиной аксона)\n",
    "delay_jitter = 0.5*average_delay # разброс задержек. Здесь, полностью случайный"
   ]
  },
  {
   "cell_type": "code",
   "execution_count": null,
   "id": "7657f74e",
   "metadata": {},
   "outputs": [],
   "source": [
    "for s in cortical_connections:\n",
    "    s.delay = \"average_delay - 0.5*delay_jitter + delay_jitter*rand()\"  # delays in synapses.\n",
    "    print(np.min(s.delay/ms), np.max(s.delay/ms))\n",
    "    s.p_s = p_s0\n",
    "    s.n_s = 1.0"
   ]
  },
  {
   "cell_type": "code",
   "execution_count": null,
   "id": "ee868787",
   "metadata": {},
   "outputs": [],
   "source": [
    "%%time \n",
    "\n",
    "cortical_net.run(4*second, report='stderr') # 4 секунды модельного времени. У меня считает около 2 минут."
   ]
  },
  {
   "cell_type": "code",
   "execution_count": null,
   "id": "0a171584",
   "metadata": {},
   "outputs": [],
   "source": [
    "#mean([Mrs.v[i].max() for i in range(Nrs)])"
   ]
  },
  {
   "cell_type": "code",
   "execution_count": null,
   "id": "27bbdfff",
   "metadata": {},
   "outputs": [],
   "source": []
  },
  {
   "cell_type": "code",
   "execution_count": null,
   "id": "89a0811e",
   "metadata": {},
   "outputs": [],
   "source": [
    "#k=randint(Nlts)\n",
    "\n",
    "def plot_cell(k, state_mon, spike_mon,tag):\n",
    "    f, axs = subplots(3,1, sharex=True, figsize=(14,7))\n",
    "\n",
    "    axs[0].plot(state_mon.t/ms, beautify_spikes(state_mon,spike_mon,k)/mV,color='k')\n",
    "\n",
    "    axs[0].set_ylabel('membrane potential, mV')\n",
    "    axs[0].set_title('активность произвольно выбранной %s-клетки'%tag)\n",
    "\n",
    "    axs[1].plot(state_mon.t/ms, state_mon.g_e[k]/nS, color='tomato')\n",
    "    axs[1].set_ylabel('g_e, nS')\n",
    "    axs[1].set_title('суммарная проводимость возбуждающих синапсов в этой же клетке')\n",
    "\n",
    "    axs[2].plot(state_mon.t/ms, state_mon.g_i[k]/nS,color='royalblue')\n",
    "    axs[2].set_ylabel('g_i, nS')\n",
    "    axs[2].set_title('суммарная проводимость тормозящих синапсов в этой же клетке')\n",
    "\n",
    "\n",
    "    #xlim(200,400)\n",
    "    xlabel('time, ms'); \n",
    "    xlim(0,Mrs.t[-1]/ms)"
   ]
  },
  {
   "cell_type": "code",
   "execution_count": null,
   "id": "0b3568fd",
   "metadata": {},
   "outputs": [],
   "source": [
    "plot_cell(randint(Nrs), Mrs,Srs, 'RS')\n",
    "savefig('outputs/rs-example-dep.png')"
   ]
  },
  {
   "cell_type": "code",
   "execution_count": null,
   "id": "d86d8650",
   "metadata": {},
   "outputs": [],
   "source": [
    "plot_cell(randint(Nlts), Mlts,Slts, 'LTS')\n",
    "savefig('outputs/lts-example-dep.png')"
   ]
  },
  {
   "cell_type": "code",
   "execution_count": null,
   "id": "0bdc95ac",
   "metadata": {},
   "outputs": [],
   "source": [
    "plot_cell(randint(Nin), Min,Sin, 'FS')\n",
    "savefig('outputs/fs-example-dep.png')"
   ]
  },
  {
   "cell_type": "code",
   "execution_count": null,
   "id": "5b0f4390",
   "metadata": {},
   "outputs": [],
   "source": [
    "f,ax = subplots(1,1,figsize=(14,5))\n",
    "\n",
    "\n",
    "raster_spikes(Pspikes,ax=ax,color='gray',offset=-100)\n",
    "raster_spikes(Srs,ax=ax,color='red',offset=0)\n",
    "raster_spikes(Slts,ax=ax,color='orange',offset=0+Nrs)\n",
    "raster_spikes(Sin,ax=ax,color='blue',offset=0+Nrs+Nlts)\n",
    "\n",
    "title('Raster of network activity (blue: IN, orange:LTS, red:PY. gray:external)')\n",
    "xlabel('time, ms')\n",
    "ylabel('neuron #')\n",
    "xlim(0,Mrs.t[-1]/ms)\n",
    "ylim(-100,Ntotal)\n",
    "savefig('outputs/network-activity-dep.png')"
   ]
  },
  {
   "cell_type": "code",
   "execution_count": null,
   "id": "354e6587",
   "metadata": {},
   "outputs": [],
   "source": [
    "Nrs,Nlts,Nin"
   ]
  },
  {
   "cell_type": "markdown",
   "id": "d1463f7f",
   "metadata": {},
   "source": [
    "<font color='tomato' size=10>**Вопросы:**</font>\n",
    "   1. Как зависит наличие самоподдерживающейся активности от средней синаптической задержки? Оцените длину аксона, соответствующую задержке в 10 мс.\n",
    "   1. Как зависит наличие самоподдерживающейся активности от разброса синаптических задержек?\n",
    "   2. Как зависит наличие самоподдерживающейся активности от наличия синаптической фасилитации ($p_{s_0} < 1$)?\n",
    "   2. Как зависит наличие самоподдерживающейся активности от наличия синаптической депрессии?\n",
    "   3. Как зависит активность сети от вклада механизма STDP?\n",
    "                                                                                                          \n",
    "\n",
    "<font color='tomato' size=10>**Задания \"со звёздочкой\"**</font>    \n",
    " - [ ] Воспроизведите результаты статьи используя стохастические синапсы\n",
    " - [ ] Воспроизведите результаты статьи используя модель CAdEx"
   ]
  },
  {
   "cell_type": "code",
   "execution_count": null,
   "id": "52e2ca08",
   "metadata": {},
   "outputs": [],
   "source": []
  }
 ],
 "metadata": {
  "jupytext": {
   "formats": "ipynb,md"
  },
  "kernelspec": {
   "display_name": "Python 3 (ipykernel)",
   "language": "python",
   "name": "python3"
  }
 },
 "nbformat": 4,
 "nbformat_minor": 5
}
