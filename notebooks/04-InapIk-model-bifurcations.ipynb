{
 "cells": [
  {
   "cell_type": "code",
   "execution_count": null,
   "id": "3f1b9391",
   "metadata": {},
   "outputs": [],
   "source": [
    "# check if notebook is running in Colab and install packages if it is\n",
    "RunningInCOLAB = 'google.colab' in str(get_ipython())\n",
    "\n",
    "if RunningInCOLAB:\n",
    "  ! pip install brian2\n",
    "  ! pip install pandas\n",
    "  ! wget https://raw.githubusercontent.com/abrazhe/nbpc-masters-ru/master/notebooks/input_factory.py\n",
    "  ! wget https://raw.githubusercontent.com/abrazhe/nbpc-masters-ru/master/notebooks/Rothman-Manis-2003-table1.csv"
   ]
  },
  {
   "cell_type": "markdown",
   "id": "f8064081",
   "metadata": {},
   "source": [
    "# Bifurcations in the Ina,p+Ik model\n"
   ]
  },
  {
   "cell_type": "code",
   "execution_count": null,
   "id": "4d7d284e",
   "metadata": {},
   "outputs": [],
   "source": [
    "%pylab inline\n",
    "\n",
    "#style.use('ggplot')\n",
    "#style.use('seaborn-muted')"
   ]
  },
  {
   "cell_type": "code",
   "execution_count": null,
   "id": "a84f9018",
   "metadata": {},
   "outputs": [],
   "source": [
    "rc('figure', dpi=150, figsize=(8,5))"
   ]
  },
  {
   "cell_type": "code",
   "execution_count": null,
   "id": "f26eec66",
   "metadata": {},
   "outputs": [],
   "source": [
    "from numba import jit"
   ]
  },
  {
   "cell_type": "code",
   "execution_count": null,
   "id": "9f100611",
   "metadata": {},
   "outputs": [],
   "source": [
    "def ensure_dir(f):\n",
    "        import os\n",
    "        d = os.path.dirname(f)\n",
    "        if not os.path.exists(d):\n",
    "                os.makedirs(d)\n",
    "        return f"
   ]
  },
  {
   "cell_type": "code",
   "execution_count": null,
   "id": "a684aecb",
   "metadata": {},
   "outputs": [],
   "source": [
    "# This set of parameters corresponds to SNIC\n",
    "napk_pset = dict(\n",
    "    I_bias = 0.0,\n",
    "    El = -80.0,\n",
    "    Ena = 60.0,\n",
    "    Ek = -90.0,\n",
    "    gl = 8.0,\n",
    "    gna = 20.0,\n",
    "    gk = 10.0,\n",
    "    ntau = 1.0,\n",
    "    minf_vhalf = -20.,\n",
    "    minfk = 15.,\n",
    "    ninf_vhalf = -25.,\n",
    "    ninfk = 5.0\n",
    ")\n",
    "\n",
    "SN_off = napk_pset.copy()   # Saddle-Node off limit cycle\n",
    "superAH = napk_pset.copy()  # Supercritical AH\n",
    "superAH2 = napk_pset.copy() # Supercritical AH v2\n",
    "subAH = napk_pset.copy()    # subcritical AH\n",
    "subAH2 = napk_pset.copy()   # subcritical AH (idential to Izhikevich 2007)\n",
    "\n",
    "\n",
    "SN_off.update(ntau=0.16)\n",
    "superAH.update(ninf_vhalf=-44,minf_k=10.)\n",
    "superAH2.update(ninf_vhalf=-44, gl=7, gna=19, ninfk=7, minf_k=10)\n",
    "subAH.update(gl=1.0, gna=4., gk=4., minf_vhalf=-30.,ninf_vhalf=-40., minfk=7.0)\n",
    "subAH2.update(gl=1.0, gna=4., gk=4., minf_vhalf=-30., minfk=7., ninf_vhalf=-45., El=-78.0,)"
   ]
  },
  {
   "cell_type": "code",
   "execution_count": null,
   "id": "f57df15d",
   "metadata": {},
   "outputs": [],
   "source": [
    "@jit\n",
    "def boltzman(v,vhalf,k):\n",
    "    return 1./(1.0 + exp((vhalf-v)/k))\n",
    "\n",
    "def locmax(v,th=-20):\n",
    "    allmax = where(diff(sign(diff(v)))<=-1)[0]+1\n",
    "    allmax = [a for a in allmax if v[a]>=th]\n",
    "    return array(allmax)"
   ]
  },
  {
   "cell_type": "code",
   "execution_count": null,
   "id": "e0bf0429",
   "metadata": {},
   "outputs": [],
   "source": [
    "from scipy.interpolate import UnivariateSpline as usp"
   ]
  },
  {
   "cell_type": "code",
   "execution_count": null,
   "id": "3eaee4cf",
   "metadata": {},
   "outputs": [],
   "source": [
    "def adams_bashforth(rhs, init_state, dt=0.025, tstart=0, tstop=500,  fnkwargs=None):\n",
    "    #f_buff = deque()\n",
    "    if fnkwargs is None:\n",
    "        fnkwargs = {}\n",
    "        \n",
    "    ndim = len(init_state)\n",
    "    tv = arange(tstart,tstop,dt)\n",
    "    xout = zeros((len(tv), ndim))\n",
    "    xout[0] = init_state\n",
    "    fprev = array(rhs(xout[0], tv[0], **fnkwargs))\n",
    "    xnew = xout[0] + dt*fprev\n",
    "    xout[1] = xnew\n",
    "    for k,t in enumerate(tv[1:-1]):\n",
    "        xprev,xcurr = xout[k:k+2]\n",
    "        fnew = array(rhs(xcurr, t,**fnkwargs))\n",
    "        xnew = xcurr + dt*(3*fnew/2.0 - fprev/2.0)\n",
    "        fprev = fnew\n",
    "        xout[k+2] = xnew\n",
    "    return tv, xout"
   ]
  },
  {
   "cell_type": "code",
   "execution_count": null,
   "id": "e3ba604e",
   "metadata": {},
   "outputs": [],
   "source": [
    "def I_pulse(tx, amp, start, stop,k=10):\n",
    "    return amp*0.5*(1 + tanh(k*(tx-start)) * tanh(k*(-tx+stop)))\n",
    "\n",
    "def I_ramp(tx, k, start=50,stop=1000):\n",
    "    #return  k*(tx-start)*I_pulse(tx, 1, start, stop)\n",
    "    return usp(tx, k*(tx-start)*I_pulse(tx, 1, start, stop),s=0)\n",
    "\n",
    "\n",
    "def make_pulses(tv, npulses=5, period=5, start=100, amp=5, width=1,steep=10.):\n",
    "    onsets = arange(start, start+npulses*period,period)\n",
    "    y = np.sum([I_pulse(tv, amp, on, on+width,k=steep) for on in onsets],0)\n",
    "    return usp(tv, y, s=0)\n",
    "\n",
    "def combine_interpolations(tv, signals):\n",
    "    y = np.sum([s(tv) for s in signals],0)\n",
    "    return usp(tv, y, s=0)\n",
    "\n",
    "class InapkNeuron:\n",
    "    def __init__(self, **params):\n",
    "        self.__dict__.update(params)\n",
    "        self.I_bias = 0\n",
    "    def minf(self, v):\n",
    "        return boltzman(v, self.minf_vhalf, self.minfk)\n",
    "    def ninf(self, v):\n",
    "        return boltzman(v, self.ninf_vhalf, self.ninfk)\n",
    "    def ina(self, v):\n",
    "        return self.gna*self.minf(v)*(v-self.Ena)\n",
    "    def ik(self, v, n):\n",
    "        return self.gk*n*(v-self.Ek)\n",
    "    def ileak(self,v):\n",
    "        return self.gl*(v-self.El)\n",
    "    def vnullcline(self, v):\n",
    "        return (self.I_bias - self.ina(v) - self.ileak(v))/(self.gk*(v-self.Ek))\n",
    "    def nnullcline(self, v, I=0):\n",
    "        return self.ninf(v)\n",
    "                                                  \n",
    "    def __call__(self, state, t, I_dyn=0):\n",
    "        v,n = state\n",
    "        I_app = self.I_bias\n",
    "        if I_dyn:\n",
    "            I_app += I_dyn(t)\n",
    "        dV = I_app - (self.ina(v) + self.ileak(v) + self.ik(v,n))\n",
    "        dn = (self.ninf(v)-n)/self.ntau\n",
    "        return np.array([dV, dn])\n",
    "\n",
    "def inapk_model(state, t, \n",
    "                El = -80.0, \n",
    "                I_bias = 0,\n",
    "                I_dyn = 0, \n",
    "                Ena = 60.0, \n",
    "                Ek = -90.0,\n",
    "                gl = 8.0,\n",
    "                gna = 20.0,\n",
    "                gk = 10.0,\n",
    "                ntau = 1.0,\n",
    "                minf_vhalf = -20.,\n",
    "                minfk = 15.,\n",
    "                ninf_vhalf = -25.,ninfk = 5.0):\n",
    "    v,n = state\n",
    "    minf = boltzman(v, minf_vhalf, minfk)\n",
    "    ninf = boltzman(v, ninf_vhalf, ninfk)\n",
    "    dn = (ninf-n)/ntau\n",
    "    I_app = I_bias #+ I_ramp(t, I_kramp)\n",
    "    if I_dyn:\n",
    "        I_app += I_dyn(t)\n",
    "    dV = I_app - (gna*minf*(v-Ena) + gk*n*(v-Ek) + gl*(v-El))\n",
    "    return np.array([dV,dn])"
   ]
  },
  {
   "cell_type": "code",
   "execution_count": null,
   "id": "17c8944a",
   "metadata": {},
   "outputs": [],
   "source": [
    "tx = arange(0,1000,0.1)\n",
    "Ipulses = make_pulses(tx,npulses=5,period=5,width=1)\n",
    "Ipulses2 = make_pulses(tx,npulses=5,period=2,width=1,start=150)\n",
    "\n",
    "Iapp =combine_interpolations(tx, (Ipulses, Ipulses2))\n",
    "\n",
    "plot(tx, Iapp(tx))\n",
    "xlim(90,160)\n",
    "xlabel('time, ms'); ylabel('Istim, a.u.')"
   ]
  },
  {
   "cell_type": "code",
   "execution_count": null,
   "id": "7c06e376",
   "metadata": {},
   "outputs": [],
   "source": [
    "Ibias_bif = 4.514\n",
    "Vrest = -63.8\n",
    "nrest = boltzman(Vrest, napk_pset['ninf_vhalf'],napk_pset['ninfk'])\n",
    "\n",
    "#pars = dict(I_bias=4,I_kramp=0.005)\n",
    "\n",
    "Ipulses = combine_interpolations(tx, \n",
    "                                 (make_pulses(tx,amp=10,npulses=10,period=p,start=100+50*k) \n",
    "                                  for k,p in enumerate([1.5, 2, 2.5, 3])))\n",
    "\n",
    "Ipulses2 = combine_interpolations(tx, \n",
    "                                 (make_pulses(tx,amp=6,npulses=5,period=p,start=100+(p*5+k*50)) \n",
    "                                  for k,p in enumerate([2,  3, 7.4,])))\n",
    "\n",
    "Ipulses3 = combine_interpolations(tx, [Ipulses2, \n",
    "                                       make_pulses(tx, amp=6, start=50,npulses=1),\n",
    "                                       make_pulses(tx, amp=-6, start=350,npulses=1),\n",
    "                                       make_pulses(tx, amp=-6, start=300,npulses=1),\n",
    "                                       make_pulses(tx, amp=6, start=355,npulses=1)])\n",
    "\n",
    "\n",
    "                                      \n",
    "pars=dict(I_dyn=Ipulses3)\n",
    "\n",
    "snic_neuron = InapkNeuron(**napk_pset)\n",
    "\n",
    "snoff_neuron = InapkNeuron(**SN_off)\n",
    "supAH_neuron = InapkNeuron(**superAH)\n",
    "\n",
    "subAH_neuron = InapkNeuron(**subAH)\n",
    "subAH2_neuron = InapkNeuron(**subAH2)"
   ]
  },
  {
   "cell_type": "markdown",
   "id": "8a1f0469",
   "metadata": {},
   "source": [
    "## Threshold manifolds"
   ]
  },
  {
   "cell_type": "code",
   "execution_count": null,
   "id": "49ac42f9",
   "metadata": {},
   "outputs": [],
   "source": [
    "Vv = arange(-80, 10)\n",
    "\n",
    "snic_neuron.I_bias = 0\n",
    "\n",
    "plot(Vv, snic_neuron.vnullcline(Vv),lw=2)\n",
    "plot(Vv, snic_neuron.nnullcline(Vv),lw=2)"
   ]
  },
  {
   "cell_type": "code",
   "execution_count": null,
   "id": "2dd731e9",
   "metadata": {},
   "outputs": [],
   "source": [
    "def test_init_state(neuron, state,tstop=100):\n",
    "    tvx, outx = adams_bashforth(neuron, state,tstop=tstop)\n",
    "    return np.max(outx[:,0])\n",
    "\n",
    "def test_init_state2(neuron, state,tstop=200):\n",
    "    tvx, outx = adams_bashforth(neuron, state,tstop=tstop)\n",
    "    tail = (outx[:,0][tvx>100])\n",
    "    return amax(tail)-amin(tail)"
   ]
  },
  {
   "cell_type": "code",
   "execution_count": null,
   "id": "d699e83c",
   "metadata": {},
   "outputs": [],
   "source": [
    "def prep_phase_portrait(neuron, ax=None):\n",
    "    if ax is None:\n",
    "        f,ax = subplots(1,1)\n",
    "    Vv = arange(-80, 10)\n",
    "    ax.plot(Vv, neuron.vnullcline(Vv),lw=2,color='#ff6600')\n",
    "    ax.plot(Vv, neuron.nnullcline(Vv),lw=2,color='#2a7fff')\n",
    "    setp(ax, ylabel = 'Ik activation', xlabel='membrane potential [mV]')\n",
    "    ax.axis([-80,10,-0.1,1])\n",
    "    return ax\n",
    "    \n",
    "    \n",
    "\n",
    "def map_trajectories(neuron, \n",
    "                     voltages=linspace(-80,-30,10),\n",
    "                     activations =  linspace(0, 0.5, 10)):\n",
    "    ax = prep_phase_portrait(neuron)\n",
    "    for v in voltages:\n",
    "        for n in activations:\n",
    "            _, traj = adams_bashforth(neuron, array([v,n]), tstop=100)\n",
    "            ax.plot(traj[:,0],traj[:,1], color='k',alpha=0.1)\n",
    "            ax.plot(traj[0,0],traj[0,1],marker='s',ms=1,mfc='y',mec='y')\n",
    "            ax.plot(traj[-1,0],traj[-1,1],color='m',marker='.')\n",
    "            \n",
    "    "
   ]
  },
  {
   "cell_type": "code",
   "execution_count": null,
   "id": "bfc6bf00",
   "metadata": {},
   "outputs": [],
   "source": [
    "\n",
    "%time map_trajectories(snic_neuron)\n",
    "title('phase trajectories near SNIC bifurcation')"
   ]
  },
  {
   "cell_type": "code",
   "execution_count": null,
   "id": "eddfb7d5",
   "metadata": {},
   "outputs": [],
   "source": [
    "snoff_neuron.I_bias = 3.\n",
    "%time map_trajectories(snoff_neuron)\n",
    "title('phase trajectories near SN bifurcation')"
   ]
  },
  {
   "cell_type": "code",
   "execution_count": null,
   "id": "db0dcc4f",
   "metadata": {},
   "outputs": [],
   "source": [
    "superAH"
   ]
  },
  {
   "cell_type": "code",
   "execution_count": null,
   "id": "c189a703",
   "metadata": {},
   "outputs": [],
   "source": [
    "supAH2_neuron = InapkNeuron(**superAH2)\n",
    "\n",
    "\n",
    "supAH2_neuron.I_bias=33\n",
    "\n",
    "\n",
    "#t,traj = adams_bashforth(supAH2_neuron, [-80,0.1],tstop=200)\n",
    "#plot(t, traj[:,0])\n",
    "\n",
    "#prep_phase_portrait(supAH2_neuron)"
   ]
  },
  {
   "cell_type": "code",
   "execution_count": null,
   "id": "a85ab51e",
   "metadata": {},
   "outputs": [],
   "source": [
    "#supAH_neuron.I_bias = 23\n",
    "\n",
    "\n",
    "%time map_trajectories(supAH2_neuron)\n",
    "title('phase trajectories near supAH bifurcation')"
   ]
  },
  {
   "cell_type": "code",
   "execution_count": null,
   "id": "9a32014c",
   "metadata": {},
   "outputs": [],
   "source": [
    "subAH2_neuron.I_bias = 43\n",
    "\n",
    "%time map_trajectories(subAH2_neuron)\n",
    "\n",
    "title('phase trajectories near subAH bifurcation')"
   ]
  },
  {
   "cell_type": "markdown",
   "id": "7fb7de6a",
   "metadata": {},
   "source": [
    "## Response to short pulse batches"
   ]
  },
  {
   "cell_type": "code",
   "execution_count": null,
   "id": "a98f7506",
   "metadata": {},
   "outputs": [],
   "source": [
    "ensure_dir('outputs/')"
   ]
  },
  {
   "cell_type": "code",
   "execution_count": null,
   "id": "e89739e5",
   "metadata": {},
   "outputs": [],
   "source": [
    "%%time \n",
    "\n",
    "init_state = [-63.8, snic_neuron.ninf(-63.8)]\n",
    "init_state2=[-53.9,  subAH_neuron.ninf(-53.9)]\n",
    "\n",
    "snic_neuron.I_bias = 3\n",
    "subAH_neuron.I_bias = 19\n",
    "\n",
    "tvx, outx = adams_bashforth(snic_neuron, init_state, fnkwargs=pars,tstop=400)\n",
    "tvx2, outx2 = adams_bashforth(subAH_neuron, init_state2, fnkwargs=pars,tstop=400)\n",
    "\n",
    "f,axs = subplots(3,1,sharex=True,figsize=(16,9))\n",
    "\n",
    "axs[0].plot(tvx, outx[:,0],color='orange',label='integrator (SNIC)')\n",
    "axs[1].plot(tvx2, outx2[:,0],color='royalblue',label='resonator (subAH)')\n",
    "\n",
    "axs[0].legend(loc='upper left')\n",
    "axs[1].legend(loc='upper left')\n",
    "\n",
    "\n",
    "axs[2].plot(tvx2, Ipulses3(tvx2),color='gray',)\n",
    "#xlim(330,360)\n",
    "ylim(-6.5, 6.5)\n",
    "axs[0].set_ylabel('Vm [mv]')\n",
    "axs[1].set_ylabel('Vm [mv]')\n",
    "\n",
    "ylabel('Iapp [a.u.]')\n",
    "xlabel('time [ms]')\n",
    "#axs[1].set_ylim(-60,-50)\n",
    "savefig('outputs/integrator-vs-resonator-inapk.svg')\n",
    "#savefig('outputs/integrator-vs-resonator-inapk.p')"
   ]
  },
  {
   "cell_type": "markdown",
   "id": "09b4a991",
   "metadata": {},
   "source": [
    "# Slow modulation"
   ]
  },
  {
   "cell_type": "code",
   "execution_count": null,
   "id": "43e0fa45",
   "metadata": {},
   "outputs": [],
   "source": [
    "snic_neuron.I_bias = 0"
   ]
  },
  {
   "cell_type": "code",
   "execution_count": null,
   "id": "6303eaba",
   "metadata": {},
   "outputs": [],
   "source": [
    "i_stim =   make_pulses(tx, 8, amp=5, period=100, width=50,steep=0.2)"
   ]
  },
  {
   "cell_type": "code",
   "execution_count": null,
   "id": "104756ab",
   "metadata": {},
   "outputs": [],
   "source": [
    "plot(tx, i_stim(tx))\n",
    "xlabel('time, ms'); ylabel('Stim current, a.u.')"
   ]
  },
  {
   "cell_type": "code",
   "execution_count": null,
   "id": "3a1b1f2d",
   "metadata": {},
   "outputs": [],
   "source": [
    "init_state = [-60, 0.01]"
   ]
  },
  {
   "cell_type": "code",
   "execution_count": null,
   "id": "af462af4",
   "metadata": {},
   "outputs": [],
   "source": [
    "def plot_with_i_dyn(neuron, init_tate, stim,tstop=1000,title=\"\"):\n",
    "    t,traj = adams_bashforth(neuron, init_state, tstop=tstop, fnkwargs=dict(I_dyn=stim))\n",
    "\n",
    "    figure(figsize=(14,6))\n",
    "\n",
    "    ax1 = subplot2grid((4,1), (0,0), rowspan=3)\n",
    "    ax2 = subplot2grid((4,1), (3,0))\n",
    "\n",
    "    ax1.plot(t, traj[:,0],'royalblue')\n",
    "    setp(ax1, ylim=(-80,15), xticklabels=[], ylabel='membrane potential [mV]')\n",
    "    \n",
    "    ystim = stim(t) + neuron.I_bias\n",
    "    ax2.plot(t, ystim,'gray')\n",
    "    \n",
    "    stim_range = abs(amax(ystim)-amin(ystim))\n",
    "    ylim = (amin(ystim)-0.1*stim_range, amax(ystim)+0.1*stim_range)\n",
    "    setp(ax2, ylim=ylim, xlabel='time [ms]', ylabel='I stim [a.u.]')\n",
    "\n",
    "    ax1.set_title(title)\n",
    "    #ax1.set_title()"
   ]
  },
  {
   "cell_type": "code",
   "execution_count": null,
   "id": "a6da7c3e",
   "metadata": {},
   "outputs": [],
   "source": [
    "snic_neuron.I_bias=3\n",
    "plot_with_i_dyn(snic_neuron, init_state, i_stim, title=\"Forced bursting in Ina,p+Ik model near SNIC\")"
   ]
  },
  {
   "cell_type": "code",
   "execution_count": null,
   "id": "4cf1e52b",
   "metadata": {},
   "outputs": [],
   "source": [
    "snic_neuron.I_bias=3\n",
    "plot_with_i_dyn(snic_neuron, init_state, i_stim,title=\"\",tstop=500)\n",
    "for ax in gcf().axes:\n",
    "    ax.set_xlim(280,380)\n",
    "    \n",
    "for ax in gcf().axes:\n",
    "    ax.set_xlim(280,380)\n",
    "    \n",
    "setp(gcf(), size_inches=(8,8))"
   ]
  },
  {
   "cell_type": "code",
   "execution_count": null,
   "id": "1f96328e",
   "metadata": {},
   "outputs": [],
   "source": [
    "snoff_neuron.I_bias=0\n",
    "plot_with_i_dyn(snoff_neuron, init_state, i_stim,\n",
    "                title=\"Forced bursting in Ina,p+Ik model near SN off limit cycle\")"
   ]
  },
  {
   "cell_type": "code",
   "execution_count": null,
   "id": "95f38ddc",
   "metadata": {},
   "outputs": [],
   "source": [
    "snoff_neuron.I_bias=0\n",
    "plot_with_i_dyn(snoff_neuron, init_state, i_stim,\n",
    "                title=\"\")\n",
    "\n",
    "for ax in gcf().axes:\n",
    "    ax.set_xlim(280,380)\n",
    "    \n",
    "setp(gcf(), size_inches=(8,8))"
   ]
  },
  {
   "cell_type": "code",
   "execution_count": null,
   "id": "ccd4bb59",
   "metadata": {},
   "outputs": [],
   "source": [
    "supAH2_neuron.I_bias=10\n",
    "\n",
    "_,traj = adams_bashforth(subAH2_neuron, [-50.6,0.2459],tstop=200)\n",
    "init_state_supAH = traj[-1]\n",
    "print( init_state_supAH)\n",
    "\n",
    "plot_with_i_dyn(supAH2_neuron, init_state_supAH, \n",
    "                usp(tx,7*i_stim(tx)+0.05*randn(len(tx)),s=0),\n",
    "                title=\"Forced bursting in Ina,p+Ik model near supAH\")"
   ]
  },
  {
   "cell_type": "code",
   "execution_count": null,
   "id": "24684de1",
   "metadata": {},
   "outputs": [],
   "source": [
    "plot_with_i_dyn(supAH2_neuron, init_state_supAH, \n",
    "                usp(tx,7*i_stim(tx)+0.05*randn(len(tx)),s=0),\n",
    "                title=\"\")\n",
    "\n",
    "for ax in gcf().axes:\n",
    "    ax.set_xlim(280,380)\n",
    "    \n",
    "setp(gcf(), size_inches=(8,8))"
   ]
  },
  {
   "cell_type": "code",
   "execution_count": null,
   "id": "46ed6ac8",
   "metadata": {},
   "outputs": [],
   "source": [
    "subAH2_neuron.I_bias=40\n",
    "\n",
    "_,traj = adams_bashforth(subAH2_neuron, [-50.6,0.2459],tstop=200)\n",
    "init_state_subAH = traj[-1]\n",
    "print( init_state_subAH)\n",
    "\n",
    "plot_with_i_dyn(subAH2_neuron, init_state_subAH, \n",
    "                usp(tx,5*i_stim(tx)+0.05*randn(len(tx)),s=0),\n",
    "                title=\"Forced bursting in Ina,p+Ik model near subAH\")"
   ]
  },
  {
   "cell_type": "code",
   "execution_count": null,
   "id": "cb632ce8",
   "metadata": {},
   "outputs": [],
   "source": [
    "plot_with_i_dyn(subAH2_neuron, init_state_subAH, \n",
    "                usp(tx,5*i_stim(tx)+0.05*randn(len(tx)),s=0),\n",
    "                title=\"\")\n",
    "\n",
    "for ax in gcf().axes:\n",
    "    ax.set_xlim(280,380)\n",
    "    \n",
    "setp(gcf(), size_inches=(8,8))"
   ]
  },
  {
   "cell_type": "markdown",
   "id": "42c8f354",
   "metadata": {},
   "source": [
    "# Response to noise"
   ]
  },
  {
   "cell_type": "code",
   "execution_count": null,
   "id": "78d1f143",
   "metadata": {},
   "outputs": [],
   "source": [
    "tx[-1]"
   ]
  },
  {
   "cell_type": "code",
   "execution_count": null,
   "id": "9baaf6fe",
   "metadata": {},
   "outputs": [],
   "source": [
    "tx = arange(0,100*1000,0.1)\n",
    "i_stim_noise = usp(tx[::10],randn(len(tx[::10])),s=0)"
   ]
  },
  {
   "cell_type": "code",
   "execution_count": null,
   "id": "2bee02de",
   "metadata": {},
   "outputs": [],
   "source": [
    "snoff_neuron.I_bias = 3.9\n",
    "_,traj = adams_bashforth(snoff_neuron, init_state,tstop=200)\n",
    "init_state_snoff = traj[-1]\n",
    "\n",
    "\n",
    "print (init_state_snoff)"
   ]
  },
  {
   "cell_type": "code",
   "execution_count": null,
   "id": "8e38bdb8",
   "metadata": {},
   "outputs": [],
   "source": [
    "\n",
    "plot_with_i_dyn(snoff_neuron, init_state_snoff, i_stim_noise,tstop=1e4-1,\n",
    "                title='noise response near SN (off limit cycle)')\n",
    "#gcf().axes[1].set_ylim(2,6)\n",
    "#for ax in gcf().axes:\n",
    "#    ax.set_xlim(350,450)\n"
   ]
  },
  {
   "cell_type": "code",
   "execution_count": null,
   "id": "c7d7b0b9",
   "metadata": {},
   "outputs": [],
   "source": [
    "%%time \n",
    "\n",
    "snic_neuron.I_bias=3.9\n",
    "\n",
    "_,traj = adams_bashforth(snic_neuron, init_state,tstop=200)\n",
    "init_state_snic = traj[-1]\n",
    "\n",
    "\n",
    "plot_with_i_dyn(snic_neuron, init_state_snic, i_stim_noise,tstop=10000-1,\n",
    "                title='noise response near SNIC')\n",
    "#gcf().axes[1].set_ylim(2,6)"
   ]
  },
  {
   "cell_type": "code",
   "execution_count": null,
   "id": "37acd5e7",
   "metadata": {},
   "outputs": [],
   "source": [
    "%time t,traj = adams_bashforth(snic_neuron, init_state,fnkwargs=dict(I_dyn=i_stim_noise),tstop=1e5-1)\n",
    "\n",
    "dt = t[1]-t[0]\n",
    "spikes = locmax(traj[:,0])*dt\n",
    "isi = diff(spikes)"
   ]
  },
  {
   "cell_type": "code",
   "execution_count": null,
   "id": "27dd29de",
   "metadata": {},
   "outputs": [],
   "source": [
    "figure(figsize=(16,3))\n",
    "plot(t,traj[:,0],color='gray')\n",
    "plot(spikes, ones(len(spikes)), 'r|',markersize=10)\n",
    "xlim(4e4,5e4)"
   ]
  },
  {
   "cell_type": "code",
   "execution_count": null,
   "id": "9cf3a787",
   "metadata": {},
   "outputs": [],
   "source": [
    "amax(isi)"
   ]
  },
  {
   "cell_type": "code",
   "execution_count": null,
   "id": "26ed89ea",
   "metadata": {},
   "outputs": [],
   "source": [
    "_ = hist(isi, 100, range=(0,800))"
   ]
  },
  {
   "cell_type": "code",
   "execution_count": null,
   "id": "5e0e9bbc",
   "metadata": {},
   "outputs": [],
   "source": [
    "subAH_neuron.I_bias=21.2\n",
    "\n",
    "_,traj = adams_bashforth(subAH_neuron, init_state,tstop=200)\n",
    "init_state_subAH = traj[-1]\n",
    "print( init_state_subAH)\n",
    "\n",
    "plot_with_i_dyn(subAH_neuron, init_state_subAH, i_stim_noise,tstop=1e4-1,\n",
    "                title='noise response near subAH [?]')\n",
    "#gcf().axes[1].set_ylim(2,6)"
   ]
  },
  {
   "cell_type": "code",
   "execution_count": null,
   "id": "038bfe99",
   "metadata": {},
   "outputs": [],
   "source": [
    "subAH2_neuron.I_bias=45.\n",
    "\n",
    "_,traj = adams_bashforth(subAH2_neuron, [-50.6,0.2459],tstop=200)\n",
    "init_state_subAH = traj[-1]\n",
    "print (init_state_subAH)\n",
    "\n",
    "plot_with_i_dyn(subAH2_neuron, init_state_subAH, i_stim_noise,tstop=1e4-1,\n",
    "                title='noise response near subAH')\n",
    "#gcf().axes[1].set_ylim(2,6)"
   ]
  },
  {
   "cell_type": "code",
   "execution_count": null,
   "id": "0785f6ac",
   "metadata": {},
   "outputs": [],
   "source": [
    "supAH2_neuron.I_bias=38\n",
    "\n",
    "_,traj = adams_bashforth(supAH2_neuron, init_state,tstop=200)\n",
    "init_state_supAH = traj[-1]\n",
    "print( init_state_supAH)\n",
    "\n",
    "\n",
    "plot_with_i_dyn(supAH2_neuron, init_state_supAH, i_stim_noise,tstop=1e4-1,\n",
    "                title='noise response near supAH')"
   ]
  },
  {
   "cell_type": "markdown",
   "id": "5b8ccbd7",
   "metadata": {},
   "source": [
    "**Exercise:** Build interspike interval historgrams for all bifurcation types."
   ]
  },
  {
   "cell_type": "markdown",
   "id": "178bf883",
   "metadata": {},
   "source": [
    "## Response to steps"
   ]
  },
  {
   "cell_type": "code",
   "execution_count": null,
   "id": "9cc39299",
   "metadata": {},
   "outputs": [],
   "source": [
    "#from imfun import ui"
   ]
  },
  {
   "cell_type": "code",
   "execution_count": null,
   "id": "388a3510",
   "metadata": {},
   "outputs": [],
   "source": [
    "def calc_steps(neuron, modifier = None):\n",
    "    acc = []\n",
    "    Vrest = -65\n",
    "    if modifier is None:\n",
    "        modifier={}\n",
    "    iamps = Ibias_bif*1.01 + logspace(0, 6,5,base=2)-1\n",
    "    \n",
    "    ib = neuron.I_bias\n",
    "    neuron.I_bias = 0\n",
    "    \n",
    "\n",
    "    for iamp in iamps:\n",
    "        #print iamp\n",
    "        Iapp = usp(tx, I_pulse(tx, iamp, 50, 550),s=0)\n",
    "        pars = dict(I_dyn=Iapp)\n",
    "        nrest = neuron.ninf(Vrest)\n",
    "        st_init = array([Vrest, nrest])\n",
    "        tvx, outx = adams_bashforth(neuron, st_init, fnkwargs=pars, tstop=600)\n",
    "        acc.append(outx[:,0])\n",
    "    \n",
    "    neuron.I_bias = ib\n",
    "    return tvx,array(acc),iamps\n",
    "\n",
    "    \n",
    "               "
   ]
  },
  {
   "cell_type": "code",
   "execution_count": null,
   "id": "ab95abde",
   "metadata": {},
   "outputs": [],
   "source": [
    "def plot_coll(vecs,x=None,sep=None,positions=None,colors=None,\n",
    "              ax = None,\n",
    "              figsize=None,\n",
    "              frame_on=False,\n",
    "              labels = None,\n",
    "              xshift=0,\n",
    "              fill_alpha=0.85,\n",
    "              line_color='w',\n",
    "              do_fill = False,\n",
    "              **kwargs):\n",
    "\n",
    "\n",
    "    if sep is None:\n",
    "        mean_range = np.mean([np.max(v)-np.min(v) for v in vecs])\n",
    "        sep = 0.05*mean_range\n",
    "\n",
    "    if colors is None: colors = 'b'\n",
    "    if labels is None: labels = [None]*len(vecs)\n",
    "    if isinstance(colors, str):\n",
    "        c = colors\n",
    "        colors = (c for i in range(int(1e6)))\n",
    "    if positions is None:\n",
    "        prevpos,positions = 0,[0]\n",
    "        ranges = [(v.min(),v.max()) for v in vecs]\n",
    "        for r,rnext,v in zip(ranges, ranges[1:],vecs):\n",
    "            pos = prevpos + r[1] + sep -np.min(rnext[0])\n",
    "            positions.append(pos)\n",
    "            prevpos = pos\n",
    "    Lmin = np.min(list(map(len, vecs)))\n",
    "    Lmax = np.max(list(map(len, vecs)))\n",
    "    if x is None:\n",
    "        x = np.arange(Lmax)\n",
    "    else:\n",
    "        if len(x) > Lmax:\n",
    "            x = x[:Lmax]\n",
    "        else:\n",
    "            x = np.pad(x, (0, Lmax-len(x)), mode='linear_ramp')\n",
    "    if ax is None:\n",
    "        f,ax = plt.subplots(1,1,figsize=figsize)\n",
    "\n",
    "    zorder = 0\n",
    "    for v,p,c,l in zip(vecs,positions[::-1],colors,labels):\n",
    "        zorder += 1\n",
    "        if len(v) < Lmax:\n",
    "            vpadded = np.pad(v, (0, Lmax-len(v)), mode='constant')\n",
    "        else:\n",
    "            vpadded = v\n",
    "        ax.plot(x + xshift*zorder, vpadded+p, color=line_color, label=l,zorder=zorder, **kwargs)\n",
    "        if do_fill:\n",
    "            ax.fill_between(x + xshift*zorder, p, vpadded+p, color=c, alpha=fill_alpha,zorder=zorder )\n",
    "        #a.axhline(p, color='b')\n",
    "    plt.setp(ax, yticks=[],frame_on=frame_on)\n",
    "    ax.axis('tight')\n",
    "    return ax, positions\n"
   ]
  },
  {
   "cell_type": "code",
   "execution_count": null,
   "id": "fe856030",
   "metadata": {},
   "outputs": [],
   "source": [
    "tvx,resp_1,iamps = calc_steps(snic_neuron)\n",
    "tvx,resp_2,iamsp = calc_steps(supAH_neuron)"
   ]
  },
  {
   "cell_type": "code",
   "execution_count": null,
   "id": "257fc5ef",
   "metadata": {},
   "outputs": [],
   "source": [
    "#f, axs = subplots(2,1,sharex=True,figsize=(16,12))\n",
    "\n",
    "figure(figsize=(16,9))\n",
    "ax1 = plt.subplot2grid((4,2), (0,0), rowspan=3)\n",
    "ax2 = plt.subplot2grid((4,2),(3,0),)\n",
    "\n",
    "ax3 = plt.subplot2grid((4,2), (0,1), rowspan=3)\n",
    "ax4 = plt.subplot2grid((4,2),(3,1),)\n",
    "\n",
    "\n",
    "labels=['%1.1f'%i for i in iamps]\n",
    "\n",
    "plot_coll(resp_1[::-1], x=tvx,ax=ax1,frame_on=True,line_color='orange',sep=50, do_fill=False)\n",
    "plot_coll(resp_2[::-1], x=tvx,ax=ax3,frame_on=True,line_color='royalblue',sep=70, do_fill=False)\n",
    "\n",
    "setp(ax1, ylim = (-150, 600), ylabel='Vm [mV]', title='Class 1 response')\n",
    "setp(ax3, ylim = (-150, 500), title='Class 2 response')\n",
    "\n",
    "setp(ax2, xlabel='time [ms]', ylabel = 'Iapp [a.u.]')\n",
    "\n",
    "#ax1.legend()\n",
    "\n",
    "for line,label in zip(ax1.lines,labels[::-1]):\n",
    "    yl = line.get_ydata()[0]\n",
    "    ax1.text(5, yl+10, label)\n",
    "\n",
    "for line,label in zip(ax3.lines,labels[::-1]):\n",
    "    yl = line.get_ydata()[0]\n",
    "    ax3.text(5, yl+10, label)\n",
    "    \n",
    "\n",
    "for i in iamps:\n",
    "    y = usp(tx, I_pulse(tx, i, 50, 559),s=0)\n",
    "    \n",
    "    ax2.plot(tvx, y(tvx),color=(0.1,0.1,0.1))\n",
    "    ax4.plot(tvx, y(tvx),color=(0.1,0.1,0.1))\n",
    "#ylim(-1,55)\n",
    "\n",
    "savefig('outputs/class1-2-responses-inapk.png')\n",
    "savefig('outputs/class1-2-responses-inapk.svg')"
   ]
  },
  {
   "cell_type": "code",
   "execution_count": null,
   "id": "0257406b",
   "metadata": {},
   "outputs": [],
   "source": [
    "def find_spiking_freq(neuron,Iv,T_cut = 500):\n",
    "    acc = []\n",
    "    _,traj = adams_bashforth(neuron, [-60,0.5], tstop=100)\n",
    "    init_state = traj[-1]\n",
    "    ib = neuron.I_bias\n",
    "    for i in Iv:\n",
    "        neuron.I_bias = i\n",
    "        tvx_, outx_ = adams_bashforth(neuron, init_state,tstop=1000)\n",
    "        v = outx_[:,0]\n",
    "        kk = locmax(v)\n",
    "        tlocs = array([tvx_[k] for k in kk])\n",
    "        \n",
    "        if len(tlocs) and any(tlocs>T_cut):\n",
    "            ff = 1000./mean(diff(tlocs[tlocs>T_cut]))\n",
    "        else:\n",
    "            ff = 0\n",
    "        #print i, len(tlocs), min(tlocs),max(tlocs)\n",
    "        acc.append(ff)\n",
    "    neuron.I_bias = ib\n",
    "    return array(acc)\n",
    "    "
   ]
  },
  {
   "cell_type": "code",
   "execution_count": null,
   "id": "3c036b9b",
   "metadata": {},
   "outputs": [],
   "source": [
    "tx = linspace(0,1000,200)\n",
    "Iv = 4 + 0.005*(tx-50)*I_pulse(tx, 1, 50, 4000)\n",
    "%time ffv = find_spiking_freq(snic_neuron, Iv)"
   ]
  },
  {
   "cell_type": "code",
   "execution_count": null,
   "id": "1682627e",
   "metadata": {},
   "outputs": [],
   "source": [
    "plot(Iv, ffv)"
   ]
  },
  {
   "cell_type": "code",
   "execution_count": null,
   "id": "ae593966",
   "metadata": {},
   "outputs": [],
   "source": [
    "snic_neuron.I_bias = 0"
   ]
  },
  {
   "cell_type": "code",
   "execution_count": null,
   "id": "1a794830",
   "metadata": {},
   "outputs": [],
   "source": [
    "f, axs = subplots(3,1,figsize=(12,6), sharex=True)\n",
    "\n",
    "\n",
    "tvx, outx = adams_bashforth(snic_neuron, [-65, 0.5],tstop=100)\n",
    "init_state = outx[-1]\n",
    "\n",
    "tvx, outx = adams_bashforth(snic_neuron, init_state, tstop=1000, fnkwargs=dict(I_dyn=usp(tx, Iv,s=0)))\n",
    "\n",
    "V = outx[:,0]\n",
    "axs[0].plot(tvx, V, color='black')\n",
    "axs[1].plot(tx,Iv)\n",
    "\n",
    "tlocs = [tvx[k] for k in locmax(V)]\n",
    "ffv2 = 1000./diff(tlocs)\n",
    "\n",
    "\n",
    "axs[2].plot(tlocs[:-1], ffv2,'-',color='skyblue',lw=2)\n",
    "ylim(0,150)"
   ]
  },
  {
   "cell_type": "code",
   "execution_count": null,
   "id": "386a27a5",
   "metadata": {},
   "outputs": [],
   "source": []
  },
  {
   "cell_type": "code",
   "execution_count": null,
   "id": "266a3202",
   "metadata": {},
   "outputs": [],
   "source": [
    "plot(Iv, ffv,'.',color='skyblue',)\n",
    "#axs[2].plot(tlocs[:-1], ffv2,'.',color='skyblue',)\n",
    "ylim(0,300)\n",
    "xlabel('applied current')\n",
    "ylabel('spiking frequency')\n",
    "title(\"F-I curve, type 1 excitability\")\n",
    "savefig('outputs/F-I_curve_class1-inapk.svg')"
   ]
  },
  {
   "cell_type": "code",
   "execution_count": null,
   "id": "f559f044",
   "metadata": {},
   "outputs": [],
   "source": [
    "#pars = dict(I_bias=6,I_kramp=0.05)\n",
    "\n",
    "Iv2 = 4 + 0.05*(tx-10)*I_pulse(tx, 1, 10, 4000)\n",
    "\n",
    "supAH_neuron.I_bias = 0\n",
    "\n",
    "stim = usp(tx, Iv2+0.05*randn(len(tx)),s=0)\n",
    "\n",
    "tvx1, outx1 = adams_bashforth(snic_neuron, init_state, fnkwargs=dict(I_dyn=stim),tstop=1000)\n",
    "tvx2, outx2 = adams_bashforth(supAH_neuron, init_state, fnkwargs=dict(I_dyn=stim),tstop=1000)"
   ]
  },
  {
   "cell_type": "code",
   "execution_count": null,
   "id": "8ac69b05",
   "metadata": {},
   "outputs": [],
   "source": [
    "f, axs = subplots(3,1,figsize=(12,6), sharex=True)\n",
    "\n",
    "V = outx2[:,0]\n",
    "axs[0].plot(tvx2, V, color='black')\n",
    "axs[1].plot(tx,Iv2)\n",
    "\n",
    "axs[0].set_ylabel('V [mV]')\n",
    "axs[1].set_ylabel('I app, a.u.')\n",
    "axs[2].set_ylabel('F [Hz]')\n",
    "\n",
    "\n",
    "\n",
    "tlocs = [tvx2[k] for k in locmax(V,-30)]\n",
    "print (len(tlocs))\n",
    "ffvx = 1000./diff(tlocs)\n",
    "\n",
    "\n",
    "axs[2].plot(tlocs[:-1], ffvx,'-',color='skyblue',lw=2)\n",
    "ylim(0,300)"
   ]
  },
  {
   "cell_type": "code",
   "execution_count": null,
   "id": "c1ef4772",
   "metadata": {},
   "outputs": [],
   "source": [
    "%time ffv2 = find_spiking_freq(supAH_neuron, Iv2)\n",
    "%time ffv3 = find_spiking_freq(snic_neuron, Iv2)"
   ]
  },
  {
   "cell_type": "code",
   "execution_count": null,
   "id": "32809a4d",
   "metadata": {},
   "outputs": [],
   "source": [
    "plot(Iv2, ffv2,'.',color='skyblue',)\n",
    "#axs[2].plot(tlocs[:-1], ffv2,'.',color='skyblue',)\n",
    "ylim(0,300)\n",
    "xlabel('applied current')\n",
    "ylabel('spiking frequency')\n",
    "title(\"F-I curve, type 2 excitability\")\n",
    "savefig('outputs/F-I_curve_class2-inapk.svg')"
   ]
  },
  {
   "cell_type": "code",
   "execution_count": null,
   "id": "a4a93a0a",
   "metadata": {},
   "outputs": [],
   "source": [
    "f, axs = subplots(1,2,sharey=True,sharex=True,figsize=(12,6))\n",
    "\n",
    "axs[0].plot(Iv2, ffv3,'.',color='skyblue',)\n",
    "axs[1].plot(Iv2, ffv2,'.',color='skyblue',)\n",
    "#axs[2].plot(tlocs[:-1], ffv2,'.',color='skyblue',)\n",
    "ylim(0,300)\n",
    "axs[0].set_xlabel('applied current [a.u.]')\n",
    "axs[1].set_xlabel('applied current [a.u.]')\n",
    "\n",
    "axs[0].set_ylabel('spiking frequency [Hz]')\n",
    "axs[0].set_title(\"class 1 excitability\")\n",
    "axs[1].set_title(\"class 2 excitability\")\n",
    "savefig('outputs/F-I_curves_both-inapk.svg')"
   ]
  },
  {
   "cell_type": "code",
   "execution_count": null,
   "id": "e88b5157",
   "metadata": {},
   "outputs": [],
   "source": []
  },
  {
   "cell_type": "code",
   "execution_count": null,
   "id": "e034c35e",
   "metadata": {},
   "outputs": [],
   "source": []
  },
  {
   "cell_type": "code",
   "execution_count": null,
   "id": "172e1a3c",
   "metadata": {},
   "outputs": [],
   "source": []
  }
 ],
 "metadata": {
  "jupytext": {
   "formats": "ipynb,md"
  },
  "kernelspec": {
   "display_name": "Python 3 (ipykernel)",
   "language": "python",
   "name": "python3"
  }
 },
 "nbformat": 4,
 "nbformat_minor": 5
}
